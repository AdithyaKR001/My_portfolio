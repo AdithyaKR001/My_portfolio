{
 "cells": [
  {
   "cell_type": "markdown",
   "metadata": {},
   "source": [
    "# <b><u>Advanced Regression:</b></u>\n",
    "## US-based housing company :\n",
    "## <b><u>Aim:</b></u>\n",
    "### <ol>1. To build a regression model using regularisation to predict the actual value of prospective properties.</ol>\n",
    "### <ol>2. Based on the model, to decide whether to invest in the purchase of these prospective properties or not."
   ]
  },
  {
   "cell_type": "markdown",
   "metadata": {},
   "source": [
    "## <b><u>Problem solving steps:</b></u>\n",
    "### <ol>1. Initial analysis and data cleanup.</ol>\n",
    "### <ol>2. Data visualization.</ol>\n",
    "### <ol>3. Training and testing data creation.</ol>\n",
    "### <ol>4. Model building using Ridge regression.</ol>\n",
    "### <ol>5. Model building using Lasso Regression.</ol>\n"
   ]
  },
  {
   "cell_type": "markdown",
   "metadata": {},
   "source": [
    "## Step 1: <b><u>Initial analysis,data cleanup and new feature creation:</b></u>"
   ]
  },
  {
   "cell_type": "code",
   "execution_count": null,
   "metadata": {},
   "outputs": [],
   "source": [
    "# Import the necessary libraries\n",
    "import numpy as np\n",
    "import pandas as pd\n",
    "import seaborn as sns\n",
    "import matplotlib.pyplot as plt\n",
    "from matplotlib import colors\n",
    "import warnings\n",
    "from sklearn.model_selection import train_test_split\n",
    "from sklearn.preprocessing import MinMaxScaler\n",
    "import statsmodels.api as sm\n",
    "from statsmodels.stats.outliers_influence import variance_inflation_factor\n",
    "from sklearn.feature_selection import RFE\n",
    "from sklearn.linear_model import Ridge\n",
    "from sklearn.linear_model import Lasso\n",
    "from sklearn.model_selection import GridSearchCV\n",
    "from sklearn.metrics import mean_squared_error, r2_score\n",
    "from datetime import date\n",
    "warnings.filterwarnings('ignore')\n",
    "pd.set_option('max_row', None)\n",
    "pd.set_option(\"max_colwidth\", 100000)"
   ]
  },
  {
   "cell_type": "code",
   "execution_count": null,
   "metadata": {},
   "outputs": [],
   "source": [
    "df_housing = pd.read_csv('train.csv')"
   ]
  },
  {
   "cell_type": "code",
   "execution_count": null,
   "metadata": {},
   "outputs": [],
   "source": [
    "df_housing.head()"
   ]
  },
  {
   "cell_type": "code",
   "execution_count": null,
   "metadata": {},
   "outputs": [],
   "source": [
    "df_housing.shape"
   ]
  },
  {
   "cell_type": "code",
   "execution_count": null,
   "metadata": {},
   "outputs": [],
   "source": [
    "df_housing.info()"
   ]
  },
  {
   "cell_type": "code",
   "execution_count": null,
   "metadata": {},
   "outputs": [],
   "source": [
    "df_housing.describe()"
   ]
  },
  {
   "cell_type": "markdown",
   "metadata": {},
   "source": [
    "### <b>Observations:</b>\n",
    "\n",
    "### 1.  The below features are either irrelevant or similar features describing the same are present, for determining the sale price of the housing properties:\n",
    "##### <li>Id</li>\n",
    "##### <li>LotFrontage</li>\n",
    "##### <li>MasVnrArea</li>\n",
    "##### <li>ExterQual</li>\n",
    "##### <li>BsmtExposure</li>\n",
    "##### <li>BsmtFinSF1</li>\n",
    "##### <li>BsmtFinSF2</li>\n",
    "##### <li>BsmtUnfSF</li>\n",
    "##### <li>Electrical</li>\n",
    "##### <li>1stFlrSF</li>\n",
    "##### <li>2ndFlrSF</li>\n",
    "##### <li>LowQualFinSF</li>\n",
    "##### <li>GarageArea</li>\n",
    "##### <li>GarageQual</li>\n",
    "##### <li>MiscVal</li>\n",
    "##### <li>LandSlope</li>\n",
    "##### <li>PavedDrive</li>\n",
    "\n",
    "### 2.  The below features can be combined into a single new feature, and then dropped:\n",
    "##### <li>Condition1, Condition2</li>\n",
    "##### <li>Exterior1st, Exterior2nd</li>\n",
    "##### <li>BsmtFullBath, FullBath</li>\n",
    "##### <li>HalfBath, BsmtHalfBath</li>\n",
    "##### <li>WoodDeckSF, OpenPorchSF, EnclosedPorch, 3SsnPorch, ScreenPorch</li>\n",
    "##### <li>BsmtFinType1, BsmtFinType2</li>\n",
    "\n",
    "### 3.  A new feature to indicate age can be derived for each of the below features, and these features can then be dropped:\n",
    "##### <li>YearBuilt</li>\n",
    "##### <li>YearRemodAdd</li>\n",
    "##### <li>GarageYrBlt</li>\n",
    "\n",
    "### 4.  Features with a large number of null values in the rows must be removed.\n",
    "\n",
    "### 5.  Categorical features must be analysed for consistency of data, data type etc, inconsistencies must be fixed, and only features that strongly influence the property's sale price, must be retained, based on intuition:\n",
    "\n",
    "### 6.  Numeric data type features must also be checked for consistency."
   ]
  },
  {
   "cell_type": "markdown",
   "metadata": {},
   "source": [
    "### 1. Removing the above columns listed in point 1:\n"
   ]
  },
  {
   "cell_type": "code",
   "execution_count": null,
   "metadata": {},
   "outputs": [],
   "source": [
    "columns_to_drop = ['Id','LotFrontage','MasVnrArea','ExterQual','BsmtFinSF1','BsmtFinSF2','BsmtUnfSF','BsmtExposure','Electrical','1stFlrSF','2ndFlrSF','LowQualFinSF','GarageArea','GarageQual','PavedDrive','MiscVal','LandSlope']\n",
    "df_housing.drop(columns=columns_to_drop,inplace=True)\n",
    "df_housing.columns"
   ]
  },
  {
   "cell_type": "markdown",
   "metadata": {},
   "source": [
    "### 2. Combining related features and creating a new feature, and dropping the original features, after data fixing/cleanup of the original featurs, as per point number 2 above:"
   ]
  },
  {
   "cell_type": "markdown",
   "metadata": {},
   "source": [
    "##### <li>Condition1, Condition2</li>"
   ]
  },
  {
   "cell_type": "code",
   "execution_count": null,
   "metadata": {},
   "outputs": [],
   "source": [
    "df_housing.Condition1.value_counts()"
   ]
  },
  {
   "cell_type": "code",
   "execution_count": null,
   "metadata": {},
   "outputs": [],
   "source": [
    "df_housing.Condition2.value_counts()"
   ]
  },
  {
   "cell_type": "code",
   "execution_count": null,
   "metadata": {},
   "outputs": [],
   "source": [
    "def combineValues(x ,y):\n",
    "    if str(x).upper()==str(y).upper():\n",
    "        return str(x)\n",
    "    else:\n",
    "        return str(x+'_'+y)\n",
    "\n",
    "\n",
    "df_housing['Proximity'] = df_housing.apply(lambda x: combineValues(x['Condition1'],x['Condition2']), axis=1)"
   ]
  },
  {
   "cell_type": "code",
   "execution_count": null,
   "metadata": {},
   "outputs": [],
   "source": [
    "df_housing.Proximity.value_counts()"
   ]
  },
  {
   "cell_type": "code",
   "execution_count": null,
   "metadata": {},
   "outputs": [],
   "source": [
    "df_housing.drop(columns=['Condition1','Condition2'],inplace=True)"
   ]
  },
  {
   "cell_type": "markdown",
   "metadata": {},
   "source": [
    "##### <li>Exterior1st, Exterior2nd</li>"
   ]
  },
  {
   "cell_type": "code",
   "execution_count": null,
   "metadata": {},
   "outputs": [],
   "source": [
    "df_housing.Exterior1st.value_counts().keys()"
   ]
  },
  {
   "cell_type": "code",
   "execution_count": null,
   "metadata": {},
   "outputs": [],
   "source": [
    "df_housing.Exterior2nd.value_counts()"
   ]
  },
  {
   "cell_type": "markdown",
   "metadata": {},
   "source": [
    "##### Fixing the erroneous values of the Exterior2nd feature (CmentBd, Wd Shng, Brk Cmn):"
   ]
  },
  {
   "cell_type": "code",
   "execution_count": null,
   "metadata": {},
   "outputs": [],
   "source": [
    "def fixExterior2nd(x):\n",
    "    if x == 'CmentBd':\n",
    "        return 'CemntBd'\n",
    "    elif x=='Wd Shng':\n",
    "        return 'WdShing'\n",
    "    elif x=='Brk Cmn':\n",
    "        return 'BrkComm'\n",
    "    else:\n",
    "        return x    \n",
    "\n",
    "df_housing['Exterior2nd'] = df_housing.Exterior2nd.apply(fixExterior2nd)\n"
   ]
  },
  {
   "cell_type": "code",
   "execution_count": null,
   "metadata": {},
   "outputs": [],
   "source": [
    "df_housing.Exterior2nd.value_counts()"
   ]
  },
  {
   "cell_type": "code",
   "execution_count": null,
   "metadata": {},
   "outputs": [],
   "source": [
    "df_housing['Exterior'] =  df_housing.apply(lambda x: combineValues(x['Exterior1st'],x['Exterior2nd']), axis=1)\n",
    "df_housing.Exterior.value_counts()"
   ]
  },
  {
   "cell_type": "code",
   "execution_count": null,
   "metadata": {},
   "outputs": [],
   "source": [
    "df_housing.drop(columns=['Exterior1st','Exterior2nd'],inplace=True)"
   ]
  },
  {
   "cell_type": "markdown",
   "metadata": {},
   "source": [
    "##### <li>BsmtFullBath, FullBath</li>"
   ]
  },
  {
   "cell_type": "code",
   "execution_count": null,
   "metadata": {},
   "outputs": [],
   "source": [
    "df_housing.BsmtFullBath.value_counts()"
   ]
  },
  {
   "cell_type": "code",
   "execution_count": null,
   "metadata": {},
   "outputs": [],
   "source": [
    "df_housing.FullBath.value_counts()"
   ]
  },
  {
   "cell_type": "code",
   "execution_count": null,
   "metadata": {},
   "outputs": [],
   "source": [
    "def addValues(x,y):\n",
    "    return int(x) + int(y)"
   ]
  },
  {
   "cell_type": "code",
   "execution_count": null,
   "metadata": {},
   "outputs": [],
   "source": [
    "df_housing['Bath'] = df_housing.apply(lambda x: addValues(x['BsmtFullBath'],x['FullBath']), axis=1)\n",
    "df_housing.Bath.value_counts()"
   ]
  },
  {
   "cell_type": "code",
   "execution_count": null,
   "metadata": {},
   "outputs": [],
   "source": [
    "df_housing[['BsmtFullBath','FullBath','Bath']].head()"
   ]
  },
  {
   "cell_type": "code",
   "execution_count": null,
   "metadata": {},
   "outputs": [],
   "source": [
    "df_housing.drop(columns=['BsmtFullBath','FullBath'],inplace=True)"
   ]
  },
  {
   "cell_type": "markdown",
   "metadata": {},
   "source": [
    "##### <li>HalfBath, BsmtHalfBath</li>"
   ]
  },
  {
   "cell_type": "code",
   "execution_count": null,
   "metadata": {},
   "outputs": [],
   "source": [
    "df_housing.HalfBath.value_counts()"
   ]
  },
  {
   "cell_type": "code",
   "execution_count": null,
   "metadata": {},
   "outputs": [],
   "source": [
    "df_housing.BsmtHalfBath.value_counts()"
   ]
  },
  {
   "cell_type": "code",
   "execution_count": null,
   "metadata": {},
   "outputs": [],
   "source": [
    "df_housing['SemiBath'] = df_housing.apply(lambda x:addValues(x['BsmtHalfBath'],x['HalfBath']),axis=1)\n",
    "df_housing.SemiBath.value_counts()"
   ]
  },
  {
   "cell_type": "code",
   "execution_count": null,
   "metadata": {},
   "outputs": [],
   "source": [
    "df_housing[['BsmtHalfBath','HalfBath','SemiBath']].head()"
   ]
  },
  {
   "cell_type": "code",
   "execution_count": null,
   "metadata": {},
   "outputs": [],
   "source": [
    "df_housing.drop(columns=['BsmtHalfBath','HalfBath'],inplace=True)"
   ]
  },
  {
   "cell_type": "markdown",
   "metadata": {},
   "source": [
    "##### <li>WoodDeckSF, OpenPorchSF, EnclosedPorch, 3SsnPorch, ScreenPorch</li>"
   ]
  },
  {
   "cell_type": "code",
   "execution_count": null,
   "metadata": {},
   "outputs": [],
   "source": [
    "def addMultipleValues(a,b,c,d,e):\n",
    "    return a + b + c + d + e"
   ]
  },
  {
   "cell_type": "code",
   "execution_count": null,
   "metadata": {},
   "outputs": [],
   "source": [
    "df_housing['TotalPorchArea'] = df_housing.apply(lambda x:addMultipleValues(x['WoodDeckSF'],x['OpenPorchSF'],x['EnclosedPorch'],x['3SsnPorch'],x['ScreenPorch']),axis=1)\n",
    "df_housing.TotalPorchArea.value_counts()"
   ]
  },
  {
   "cell_type": "code",
   "execution_count": null,
   "metadata": {},
   "outputs": [],
   "source": [
    "df_housing[['WoodDeckSF', 'OpenPorchSF', 'EnclosedPorch', '3SsnPorch', 'ScreenPorch','TotalPorchArea']].tail()"
   ]
  },
  {
   "cell_type": "code",
   "execution_count": null,
   "metadata": {},
   "outputs": [],
   "source": [
    "df_housing.drop(columns=['WoodDeckSF', 'OpenPorchSF', 'EnclosedPorch', '3SsnPorch', 'ScreenPorch'],inplace=True)"
   ]
  },
  {
   "cell_type": "markdown",
   "metadata": {},
   "source": [
    "##### <li>BsmtFinType1, BsmtFinType2</li>"
   ]
  },
  {
   "cell_type": "code",
   "execution_count": null,
   "metadata": {},
   "outputs": [],
   "source": [
    "df_housing.BsmtFinType1.value_counts().sum()"
   ]
  },
  {
   "cell_type": "code",
   "execution_count": null,
   "metadata": {},
   "outputs": [],
   "source": [
    "df_housing.BsmtFinType2.value_counts().sum()"
   ]
  },
  {
   "cell_type": "code",
   "execution_count": null,
   "metadata": {},
   "outputs": [],
   "source": [
    "df_housing.dtypes"
   ]
  },
  {
   "cell_type": "code",
   "execution_count": null,
   "metadata": {},
   "outputs": [],
   "source": [
    "import math\n",
    "def combineFinTypes(x,y):\n",
    "    if x == y:\n",
    "        ##if str(x) == 'nan':\n",
    "        ##    x = 'NO`'\n",
    "        return str(x)\n",
    "    elif str(y) == 'nan':\n",
    "        return str(x)\n",
    "    else:\n",
    "        return str(x) + '_' + str(y)    "
   ]
  },
  {
   "cell_type": "code",
   "execution_count": null,
   "metadata": {},
   "outputs": [],
   "source": [
    "df_housing['BsmtFinType1'] = df_housing['BsmtFinType1'].fillna('NA')\n",
    "df_housing['BsmtFinType2'] = df_housing['BsmtFinType2'].fillna('NA')\n",
    "df_housing['BsmtFinType'] = df_housing.apply(lambda x:combineFinTypes(x['BsmtFinType1'],x['BsmtFinType2']), axis=1)\n"
   ]
  },
  {
   "cell_type": "code",
   "execution_count": null,
   "metadata": {},
   "outputs": [],
   "source": [
    "df_housing.BsmtFinType.value_counts()"
   ]
  },
  {
   "cell_type": "code",
   "execution_count": null,
   "metadata": {},
   "outputs": [],
   "source": [
    "df_housing.drop(columns=['BsmtFinType1','BsmtFinType2'],inplace=True)"
   ]
  },
  {
   "cell_type": "markdown",
   "metadata": {},
   "source": [
    "### 3. Creating 'Age' features for the features listed in point 3 above, before dropping the original features:\n"
   ]
  },
  {
   "cell_type": "code",
   "execution_count": null,
   "metadata": {},
   "outputs": [],
   "source": [
    "def calculateAge(x):\n",
    "    if x:\n",
    "        current_year = date.today().year\n",
    "        return current_year - x\n",
    "    else:\n",
    "        return 0    "
   ]
  },
  {
   "cell_type": "markdown",
   "metadata": {},
   "source": [
    "##### <li>YearBuilt</li>\n"
   ]
  },
  {
   "cell_type": "code",
   "execution_count": null,
   "metadata": {},
   "outputs": [],
   "source": [
    "df_housing['PropertyAge'] = df_housing.YearBuilt.apply(calculateAge)\n",
    "df_housing.PropertyAge.value_counts()"
   ]
  },
  {
   "cell_type": "code",
   "execution_count": null,
   "metadata": {},
   "outputs": [],
   "source": [
    "df_housing[['YearBuilt','PropertyAge']].tail()"
   ]
  },
  {
   "cell_type": "code",
   "execution_count": null,
   "metadata": {},
   "outputs": [],
   "source": [
    "df_housing.drop(columns=['YearBuilt'], inplace=True)"
   ]
  },
  {
   "cell_type": "markdown",
   "metadata": {},
   "source": [
    "##### <li>YearRemodAdd</li>\n"
   ]
  },
  {
   "cell_type": "code",
   "execution_count": null,
   "metadata": {},
   "outputs": [],
   "source": [
    "df_housing['YearsSinceRemodelling'] = df_housing.YearRemodAdd.apply(calculateAge)\n",
    "df_housing.YearsSinceRemodelling.value_counts()"
   ]
  },
  {
   "cell_type": "code",
   "execution_count": null,
   "metadata": {},
   "outputs": [],
   "source": [
    "df_housing[['YearRemodAdd','YearsSinceRemodelling']].tail()"
   ]
  },
  {
   "cell_type": "code",
   "execution_count": null,
   "metadata": {},
   "outputs": [],
   "source": [
    "df_housing.drop(columns=['YearRemodAdd'], inplace=True)"
   ]
  },
  {
   "cell_type": "markdown",
   "metadata": {},
   "source": [
    "##### <li>GarageYrBlt</li>"
   ]
  },
  {
   "cell_type": "code",
   "execution_count": null,
   "metadata": {},
   "outputs": [],
   "source": [
    "df_housing.GarageYrBlt = df_housing.GarageYrBlt.fillna(0)\n",
    "df_housing['GarageAge'] = df_housing.GarageYrBlt.apply(calculateAge)\n",
    "df_housing.GarageAge.value_counts()"
   ]
  },
  {
   "cell_type": "code",
   "execution_count": null,
   "metadata": {},
   "outputs": [],
   "source": [
    "df_housing[['GarageYrBlt','GarageAge']].tail()"
   ]
  },
  {
   "cell_type": "code",
   "execution_count": null,
   "metadata": {},
   "outputs": [],
   "source": [
    "df_housing.drop(columns=['GarageYrBlt'],inplace=True)"
   ]
  },
  {
   "cell_type": "code",
   "execution_count": null,
   "metadata": {},
   "outputs": [],
   "source": [
    "df_housing.shape"
   ]
  },
  {
   "cell_type": "markdown",
   "metadata": {},
   "source": [
    "### 4. Eliminating features with a large number of null/zero values:\n"
   ]
  },
  {
   "cell_type": "code",
   "execution_count": null,
   "metadata": {},
   "outputs": [],
   "source": [
    "df_housing.isnull().sum()"
   ]
  },
  {
   "cell_type": "markdown",
   "metadata": {},
   "source": [
    "### Removing the below columns for which a large number of null values in the rows :\n",
    "#### <li>Alley</li>\n",
    "#### <li>PoolQC</li>\n",
    "#### <li>MiscFeature</li>\n",
    "#### <li>Fence</li>"
   ]
  },
  {
   "cell_type": "code",
   "execution_count": null,
   "metadata": {},
   "outputs": [],
   "source": [
    "columns_isnull = ['Alley','PoolQC','MiscFeature','Fence']\n",
    "df_housing.drop(columns=columns_isnull,inplace=True)"
   ]
  },
  {
   "cell_type": "code",
   "execution_count": null,
   "metadata": {},
   "outputs": [],
   "source": [
    "df_housing.shape"
   ]
  },
  {
   "cell_type": "markdown",
   "metadata": {},
   "source": [
    "### 5. Checking and cleaning the categorical features in detail:\n"
   ]
  },
  {
   "cell_type": "markdown",
   "metadata": {},
   "source": [
    "#### The remaining categorical features are as follows:\n",
    "##### <li>MSSubClass</li>\n",
    "##### <li>MSZoning</li>\n",
    "##### <li>Street</li>\n",
    "##### <li>LotShape</li>\n",
    "##### <li>LandContour</li>\n",
    "##### <li>Utilities</li>\n",
    "##### <li>LotConfig</li>\n",
    "##### <li>Neighborhood</li>\n",
    "##### <li>Proximity</li>\n",
    "##### <li>BldgType</li>\n",
    "##### <li>HouseStyle</li>\n",
    "##### <li>OverallQual</li>\n",
    "##### <li>OverallCond</li>\n",
    "##### <li>RoofStyle</li>\n",
    "##### <li>RoofMatl</li>\n",
    "##### <li>Exterior</li>\n",
    "##### <li>MasVnrType</li>\n",
    "##### <li>ExterCond</li>\n",
    "##### <li>Foundation</li>\n",
    "##### <li>BsmtQual</li>\n",
    "##### <li>BsmtCond</li>\n",
    "##### <li>BsmtFinType</li>\n",
    "##### <li>Heating</li>\n",
    "##### <li>HeatingQC</li>\n",
    "##### <li>CentralAir</li>\n",
    "##### <li>KitchenQual</li>\n",
    "##### <li>Functional</li>\n",
    "##### <li>FireplaceQu</li>\n",
    "##### <li>GarageType</li>\n",
    "##### <li>GarageCond</li>\n",
    "##### <li>GarageFinish</li>\n",
    "##### <li>SaleType</li>\n",
    "##### <li>SaleCondition</li>"
   ]
  },
  {
   "cell_type": "markdown",
   "metadata": {},
   "source": [
    "##### (a) MSSubClass</li>"
   ]
  },
  {
   "cell_type": "code",
   "execution_count": null,
   "metadata": {},
   "outputs": [],
   "source": [
    "df_housing.MSSubClass = df_housing.MSSubClass.astype('object')"
   ]
  },
  {
   "cell_type": "code",
   "execution_count": null,
   "metadata": {},
   "outputs": [],
   "source": [
    "df_housing.MSSubClass.value_counts().sum()"
   ]
  },
  {
   "cell_type": "markdown",
   "metadata": {},
   "source": [
    "##### The data type of MSSubClass was changed to type 'object'.</li>"
   ]
  },
  {
   "cell_type": "markdown",
   "metadata": {},
   "source": [
    "##### (b) MSZoning"
   ]
  },
  {
   "cell_type": "code",
   "execution_count": null,
   "metadata": {},
   "outputs": [],
   "source": [
    "df_housing.MSZoning.value_counts()"
   ]
  },
  {
   "cell_type": "markdown",
   "metadata": {},
   "source": [
    "##### Some of the rows have a value of 'C (all)' instead of 'C' for the feature 'MSZoning'. Hence fixing the same:"
   ]
  },
  {
   "cell_type": "code",
   "execution_count": null,
   "metadata": {},
   "outputs": [],
   "source": [
    "def fixMSZoning(x):\n",
    "    if x == 'C (all)':\n",
    "        return 'C'\n",
    "    else:\n",
    "        return x\n",
    "\n",
    "df_housing.MSZoning = df_housing.MSZoning.apply(fixMSZoning)"
   ]
  },
  {
   "cell_type": "markdown",
   "metadata": {},
   "source": [
    "##### Changing the data type to 'object':"
   ]
  },
  {
   "cell_type": "code",
   "execution_count": null,
   "metadata": {},
   "outputs": [],
   "source": [
    "df_housing.MSZoning = df_housing.MSZoning.astype('object')\n",
    "df_housing.MSZoning.value_counts()"
   ]
  },
  {
   "cell_type": "markdown",
   "metadata": {},
   "source": [
    "##### (c) Street"
   ]
  },
  {
   "cell_type": "markdown",
   "metadata": {},
   "source": [
    "##### Changing the data type to 'object'"
   ]
  },
  {
   "cell_type": "code",
   "execution_count": null,
   "metadata": {},
   "outputs": [],
   "source": [
    "df_housing.Street = df_housing.Street.astype('object')\n",
    "df_housing.Street.value_counts()"
   ]
  },
  {
   "cell_type": "markdown",
   "metadata": {},
   "source": [
    "##### (d) LotShape"
   ]
  },
  {
   "cell_type": "markdown",
   "metadata": {},
   "source": [
    "##### Changing the data type to 'object'"
   ]
  },
  {
   "cell_type": "code",
   "execution_count": null,
   "metadata": {},
   "outputs": [],
   "source": [
    "df_housing.LotShape = df_housing.LotShape.astype('object')\n",
    "df_housing.LotShape.value_counts()"
   ]
  },
  {
   "cell_type": "markdown",
   "metadata": {},
   "source": [
    "##### (e) LandContour"
   ]
  },
  {
   "cell_type": "markdown",
   "metadata": {},
   "source": [
    "##### Changing the data type to 'object':"
   ]
  },
  {
   "cell_type": "code",
   "execution_count": null,
   "metadata": {},
   "outputs": [],
   "source": [
    "df_housing.LandContour = df_housing.LandContour.astype('object')\n",
    "df_housing.LandContour.value_counts()"
   ]
  },
  {
   "cell_type": "markdown",
   "metadata": {},
   "source": [
    "##### (f) Utilities"
   ]
  },
  {
   "cell_type": "markdown",
   "metadata": {},
   "source": [
    "##### Changing the data type to 'object':"
   ]
  },
  {
   "cell_type": "code",
   "execution_count": null,
   "metadata": {},
   "outputs": [],
   "source": [
    "df_housing.Utilities = df_housing.Utilities.astype('object')\n",
    "df_housing.Utilities.value_counts()"
   ]
  },
  {
   "cell_type": "markdown",
   "metadata": {},
   "source": [
    "##### (g) LotConfig"
   ]
  },
  {
   "cell_type": "markdown",
   "metadata": {},
   "source": [
    "##### Changing the data type to 'object':"
   ]
  },
  {
   "cell_type": "code",
   "execution_count": null,
   "metadata": {},
   "outputs": [],
   "source": [
    "df_housing.LotConfig = df_housing.LotConfig.astype('object')\n",
    "df_housing.LotConfig.value_counts()"
   ]
  },
  {
   "cell_type": "markdown",
   "metadata": {},
   "source": [
    "##### (h) Neighborhood"
   ]
  },
  {
   "cell_type": "code",
   "execution_count": null,
   "metadata": {},
   "outputs": [],
   "source": [
    "df_housing.Neighborhood.value_counts()"
   ]
  },
  {
   "cell_type": "markdown",
   "metadata": {},
   "source": [
    "##### Updating the value of 'NAmes' to 'Names' and changing the data type to 'object':"
   ]
  },
  {
   "cell_type": "code",
   "execution_count": null,
   "metadata": {},
   "outputs": [],
   "source": [
    "def fixNeighborhood(x):\n",
    "    if x == 'NAmes':\n",
    "        return 'Names'\n",
    "    else:\n",
    "        return x\n",
    "\n",
    "df_housing.Neighborhood = df_housing.Neighborhood.apply(fixNeighborhood)"
   ]
  },
  {
   "cell_type": "code",
   "execution_count": null,
   "metadata": {},
   "outputs": [],
   "source": [
    "df_housing.Neighborhood = df_housing.Neighborhood.astype('object')\n",
    "df_housing.Neighborhood.value_counts()"
   ]
  },
  {
   "cell_type": "markdown",
   "metadata": {},
   "source": [
    "##### (i) Proximity"
   ]
  },
  {
   "cell_type": "markdown",
   "metadata": {},
   "source": [
    "##### Changing the data type to 'object':"
   ]
  },
  {
   "cell_type": "code",
   "execution_count": null,
   "metadata": {},
   "outputs": [],
   "source": [
    "df_housing.Proximity = df_housing.Proximity.astype('object')\n",
    "df_housing.Proximity.value_counts()"
   ]
  },
  {
   "cell_type": "markdown",
   "metadata": {},
   "source": [
    "##### (j) BldgType:"
   ]
  },
  {
   "cell_type": "code",
   "execution_count": null,
   "metadata": {},
   "outputs": [],
   "source": [
    "df_housing.BldgType.value_counts()"
   ]
  },
  {
   "cell_type": "markdown",
   "metadata": {},
   "source": [
    "##### Fixing the incorrect values for BldgType: 'Duplex','Twnhs' and '2fmCon' and changing the data type of the feature to 'object':"
   ]
  },
  {
   "cell_type": "code",
   "execution_count": null,
   "metadata": {},
   "outputs": [],
   "source": [
    "def fixBldgType(x):\n",
    "    if x == 'Duplex':\n",
    "        return 'Duplx'\n",
    "    elif x == 'Twnhs':\n",
    "        return 'TwnhsI'\n",
    "    elif x == '2fmCon':\n",
    "        return '2FmCon'\n",
    "    else:\n",
    "        return x\n",
    "\n",
    "df_housing.BldgType = df_housing.BldgType.apply(fixBldgType)\n",
    "df_housing.BldgType = df_housing.BldgType.astype('object')\n",
    "df_housing.BldgType.value_counts()"
   ]
  },
  {
   "cell_type": "markdown",
   "metadata": {},
   "source": [
    "##### (k) HouseStyle"
   ]
  },
  {
   "cell_type": "markdown",
   "metadata": {},
   "source": [
    "##### Changing the data type of the feature to 'object':"
   ]
  },
  {
   "cell_type": "code",
   "execution_count": null,
   "metadata": {},
   "outputs": [],
   "source": [
    "df_housing.HouseStyle.value_counts()"
   ]
  },
  {
   "cell_type": "code",
   "execution_count": null,
   "metadata": {},
   "outputs": [],
   "source": [
    "df_housing.HouseStyle = df_housing.HouseStyle.astype('object')\n",
    "df_housing.HouseStyle.value_counts()"
   ]
  },
  {
   "cell_type": "markdown",
   "metadata": {},
   "source": [
    "##### (l) OverallQual"
   ]
  },
  {
   "cell_type": "markdown",
   "metadata": {},
   "source": [
    "##### Changing the data type of the feature to 'object':"
   ]
  },
  {
   "cell_type": "code",
   "execution_count": null,
   "metadata": {},
   "outputs": [],
   "source": [
    "df_housing.OverallQual = df_housing.OverallQual.astype('object')\n",
    "df_housing.OverallQual.value_counts()"
   ]
  },
  {
   "cell_type": "markdown",
   "metadata": {},
   "source": [
    "##### (m) OverallCond"
   ]
  },
  {
   "cell_type": "markdown",
   "metadata": {},
   "source": [
    "##### Changing the data type of the feature to 'object':"
   ]
  },
  {
   "cell_type": "code",
   "execution_count": null,
   "metadata": {},
   "outputs": [],
   "source": [
    "df_housing.OverallCond = df_housing.OverallCond.astype('object')\n",
    "df_housing.OverallCond.value_counts()"
   ]
  },
  {
   "cell_type": "markdown",
   "metadata": {},
   "source": [
    "##### (n) RoofStyle"
   ]
  },
  {
   "cell_type": "markdown",
   "metadata": {},
   "source": [
    "##### Changing the data type of the feature to 'object':"
   ]
  },
  {
   "cell_type": "code",
   "execution_count": null,
   "metadata": {},
   "outputs": [],
   "source": [
    "df_housing.RoofStyle.value_counts()"
   ]
  },
  {
   "cell_type": "code",
   "execution_count": null,
   "metadata": {},
   "outputs": [],
   "source": [
    "df_housing.RoofStyle = df_housing.RoofStyle.astype('object') \n",
    "df_housing.RoofStyle.value_counts()"
   ]
  },
  {
   "cell_type": "markdown",
   "metadata": {},
   "source": [
    "##### (o) RoofMatl"
   ]
  },
  {
   "cell_type": "markdown",
   "metadata": {},
   "source": [
    "##### Changing the data type of the feature to 'object':"
   ]
  },
  {
   "cell_type": "code",
   "execution_count": null,
   "metadata": {},
   "outputs": [],
   "source": [
    "df_housing.RoofMatl = df_housing.RoofMatl.astype('object')\n",
    "df_housing.RoofMatl.value_counts()"
   ]
  },
  {
   "cell_type": "markdown",
   "metadata": {},
   "source": [
    "##### (p) Exterior"
   ]
  },
  {
   "cell_type": "markdown",
   "metadata": {},
   "source": [
    "##### Changing the data type of the feature to 'object':"
   ]
  },
  {
   "cell_type": "code",
   "execution_count": null,
   "metadata": {},
   "outputs": [],
   "source": [
    "df_housing.Exterior = df_housing.Exterior.astype('object')\n",
    "df_housing.Exterior.value_counts()"
   ]
  },
  {
   "cell_type": "markdown",
   "metadata": {},
   "source": [
    "##### (q) MasVnrType"
   ]
  },
  {
   "cell_type": "markdown",
   "metadata": {},
   "source": [
    "##### Changing the data type of the feature to 'object' and imputing the blank values with the mode value i.e. 'None':"
   ]
  },
  {
   "cell_type": "code",
   "execution_count": null,
   "metadata": {},
   "outputs": [],
   "source": [
    "df_housing.MasVnrType.value_counts()"
   ]
  },
  {
   "cell_type": "code",
   "execution_count": null,
   "metadata": {},
   "outputs": [],
   "source": [
    "df_housing['MasVnrType'] = df_housing['MasVnrType'].fillna('None')\n",
    "df_housing['MasVnrType'] = df_housing['MasVnrType'].astype('object')\n",
    "df_housing.MasVnrType.value_counts()"
   ]
  },
  {
   "cell_type": "markdown",
   "metadata": {},
   "source": [
    "##### (r) ExterCond"
   ]
  },
  {
   "cell_type": "markdown",
   "metadata": {},
   "source": [
    "##### Changing the data type of the feature to 'object':"
   ]
  },
  {
   "cell_type": "code",
   "execution_count": null,
   "metadata": {},
   "outputs": [],
   "source": [
    "df_housing.ExterCond = df_housing.ExterCond.astype('object')\n",
    "df_housing.ExterCond.value_counts()"
   ]
  },
  {
   "cell_type": "markdown",
   "metadata": {},
   "source": [
    "#### (s) Foundation"
   ]
  },
  {
   "cell_type": "markdown",
   "metadata": {},
   "source": [
    "##### Changing the data type of the feature to 'object':"
   ]
  },
  {
   "cell_type": "code",
   "execution_count": null,
   "metadata": {},
   "outputs": [],
   "source": [
    "df_housing.Foundation = df_housing.Foundation.astype('object')\n",
    "df_housing.Foundation.value_counts()"
   ]
  },
  {
   "cell_type": "markdown",
   "metadata": {},
   "source": [
    "##### (t) BsmtQual\n",
    "##### Changing the data type of the feature to 'object' and imputing the missing values with the mode value i.e. 'TA':"
   ]
  },
  {
   "cell_type": "code",
   "execution_count": null,
   "metadata": {},
   "outputs": [],
   "source": [
    "df_housing.BsmtQual = df_housing.BsmtQual.fillna('TA')\n",
    "df_housing.BsmtQual = df_housing.BsmtQual.astype('object')\n",
    "df_housing.BsmtQual.value_counts()"
   ]
  },
  {
   "cell_type": "markdown",
   "metadata": {},
   "source": [
    "#### (u) BsmtCond\n",
    "##### Changing the data type of the feature to 'object' and imputing the missing values with the mode value i.e. 'TA':"
   ]
  },
  {
   "cell_type": "code",
   "execution_count": null,
   "metadata": {},
   "outputs": [],
   "source": [
    "df_housing.BsmtCond = df_housing.BsmtCond.fillna('TA')\n",
    "df_housing.BsmtCond = df_housing.BsmtCond.astype('object')\n",
    "df_housing.BsmtCond.value_counts()"
   ]
  },
  {
   "cell_type": "markdown",
   "metadata": {},
   "source": [
    "#### (v) BsmtFinType\n",
    "##### Changing the data type of the feature to 'object':"
   ]
  },
  {
   "cell_type": "code",
   "execution_count": null,
   "metadata": {},
   "outputs": [],
   "source": [
    "df_housing.BsmtFinType.value_counts()"
   ]
  },
  {
   "cell_type": "markdown",
   "metadata": {},
   "source": [
    "#### (w) Heating\n",
    "##### Changing the data type of the feature to 'object':"
   ]
  },
  {
   "cell_type": "code",
   "execution_count": null,
   "metadata": {},
   "outputs": [],
   "source": [
    "df_housing.Heating = df_housing.Heating.astype('object')\n",
    "df_housing.Heating.value_counts()"
   ]
  },
  {
   "cell_type": "markdown",
   "metadata": {},
   "source": [
    "#### (x) HeatingQC\n",
    "##### Changing the data type of the feature to 'object':"
   ]
  },
  {
   "cell_type": "code",
   "execution_count": null,
   "metadata": {},
   "outputs": [],
   "source": [
    "df_housing.HeatingQC = df_housing.HeatingQC.astype('object')\n",
    "df_housing.HeatingQC.value_counts()"
   ]
  },
  {
   "cell_type": "markdown",
   "metadata": {},
   "source": [
    "#### (y) CentralAir\n",
    "##### Changing the data type of the feature to 'object':"
   ]
  },
  {
   "cell_type": "code",
   "execution_count": null,
   "metadata": {},
   "outputs": [],
   "source": [
    "df_housing.CentralAir = df_housing.CentralAir.astype('object')\n",
    "df_housing.CentralAir.value_counts()"
   ]
  },
  {
   "cell_type": "markdown",
   "metadata": {},
   "source": [
    "#### (z) KitchenQual\n",
    "##### Changing the data type of the feature to 'object':"
   ]
  },
  {
   "cell_type": "code",
   "execution_count": null,
   "metadata": {},
   "outputs": [],
   "source": [
    "df_housing.KitchenQual.value_counts()"
   ]
  },
  {
   "cell_type": "code",
   "execution_count": null,
   "metadata": {},
   "outputs": [],
   "source": [
    "df_housing.KitchenQual = df_housing.KitchenQual.astype('object')\n",
    "df_housing.KitchenQual.value_counts()"
   ]
  },
  {
   "cell_type": "markdown",
   "metadata": {},
   "source": [
    "#### (a.a) Functional\n",
    "##### Changing the data type of the feature to 'object':"
   ]
  },
  {
   "cell_type": "code",
   "execution_count": null,
   "metadata": {},
   "outputs": [],
   "source": [
    "df_housing.Functional = df_housing.Functional.astype('object')\n",
    "df_housing.Functional.value_counts()"
   ]
  },
  {
   "cell_type": "markdown",
   "metadata": {},
   "source": [
    "#### (a.b) FireplaceQu\n",
    "##### Changing the data type of the feature to 'object' and setting the values of FireplaceQu for records with no fireplaces to 'NA':"
   ]
  },
  {
   "cell_type": "code",
   "execution_count": null,
   "metadata": {},
   "outputs": [],
   "source": [
    "df_housing[df_housing.FireplaceQu.isnull()].Fireplaces.value_counts()\n"
   ]
  },
  {
   "cell_type": "code",
   "execution_count": null,
   "metadata": {},
   "outputs": [],
   "source": [
    "df_housing['FireplaceQu'] = df_housing['FireplaceQu'].fillna('NA')\n",
    "\n",
    "df_housing.FireplaceQu = df_housing.FireplaceQu.astype('object')\n",
    "\n",
    "df_housing.FireplaceQu.value_counts()"
   ]
  },
  {
   "cell_type": "markdown",
   "metadata": {},
   "source": [
    "#### (a.c) GarageType\n",
    "##### Changing the data type of the feature to 'object' and replace blank values with 'NA':"
   ]
  },
  {
   "cell_type": "code",
   "execution_count": null,
   "metadata": {},
   "outputs": [],
   "source": [
    "df_housing.GarageType = df_housing.GarageType.fillna('NA')\n",
    "df_housing.GarageType = df_housing.GarageType.astype('object')\n",
    "df_housing.GarageType.value_counts()"
   ]
  },
  {
   "cell_type": "markdown",
   "metadata": {},
   "source": [
    "#### (a.d) GarageCond\n",
    "##### Changing the data type of the feature to 'object' and replace blank values with 'NA':"
   ]
  },
  {
   "cell_type": "code",
   "execution_count": null,
   "metadata": {},
   "outputs": [],
   "source": [
    "df_housing.GarageCond = df_housing.GarageCond.fillna('NA')\n",
    "df_housing.GarageCond = df_housing.GarageCond.astype('object')\n",
    "df_housing.GarageCond.value_counts()"
   ]
  },
  {
   "cell_type": "markdown",
   "metadata": {},
   "source": [
    "#### (a.e) GarageFinish\n",
    "##### Changing the data type of the feature to 'object' and replace blank values with 'NA':"
   ]
  },
  {
   "cell_type": "code",
   "execution_count": null,
   "metadata": {},
   "outputs": [],
   "source": [
    "df_housing.GarageFinish = df_housing.GarageFinish.fillna('NA')\n",
    "df_housing.GarageFinish = df_housing.GarageFinish.astype('object')\n",
    "df_housing.GarageFinish.value_counts()"
   ]
  },
  {
   "cell_type": "markdown",
   "metadata": {},
   "source": [
    "#### (a.f) SaleType\n",
    "##### Changing the data type of the feature to 'object':"
   ]
  },
  {
   "cell_type": "code",
   "execution_count": null,
   "metadata": {},
   "outputs": [],
   "source": [
    "df_housing.SaleType = df_housing.SaleType.astype('object')\n",
    "df_housing.SaleType.value_counts()"
   ]
  },
  {
   "cell_type": "code",
   "execution_count": null,
   "metadata": {},
   "outputs": [],
   "source": [
    "df_housing.SaleType.value_counts().sum()"
   ]
  },
  {
   "cell_type": "markdown",
   "metadata": {},
   "source": [
    "#### (a.g) SaleCondition\n",
    "##### Changing the data type of the feature to 'object':"
   ]
  },
  {
   "cell_type": "code",
   "execution_count": null,
   "metadata": {},
   "outputs": [],
   "source": [
    "df_housing.SaleCondition.value_counts()"
   ]
  },
  {
   "cell_type": "markdown",
   "metadata": {},
   "source": [
    "### 6. Checking the numeric data type features for consistency:\n",
    "#### The following will be checked:\n",
    "#### <li>Spread of values</li>\n",
    "#### <li>Presence of '0' or null values, and dropping features with a high percentage of null or '0' values</li>\n",
    "#### NOTE: We will not delete rows, since we have only 1460 records for the purpose of building a model."
   ]
  },
  {
   "cell_type": "code",
   "execution_count": null,
   "metadata": {},
   "outputs": [],
   "source": [
    "df_housing[df_housing.select_dtypes(include=['int64','float64']).columns].describe()"
   ]
  },
  {
   "cell_type": "markdown",
   "metadata": {},
   "source": [
    "#### Checking the above properties for zero values:"
   ]
  },
  {
   "cell_type": "code",
   "execution_count": null,
   "metadata": {},
   "outputs": [],
   "source": [
    "(df_housing.LotArea == 0).sum()\n"
   ]
  },
  {
   "cell_type": "code",
   "execution_count": null,
   "metadata": {},
   "outputs": [],
   "source": [
    "(df_housing.TotalBsmtSF == 0).sum()\n"
   ]
  },
  {
   "cell_type": "code",
   "execution_count": null,
   "metadata": {},
   "outputs": [],
   "source": [
    "(df_housing.GrLivArea == 0).sum()\n"
   ]
  },
  {
   "cell_type": "code",
   "execution_count": null,
   "metadata": {},
   "outputs": [],
   "source": [
    "(df_housing.BedroomAbvGr == 0).sum()\n"
   ]
  },
  {
   "cell_type": "code",
   "execution_count": null,
   "metadata": {},
   "outputs": [],
   "source": [
    "(df_housing.KitchenAbvGr == 0).sum()\n"
   ]
  },
  {
   "cell_type": "code",
   "execution_count": null,
   "metadata": {},
   "outputs": [],
   "source": [
    "(df_housing.LotArea == 0).sum()\n"
   ]
  },
  {
   "cell_type": "code",
   "execution_count": null,
   "metadata": {},
   "outputs": [],
   "source": [
    "(df_housing.TotRmsAbvGrd == 0).sum()\n"
   ]
  },
  {
   "cell_type": "code",
   "execution_count": null,
   "metadata": {},
   "outputs": [],
   "source": [
    "(df_housing.Fireplaces == 0).sum()\n"
   ]
  },
  {
   "cell_type": "code",
   "execution_count": null,
   "metadata": {},
   "outputs": [],
   "source": [
    "(df_housing.GarageCars == 0).sum()\n"
   ]
  },
  {
   "cell_type": "code",
   "execution_count": null,
   "metadata": {},
   "outputs": [],
   "source": [
    "(df_housing.PoolArea == 0).sum()\n"
   ]
  },
  {
   "cell_type": "code",
   "execution_count": null,
   "metadata": {},
   "outputs": [],
   "source": [
    "(df_housing.MoSold == 0).sum()\n"
   ]
  },
  {
   "cell_type": "code",
   "execution_count": null,
   "metadata": {},
   "outputs": [],
   "source": [
    "(df_housing.YrSold == 0).sum()\n"
   ]
  },
  {
   "cell_type": "code",
   "execution_count": null,
   "metadata": {},
   "outputs": [],
   "source": [
    "(df_housing.SalePrice == 0).sum()\n"
   ]
  },
  {
   "cell_type": "code",
   "execution_count": null,
   "metadata": {},
   "outputs": [],
   "source": [
    "(df_housing.Bath == 0).sum()\n"
   ]
  },
  {
   "cell_type": "code",
   "execution_count": null,
   "metadata": {},
   "outputs": [],
   "source": [
    "(df_housing.SemiBath == 0).sum()\n"
   ]
  },
  {
   "cell_type": "code",
   "execution_count": null,
   "metadata": {},
   "outputs": [],
   "source": [
    "(df_housing.TotalPorchArea == 0).sum()\n"
   ]
  },
  {
   "cell_type": "code",
   "execution_count": null,
   "metadata": {},
   "outputs": [],
   "source": [
    "(df_housing.PropertyAge == 0).sum()\n"
   ]
  },
  {
   "cell_type": "code",
   "execution_count": null,
   "metadata": {},
   "outputs": [],
   "source": [
    "(df_housing.YearsSinceRemodelling == 0).sum()"
   ]
  },
  {
   "cell_type": "code",
   "execution_count": null,
   "metadata": {},
   "outputs": [],
   "source": [
    "(df_housing.GarageAge == 0).sum()"
   ]
  },
  {
   "cell_type": "markdown",
   "metadata": {},
   "source": [
    "#### Dropping 'PoolArea' feature since most of the records have a value of '0' for this column:"
   ]
  },
  {
   "cell_type": "code",
   "execution_count": null,
   "metadata": {},
   "outputs": [],
   "source": [
    "df_housing.drop(columns=['PoolArea'],inplace=True)\n",
    "df_housing.shape"
   ]
  },
  {
   "cell_type": "markdown",
   "metadata": {},
   "source": [
    "## Step 2: Data Visualization\n",
    "### The following data visualizations will be performed:\n",
    "### <li>Initial visualization of feature correlations.</li>\n",
    "### <li>Univariate analysis of some of the important features.</li>\n",
    "### <li>Bi-variate analysis of some of the important features.</li>\n"
   ]
  },
  {
   "cell_type": "markdown",
   "metadata": {},
   "source": [
    "### 1. Initial visualization of feature correlations (numeric-type features):"
   ]
  },
  {
   "cell_type": "code",
   "execution_count": null,
   "metadata": {},
   "outputs": [],
   "source": [
    "plt.figure(figsize=(16,8))\n",
    "sns.heatmap(df_housing.corr(), cmap=\"YlGnBu\", annot=True)\n",
    "plt.show()"
   ]
  },
  {
   "cell_type": "code",
   "execution_count": null,
   "metadata": {},
   "outputs": [],
   "source": [
    "df_housing.select_dtypes(include=['int64','float64']).columns"
   ]
  },
  {
   "cell_type": "code",
   "execution_count": null,
   "metadata": {},
   "outputs": [],
   "source": [
    "df_housing.YrSold = df_housing.YrSold.astype('object')\n",
    "df_housing.MoSold = df_housing.MoSold.astype('object')"
   ]
  },
  {
   "cell_type": "markdown",
   "metadata": {},
   "source": [
    "#### Observations:\n",
    "#### The below features have a significant correlation with 'SalePrice':\n",
    "#### <li>TotalBsmtSF</li>\n",
    "#### <li>GrLivArea</li>\n",
    "#### <li>TotRmsAbvGrd</li>\n",
    "#### <li>Fireplaces</li>\n",
    "#### <li>GarageCars</li>\n",
    "#### <li>Bath</li>\n",
    "#### <li>PropertyAge</li>\n",
    "#### <li>YearsSinceRemodelling</li>\n",
    "#### <li>GarageAge</li>"
   ]
  },
  {
   "cell_type": "markdown",
   "metadata": {},
   "source": [
    "### 2. Univariate analysis of some of the important features:\n",
    "#### Performing univariate analysis on the below important features:\n",
    "##### <li>Utilities</li>\n",
    "##### <li>Neighborhood</li>\n",
    "##### <li>Proximity</li>\n",
    "##### <li>HouseStyle</li>\n",
    "##### <li>OverallQual</li>\n",
    "##### <li>OverallCond</li>\n",
    "##### <li>ExterCond</li>\n",
    "##### <li>Foundation</li>\n",
    "##### <li>BsmtQual</li>\n",
    "##### <li>HeatingQC</li>\n",
    "##### <li>GarageCond</li>\n",
    "##### <li>SaleType</li>\n",
    "##### <li>SaleCondition</li>\n",
    "##### <li>MoSold</li>\n",
    "##### <li>YrSold</li>\n",
    "##### <li>TotalBsmtSF</li>\n",
    "##### <li>GrLivArea</li>\n",
    "##### <li>TotRmsAbvGrd</li>\n",
    "##### <li>Fireplaces</li>\n",
    "##### <li>GarageCars</li>\n",
    "##### <li>Bath</li>\n",
    "##### <li>PropertyAge</li>\n",
    "##### <li>YearsSinceRemodelling</li>\n",
    "##### <li>GarageAge</li>\n",
    "\n"
   ]
  },
  {
   "cell_type": "code",
   "execution_count": null,
   "metadata": {},
   "outputs": [],
   "source": [
    "univariate_cat_cols = ['Utilities','Neighborhood','Proximity','HouseStyle','OverallQual','OverallCond','ExterCond','Foundation','BsmtQual','HeatingQC','GarageCond','SaleType','SaleCondition','MoSold','YrSold','Functional']\n",
    "for column in univariate_cat_cols:\n",
    "    plt.figure(figsize=(20,10))\n",
    "    plt.title(column)\n",
    "    sns.histplot(data=df_housing,y=column)\n",
    "    plt.show()"
   ]
  },
  {
   "cell_type": "code",
   "execution_count": null,
   "metadata": {},
   "outputs": [],
   "source": [
    "univariate_num_cols = ['TotalBsmtSF',\n",
    "'GrLivArea',\n",
    "'TotRmsAbvGrd',\n",
    "'Fireplaces',\n",
    "'GarageCars',\n",
    "'Bath',\n",
    "'PropertyAge',\n",
    "'YearsSinceRemodelling',\n",
    "'GarageAge']\n",
    "for column in univariate_num_cols:\n",
    "    plt.figure(figsize=(20,10))\n",
    "    plt.title(column)\n",
    "    sns.histplot(data=df_housing,x=column)\n",
    "    plt.show()"
   ]
  },
  {
   "cell_type": "markdown",
   "metadata": {},
   "source": [
    "#### Univariate analysis observations:\n",
    "\n",
    "##### Property sales were high for properties:\n",
    "##### <li>having all public utilities</li>\n",
    "##### <li>within the neighbourhoods College Creek and Northwest Ames.</li>\n",
    "##### <li>with normal proximity.</li>\n",
    "##### <li>of dwelling type one story and two story.</li>\n",
    "##### <li>whose overall material and finsh were rated as 'Average', 'Above Average' and 'Good'.</li>\n",
    "##### <li>whose overall condition is 'Average'.</li>\n",
    "##### <li>with an 'Average/Typical' exterior material condition.</li>\n",
    "##### <li>with foundation type 'Poured Concrete' and 'Cinder Block'.</li>\n",
    "##### <li>whose basement heights are 'Typical (80-89 inches)' and 'Good (90-99 inches)'.</li>\n",
    "##### <li>with heating quality rated as 'Excellent'.</li>\n",
    "##### <li>with a 'Typical/Average' garage condition.</li>\n",
    "##### <li>with sale type 'Warranty Deed - Conventional'.</li>\n",
    "##### <li>with sale condition 'Normal'.</li>\n",
    "##### <li>during the months of June and July.</li>\n",
    "##### <li>during the years 2006 to 2009, with a significant decrease in sales during the year 2010.</li>\n",
    "##### <li>with a total basement area between 800 to 1200 square feet.</li>\n",
    "##### <li>with a ground living area between 1000 to 1800 square feet.</li>\n",
    "##### <li>with the total rooms above grade between 6 to 7 in number.</li>\n",
    "##### <li>with the number of fireplaces between 0 to 1.</li>\n",
    "##### <li>with a garage having space for 2 cars.</li>\n",
    "##### <li>with 2 full bathrooms.</li>\n",
    "##### <li>whose age ranges from 0 to 20 and 45 to 75.</li>\n",
    "##### <li>that were remodelled 12 to 20 years ago and 65 to 70 years ago.</li>\n",
    "##### <li>whose garage is less than 20 years old.</li>\n",
    "##### <li>with functional type 'Typ' (typical)</li>"
   ]
  },
  {
   "cell_type": "markdown",
   "metadata": {},
   "source": [
    "### 3. Bivariate analysis of some of the important features:\n",
    "#### Performing a limited bivariate analysis between the below important features:\n",
    "##### <li>SalePrice vs Neighborhood</li>\n",
    "##### <li>SalePrice vs HouseStyle</li>\n",
    "##### <li>SalePrice vs OverallQuall</li>\n",
    "##### <li>SalePrice vs YrSold</li>\n",
    "##### <li>SalePrice vs PropertyAge</li>\n",
    "##### <li>SalePrice vs SaleCondition</li>\n",
    "##### <li>SalePrice vs SaleType</li>\n",
    "\n",
    "##### <li>SalePrice vs GrLivArea</li>\n",
    "##### <li>SalePrice vs TotRmsAbvGrd</li>\n",
    "##### <li>SalePrice vs PropertyAge</li>\n",
    "##### <li>SalePrice vs TotalPorchArea</li>\n",
    "##### <li>SalePrice vs TotalBsmtSF</li>\n",
    "##### <li>SalePrice vs LotArea</li>\n",
    "\n",
    "##### <li>Neighborhood vs OverallCond</li>\n",
    "##### <li>Neighborhood vs BldgType</li>\n",
    "##### <li>Exterior vs ExteriorCond</li>\n",
    "##### <li>SaleCondition vs OverallCond</li>\n",
    "##### <li>SaleType vs OverallQuall</li>\n",
    "##### <li>SaleType vs HouseStyle</li>\n",
    "##### <li>PropertyAge vs OverallCond</li>\n",
    "##### <li>PropertyAge vs Foundation</li>"
   ]
  },
  {
   "cell_type": "code",
   "execution_count": null,
   "metadata": {},
   "outputs": [],
   "source": [
    "df_housing.columns"
   ]
  },
  {
   "cell_type": "code",
   "execution_count": null,
   "metadata": {},
   "outputs": [],
   "source": [
    "cont_vs_cat_cols = [['SalePrice',  'Neighborhood'],\n",
    "['SalePrice',  'HouseStyle'],\n",
    "['SalePrice', 'OverallQual'],\n",
    "['SalePrice', 'YrSold'],\n",
    "['SalePrice','SaleCondition'],\n",
    "['SalePrice' , 'SaleType'],\n",
    "['PropertyAge','OverallCond'],\n",
    "['PropertyAge','Foundation']]\n",
    "cont_vs_cont_cols = [['SalePrice','GrLivArea'],['SalePrice','TotRmsAbvGrd'],['SalePrice','PropertyAge'],['SalePrice','TotalPorchArea'],['SalePrice','TotalBsmtSF']]\n",
    "cat_vs_cat_cols = [['Neighborhood','OverallCond'],['Neighborhood','BldgType'],['SaleCondition','OverallCond'],['SaleType','OverallQual'],['SaleType','HouseStyle']]"
   ]
  },
  {
   "cell_type": "code",
   "execution_count": null,
   "metadata": {},
   "outputs": [],
   "source": [
    "for row in cat_vs_cat_cols:\n",
    "    plt.figure(figsize=(20,10))\n",
    "    sns.countplot(y=row[0],hue=row[1],data=df_housing)\n",
    "    plt.title(row[0]+ ' vs ' + row[1] )\n",
    "    plt.show()"
   ]
  },
  {
   "cell_type": "code",
   "execution_count": null,
   "metadata": {},
   "outputs": [],
   "source": [
    "for row in cont_vs_cat_cols:\n",
    "    plt.figure(figsize=(20,10))\n",
    "    plt.title(row[1]+ ' vs ' + row[0] )\n",
    "    sns.boxplot(y=row[0],x=row[1],data=df_housing)\n",
    "    plt.show() \n",
    "    "
   ]
  },
  {
   "cell_type": "code",
   "execution_count": null,
   "metadata": {},
   "outputs": [],
   "source": [
    "for row in cont_vs_cont_cols:\n",
    "    plt.figure(figsize=(20,10))\n",
    "    plt.title(row[1]+ ' vs ' + row[0] )\n",
    "    sns.scatterplot(y=row[0],x=row[1],data=df_housing)\n",
    "    plt.show() \n",
    "    "
   ]
  },
  {
   "cell_type": "markdown",
   "metadata": {},
   "source": [
    "#### Bivariate analysis observations:\n",
    "\n",
    "##### <li> A majority of the neighbourhoods have properties whose overall condition is 'Average' with the exception of Crawford, Old Town, Meadow Village and Bluestem.</li>\n",
    "\n",
    "##### <li> Most of the neighbourhoods have a 'Single-family Detached' type of dwelling.</li>\n",
    "\n",
    "##### <li>There are more properties that are in an 'Average' overall condition across the various condition of sale values, with the 'Normal' sale condition having the largest number of properties.</li>\n",
    "\n",
    "\n",
    "##### <li>Properties with 'Warranty Deed - Conventional' sale type have mostly 'Average', 'Above Average' and 'Good' overall quality.</li>\n",
    "\n",
    "##### <li>Properties with 'Home just constructed and sold' sale type have mostly 'Good' and 'Very Good' overall quality.</li>\n",
    "\n",
    "\n",
    "##### <li>A majority of the properties with 'Warranty Deed - Conventional' and 'Home just constructed and sold' sale types are of types 'One story' and 'Two story'.</li>\n",
    "\n",
    "##### <li>Sale prices are higher for the neighbourhoods 'Northridge', 'Northridge Heights' and 'Stone Brook' and the neighbourhoods 'Stone Brook', 'Veenker', 'Northridge Heights' and 'Timeberland' having a larger spread or range of sale price values.</li>\n",
    "\n",
    "##### <li>The house styles 'Two and one-half story: 2nd level finished', 'Two story' and 'One story' have higher sale prices, and the same have a larger range of sale prices compared to the other house styles.</li>\n",
    "\n",
    "##### <li>The sale price also increases steadily with an increase in the rating of the overall material and finish of the house.</li>\n",
    "\n",
    "##### <li>The property sale prices and the spread of the sale prices have remained steady across all the years from 2006 to 2010.</li>\n",
    "\n",
    "\n",
    "##### <li>Properties with sale condition type 'Partial' (Home was not completed when last assessed (associated with New Homes)) have the highest sale prices and the largest range of sale price  values in comparision to other sale condition types.</li>\n",
    "\n",
    "\n",
    "##### <li>Properties whose sale types are 'New' (Home just constructed and sold) and 'Con' (Contract 15% Down payment regular terms) have higher sales prices compared to other sale types.</li>\n",
    "\n",
    "##### <li>Only properties which are between 20 to 50 years old have an 'Average' overall condition, and the properties greater than 50 years of age tend to fall in any of the other overall condition state values. </li>\n",
    "\n",
    "\n",
    "##### <li>Properties with a foundation of either 'Stone' or 'Brick & Tile' are older compared to the others.</li>\n",
    "\n",
    "##### <li>Properties made of 'PConc' (Poured Concrete) are younger in age compared to the other properties.</li>\n",
    "\n",
    "##### <li>There are very few properties whose foundation is made of wood.</li>\n",
    "\n",
    "##### <li>The sale price of the properties increase with an increase in 'GrLivArea' (living area above ground in square feet).</li>\n",
    "\n",
    "##### <li>The maximum sale price of the properties do not show any definitive pattern, but more number of properties that have more rooms tend to have a higher sale price.</li>\n",
    "\n",
    "##### <li>The sale price values for older properties tend to be more stable and lower in value when compared to newer properties that are costlier.</li>\n",
    "\n",
    "##### <li>No definitive trend is visible for sale price vs total porch area.</li>\n",
    "\n",
    "##### <li>The property sale prices tend to increase with an increase in the total basement square feet value.</li>"
   ]
  },
  {
   "cell_type": "markdown",
   "metadata": {},
   "source": [
    "## Step 3. Training and testing data creation."
   ]
  },
  {
   "cell_type": "markdown",
   "metadata": {},
   "source": [
    "#### Creating the dummy variables for the categorical features:"
   ]
  },
  {
   "cell_type": "code",
   "execution_count": null,
   "metadata": {},
   "outputs": [],
   "source": [
    "df_housing_categorical = df_housing.select_dtypes(include=['object'])\n",
    "df_housing_dummies = pd.get_dummies(df_housing_categorical,drop_first=True)\n",
    "df_housing_dummies.head()"
   ]
  },
  {
   "cell_type": "markdown",
   "metadata": {},
   "source": [
    "##### Dropping the categorical variables, and concatenating the dummy variables created wiht the housing data frame:\n"
   ]
  },
  {
   "cell_type": "code",
   "execution_count": null,
   "metadata": {},
   "outputs": [],
   "source": [
    "df_housing.drop(df_housing_categorical.columns,axis=1, inplace=True)\n",
    "df_housing = pd.concat([df_housing,df_housing_dummies], axis = 1)\n"
   ]
  },
  {
   "cell_type": "markdown",
   "metadata": {},
   "source": [
    "#### Splitting the data into test and train data:"
   ]
  },
  {
   "cell_type": "code",
   "execution_count": null,
   "metadata": {},
   "outputs": [],
   "source": [
    "np.random.seed(100)\n",
    "df_train, df_test = train_test_split(df_housing, train_size = 0.7, test_size = 0.3,random_state=100)"
   ]
  },
  {
   "cell_type": "markdown",
   "metadata": {},
   "source": [
    "#### Scaling the numeric data type features using min-max scaling (dummy variables excluded):"
   ]
  },
  {
   "cell_type": "code",
   "execution_count": null,
   "metadata": {},
   "outputs": [],
   "source": [
    "df_train.head()"
   ]
  },
  {
   "cell_type": "code",
   "execution_count": null,
   "metadata": {},
   "outputs": [],
   "source": [
    "minMaxScaler = MinMaxScaler()\n",
    "housing_numeric_cols = df_housing.select_dtypes(include=['int64','float64']).columns\n",
    "df_train[housing_numeric_cols] = minMaxScaler.fit_transform(df_train[housing_numeric_cols])\n",
    "df_train.head()"
   ]
  },
  {
   "cell_type": "markdown",
   "metadata": {},
   "source": [
    "#### Dividing the data into X (independent features) and Y (dependent feature):"
   ]
  },
  {
   "cell_type": "code",
   "execution_count": null,
   "metadata": {},
   "outputs": [],
   "source": [
    "df_train_y = df_train.pop('SalePrice')\n",
    "df_train_x = df_train"
   ]
  },
  {
   "cell_type": "code",
   "execution_count": null,
   "metadata": {},
   "outputs": [],
   "source": [
    "df_train_x.head()"
   ]
  },
  {
   "cell_type": "markdown",
   "metadata": {},
   "source": [
    "## Step 4: Model building using Ridge regression."
   ]
  },
  {
   "cell_type": "markdown",
   "metadata": {},
   "source": [
    "#### Initial recursive feature elimination:"
   ]
  },
  {
   "cell_type": "code",
   "execution_count": null,
   "metadata": {},
   "outputs": [],
   "source": [
    "ridge = Ridge()\n",
    "ridge.fit(df_train_x,df_train_y)\n",
    "rfe = RFE(ridge,15)\n",
    "rfe = rfe.fit(df_train_x, df_train_y)"
   ]
  },
  {
   "cell_type": "code",
   "execution_count": null,
   "metadata": {},
   "outputs": [],
   "source": [
    "selected_features = df_train_x.columns[rfe.support_]"
   ]
  },
  {
   "cell_type": "markdown",
   "metadata": {},
   "source": [
    "#### Retaining only the final list of columns after recursive feature elimination:"
   ]
  },
  {
   "cell_type": "code",
   "execution_count": null,
   "metadata": {},
   "outputs": [],
   "source": [
    "df_train_x_rfe = df_train_x[selected_features]\n",
    "df_train_x_rfe.columns"
   ]
  },
  {
   "cell_type": "markdown",
   "metadata": {},
   "source": [
    "#### Determination of the optimal value of alpha:"
   ]
  },
  {
   "cell_type": "code",
   "execution_count": null,
   "metadata": {},
   "outputs": [],
   "source": [
    "alpha_values = {'alpha': [0.0001, 0.001, 0.01, 0.05, 0.1, \n",
    " 0.2, 0.3, 0.4, 0.5, 0.6, 0.7, 0.8, 0.9, 1.0, 2.0, 3.0, \n",
    " 4.0, 5.0, 6.0, 7.0, 8.0, 9.0, 10.0, 20, 50, 100, 500, 1000 ]}\n",
    "\n",
    "ridge = Ridge()\n",
    "\n",
    "# cross validation\n",
    "folds = 5\n",
    "best_cv = GridSearchCV(estimator = ridge, \n",
    "                        param_grid = alpha_values, \n",
    "                        scoring= 'neg_mean_absolute_error',  \n",
    "                        cv = folds, \n",
    "                        return_train_score=True,\n",
    "                        verbose = 1)            \n",
    "best_cv.fit(df_train_x_rfe, df_train_y) \n",
    "print(best_cv.best_params_)"
   ]
  },
  {
   "cell_type": "markdown",
   "metadata": {},
   "source": [
    "#### Using 5-fold cross-validation, the best value of alpha (hyperparameter) predicted is 0.1\n",
    "#### Proceeding with predicting the outcome and calculating the residuals for the training data:"
   ]
  },
  {
   "cell_type": "code",
   "execution_count": null,
   "metadata": {},
   "outputs": [],
   "source": [
    "ridge1 = Ridge(alpha=best_cv.best_params_['alpha'])\n",
    "ridge1.fit(df_train_x_rfe,df_train_y)\n",
    "df_pred_train = ridge1.predict(df_train_x_rfe)\n",
    "df_res_train = df_train_y - df_pred_train"
   ]
  },
  {
   "cell_type": "markdown",
   "metadata": {},
   "source": [
    "#### Evaluating the model using residual analysis:"
   ]
  },
  {
   "cell_type": "markdown",
   "metadata": {},
   "source": [
    "#### Checking the distribution of the error terms:"
   ]
  },
  {
   "cell_type": "code",
   "execution_count": null,
   "metadata": {},
   "outputs": [],
   "source": [
    "sns.distplot(df_res_train, bins = 20)\n",
    "plt.title('Distribution of training data residuals:')\n",
    "plt.xlabel('Residuals')\n",
    "plt.show()"
   ]
  },
  {
   "cell_type": "markdown",
   "metadata": {},
   "source": [
    "#### Checking the independence and homoscedasticity of the error terms:"
   ]
  },
  {
   "cell_type": "code",
   "execution_count": null,
   "metadata": {},
   "outputs": [],
   "source": [
    "## plotting residual errors in training data\n",
    "sns.scatterplot(data=df_res_train)\n",
    "plt.title('Scatterplot of the residuals:')\n",
    "plt.ylabel('Residuals')\n",
    "plt.show()"
   ]
  },
  {
   "cell_type": "markdown",
   "metadata": {},
   "source": [
    "#### Residual analysis observations:\n",
    "##### <li>The error terms are normally distributed around 0.</li>\n",
    "##### <li> The error terms are mostly homoscedastics and appear to be independent of each other.</li>"
   ]
  },
  {
   "cell_type": "markdown",
   "metadata": {},
   "source": [
    "#### Evaluating the model using test data:\n"
   ]
  },
  {
   "cell_type": "markdown",
   "metadata": {},
   "source": [
    "#### Scaling test data first:"
   ]
  },
  {
   "cell_type": "code",
   "execution_count": null,
   "metadata": {},
   "outputs": [],
   "source": [
    "housing_numeric_cols = df_housing.select_dtypes(include=['int64','float64']).columns\n",
    "df_test[housing_numeric_cols] = minMaxScaler.transform(df_test[housing_numeric_cols])\n",
    "df_test.head()"
   ]
  },
  {
   "cell_type": "markdown",
   "metadata": {},
   "source": [
    "#### Predicting the sale price for the test data:"
   ]
  },
  {
   "cell_type": "code",
   "execution_count": null,
   "metadata": {},
   "outputs": [],
   "source": [
    "df_test_y = df_test.pop('SalePrice')\n",
    "df_test_x_rfe = df_test[selected_features]\n",
    "df_pred_test = ridge1.predict(df_test_x_rfe)\n"
   ]
  },
  {
   "cell_type": "markdown",
   "metadata": {},
   "source": [
    "#### Plotting the actual vs predicted sale price (scaling applied) for the test data:"
   ]
  },
  {
   "cell_type": "code",
   "execution_count": null,
   "metadata": {},
   "outputs": [],
   "source": [
    "plt.scatter(df_test_y, df_pred_test)\n",
    "plt.title('Actual vs Predicted Sale Price (Ridge regression)') \n",
    "plt.xlabel('Actual')\n",
    "plt.ylabel('Predicted')\n",
    "plt.show()"
   ]
  },
  {
   "cell_type": "markdown",
   "metadata": {},
   "source": [
    "#### The above scattter plot indicates a linear relationship through which a line of best fit can be plotted, indicating a good model."
   ]
  },
  {
   "cell_type": "markdown",
   "metadata": {},
   "source": [
    "#### Model Evaluation using the R-squared test on both the train and test data:"
   ]
  },
  {
   "cell_type": "code",
   "execution_count": null,
   "metadata": {},
   "outputs": [],
   "source": [
    "print(\"R2 score for training data: \",r2_score(df_train_y,df_pred_train))\n",
    "print(\"R2 score for test data: \",r2_score(df_test_y,df_pred_test))"
   ]
  },
  {
   "cell_type": "markdown",
   "metadata": {},
   "source": [
    "#### <li>The model, as per its R2 score, is able to explain approximately 84% of the variance in the training data and approximately 79% of the variance in the test data for the target feature 'SalePrice'.</li>\n",
    "#### <li>Since the R2 score difference for the training and test data is less than 5%, and based on the observations made in the residual analysis and actual vs predicted scatter plot analysis, we can say with confidence that the built model, with regularization applied (alpha = 0.1) is a good one.</li>\n",
    "#### NOTE: The number of features were initially reduced to 15 using recursive feature elimination (RFE)."
   ]
  },
  {
   "cell_type": "markdown",
   "metadata": {},
   "source": [
    "#### Summarizing the most important features for the created model using ridge regression, along with their co-efficient values:"
   ]
  },
  {
   "cell_type": "code",
   "execution_count": null,
   "metadata": {},
   "outputs": [],
   "source": [
    "model_ridge = pd.DataFrame()\n",
    "model_ridge['Features'] = df_train_x_rfe.columns\n",
    "model_ridge['Beta Values(co-efficents)'] = ridge1.coef_\n",
    "model_ridge1 = model_ridge[model_ridge['Beta Values(co-efficents)']>0].sort_values(by=['Beta Values(co-efficents)'],ascending=False)\n",
    "model_ridge2 = model_ridge[model_ridge['Beta Values(co-efficents)']<0].sort_values(by=['Beta Values(co-efficents)'],ascending=True)\n",
    "model_ridge = model_ridge1.merge(model_ridge2,how='outer')\n",
    "print(\"List of the top 15 most important features that influence SalePrice (using Ridge regression):\")\n",
    "print(model_ridge)"
   ]
  },
  {
   "cell_type": "markdown",
   "metadata": {},
   "source": [
    "#### The top 5 most important independent features that influence the dependent feature 'SalePrice', using a ridge regression model are:\n",
    "##### <li><b>Proximity_PosN</b> (Proximity condition: Near positive off-site feature--park, greenbelt, etc.)</li>\n",
    "##### <li><b>GrLivArea</b> (Above grade (ground) living area square feet)</li>\n",
    "##### <li><b>OverallQual_10</b> (Rating of the overall material and finish of the house: 10 i.e. 'Very Excellent'</li>\n",
    "##### <li><b>OverallQual_9</b> (Rating of the overall material and finish of the house: 10 i.e. 'Excellent'</li>\n",
    "##### <li><b>Exterior_Wd Sdng_ImStucc</b> (The exterior covering combination of 'Wood Siding'+'Imitation Stucco')</li>"
   ]
  },
  {
   "cell_type": "markdown",
   "metadata": {},
   "source": [
    "## Step 5. Model building using Lasso Regression."
   ]
  },
  {
   "cell_type": "markdown",
   "metadata": {},
   "source": [
    "#### Determining the optimal value of alpha for lasso regression, using the cross validation technique:"
   ]
  },
  {
   "cell_type": "code",
   "execution_count": null,
   "metadata": {},
   "outputs": [],
   "source": [
    "lasso = Lasso()\n",
    "\n",
    "best_cv = GridSearchCV(estimator = lasso, \n",
    "                        param_grid = alpha_values, \n",
    "                        scoring= 'neg_mean_absolute_error', \n",
    "                        cv = folds, \n",
    "                        return_train_score=True,\n",
    "                        verbose = 1)\n",
    "\n",
    "best_cv.fit(df_train_x,df_train_y)   \n",
    "print(best_cv.best_params_)             "
   ]
  },
  {
   "cell_type": "markdown",
   "metadata": {},
   "source": [
    "#### The best value of alpha, using cross-validation was found to be 0.0001\n",
    "#### Fitting the training data using this value of alpha and predicting the output for the train and test data\n",
    "#### NOTE: scaling of the train and test data is already done during model building with ridge regression."
   ]
  },
  {
   "cell_type": "code",
   "execution_count": null,
   "metadata": {},
   "outputs": [],
   "source": [
    "lasso1 = Lasso(alpha=best_cv.best_params_['alpha'])\n",
    "lasso1.fit(df_train_x,df_train_y)\n",
    "\n",
    "df_pred_train_lasso = lasso1.predict(df_train_x)\n",
    "df_res_train_lasso = df_train_y - df_pred_train_lasso\n",
    "df_test_x = df_test\n",
    "df_pred_test_lasso = lasso1.predict(df_test_x)\n",
    "df_res_test_lasso = df_test_y - df_pred_test_lasso"
   ]
  },
  {
   "cell_type": "markdown",
   "metadata": {},
   "source": [
    "#### Evaluation of the residuals:"
   ]
  },
  {
   "cell_type": "markdown",
   "metadata": {},
   "source": [
    "#### Checking the distribution of the error terms:"
   ]
  },
  {
   "cell_type": "code",
   "execution_count": null,
   "metadata": {},
   "outputs": [],
   "source": [
    "sns.distplot(df_res_train_lasso, bins = 20)\n",
    "plt.title('Distribution of training data residuals (Lasso regression):')\n",
    "plt.xlabel('Residuals')\n",
    "plt.show()"
   ]
  },
  {
   "cell_type": "markdown",
   "metadata": {},
   "source": [
    "#### Checking the independence and homoscedasticity of the error terms:"
   ]
  },
  {
   "cell_type": "code",
   "execution_count": null,
   "metadata": {},
   "outputs": [],
   "source": [
    "sns.scatterplot(data=df_res_train_lasso)\n",
    "plt.title('Scatterplot of the residuals(Lasso regression):')\n",
    "plt.ylabel('Residuals')\n",
    "plt.show()"
   ]
  },
  {
   "cell_type": "markdown",
   "metadata": {},
   "source": [
    "#### Residual analysis observations:\n",
    "##### <li> The residuals of the training data have a normal distribution.</li>\n",
    "##### <li> The residuals are independent of each other and barring a few values, are mostly homoscedastic and have a constant variance."
   ]
  },
  {
   "cell_type": "markdown",
   "metadata": {},
   "source": [
    "#### Plotting the actual vs predicted sale price values, for the test data:"
   ]
  },
  {
   "cell_type": "code",
   "execution_count": null,
   "metadata": {},
   "outputs": [],
   "source": [
    "plt.scatter(df_test_y, df_pred_test_lasso)\n",
    "plt.title('Actual vs Predicted Sale Price (Lasso regression)') \n",
    "plt.xlabel('Actual')\n",
    "plt.ylabel('Predicted')\n",
    "plt.show()"
   ]
  },
  {
   "cell_type": "markdown",
   "metadata": {},
   "source": [
    "#### Observation:\n",
    "##### <li>There is linear relationship between the actual and predicted output value, through which a line of best fit can be plotted.</li>\n",
    "##### <li> This is an indication of a good model.</li>"
   ]
  },
  {
   "cell_type": "markdown",
   "metadata": {},
   "source": [
    "#### Checking the R2 scores of the model for both the train and test data:"
   ]
  },
  {
   "cell_type": "code",
   "execution_count": null,
   "metadata": {},
   "outputs": [],
   "source": [
    "print(\"R2 score for training data: \",r2_score(df_train_y,df_pred_train_lasso))\n",
    "print(\"R2 score for test data: \",r2_score(df_test_y,df_pred_test_lasso))"
   ]
  },
  {
   "cell_type": "markdown",
   "metadata": {},
   "source": [
    "#### Observations:\n",
    "##### <li>The model is able to explain approximately 90% of the variance in the output of the training data and 85% of the variance in the output of the test data.</li>\n",
    "##### <li> Since the difference  in the R2 scores of the test and train data sets is not more than 5%, we can say with reasonable confidence that the created model, with alpha = 0.0001, is good.</li>"
   ]
  },
  {
   "cell_type": "markdown",
   "metadata": {},
   "source": [
    "#### Summarizing the most important independent features and their co-efficient (beta) values:"
   ]
  },
  {
   "cell_type": "code",
   "execution_count": null,
   "metadata": {},
   "outputs": [],
   "source": [
    "model_lasso = pd.DataFrame()\n",
    "model_lasso['Features'] = df_train_x.columns\n",
    "model_lasso['Beta Values(co-efficents)'] = lasso1.coef_\n",
    "model_lasso1 = model_lasso[model_lasso['Beta Values(co-efficents)']>0].sort_values(by=['Beta Values(co-efficents)'],ascending=False)\n",
    "model_lasso2 = model_lasso[model_lasso['Beta Values(co-efficents)']<0].sort_values(by=['Beta Values(co-efficents)'],ascending=True)\n",
    "model_lasso_final = model_lasso1.append(model_lasso2,ignore_index=True)\n",
    "print(\"List of the features that influence SalePrice (using Lasso regression):\")\n",
    "print(model_lasso_final)"
   ]
  },
  {
   "cell_type": "markdown",
   "metadata": {},
   "source": [
    "#### The top 5 most important independent features that influence the dependent feature 'SalePrice', using a lasso regression model are:\n",
    "##### <li><b>GrLivArea</b> (Above grade (ground) living area square feet)</li>\n",
    "##### <li><b>Proximity_PosN</b> (Proximity condition: Near positive off-site feature--park, greenbelt, etc.)</li>\n",
    "##### <li><b>OverallQual_10</b> (Rating of the overall material and finish of the house: 10 i.e. 'Very Excellent'</li>\n",
    "##### <li><b>RoofMatl_WdShngl</b> (Roof material: 'Wood Shingles')</li>\n",
    "##### <li><b>Exterior_Wd Sdng_ImStucc</b> (The exterior covering combination of 'Wood Siding'+'Imitation Stucco')</li>"
   ]
  }
 ],
 "metadata": {
  "interpreter": {
   "hash": "378578d9f7814040ffa7b4b49191f1ba73f8b925ec7f2ae062101dc878eed5fb"
  },
  "kernelspec": {
   "display_name": "Python 3.8.10 64-bit (windows store)",
   "language": "python",
   "name": "python3"
  },
  "language_info": {
   "codemirror_mode": {
    "name": "ipython",
    "version": 3
   },
   "file_extension": ".py",
   "mimetype": "text/x-python",
   "name": "python",
   "nbconvert_exporter": "python",
   "pygments_lexer": "ipython3",
   "version": "3.8.8"
  },
  "orig_nbformat": 4
 },
 "nbformat": 4,
 "nbformat_minor": 2
}
