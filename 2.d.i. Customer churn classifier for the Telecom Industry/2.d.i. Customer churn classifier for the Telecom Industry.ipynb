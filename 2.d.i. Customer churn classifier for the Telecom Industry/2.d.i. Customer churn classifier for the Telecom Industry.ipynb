{
 "cells": [
  {
   "cell_type": "markdown",
   "metadata": {},
   "source": [
    "# <b><u>Telecom Churn Case Study:</b></u>\n",
    "## <b>Predict churning customers for a Telecom company based on temporal behaviour</b>:\n",
    "## <b><u>Aim:</b></u>\n",
    "### <ol>1. To build a machine learning models to best predict whether the high-value customer will churn or not.</ol>\n",
    "### <ol>2. To identify the most important variables that are strong predictors of customer churn.</ol>"
   ]
  },
  {
   "cell_type": "markdown",
   "metadata": {},
   "source": [
    "## <b><u>Problem solving steps:</b></u>\n",
    "### <ol>1. Initial analysis, data visualization and data cleanup.</ol>\n",
    "### <ol>2. Model building using principal component analysis(PCA) with logistic regression for the Kaggle competition.</ol>\n",
    "### <ol>3. Model building using principal component analysis(PCA) with random forest for the Kaggle competition.</ol>\n",
    "### <ol>4. Model performance comparison and selection of the best performing model  for the Kaggle competition.</ol>\n",
    "### <ol>5. Model building using logistic regression(without PCA).</ol>\n",
    "### <ol>6. Model building using with random forest(without PCA).</ol>\n",
    "### <ol>7. Important variable identification.</ol>\n",
    "\n"
   ]
  },
  {
   "cell_type": "markdown",
   "metadata": {},
   "source": [
    "## Step 1: <b><u>Initial analysis, data visualization and data cleanup:</b></u>"
   ]
  },
  {
   "cell_type": "code",
   "execution_count": 1,
   "metadata": {},
   "outputs": [],
   "source": [
    "# Import the necessary libraries\n",
    "import numpy as np\n",
    "import pandas as pd\n",
    "import seaborn as sns\n",
    "import matplotlib.pyplot as plt\n",
    "import warnings\n",
    "from sklearn.model_selection import train_test_split\n",
    "from sklearn.model_selection import GridSearchCV\n",
    "from sklearn.preprocessing import StandardScaler\n",
    "from sklearn.utils import resample\n",
    "from sklearn.decomposition import IncrementalPCA\n",
    "from sklearn.linear_model import LogisticRegression\n",
    "from sklearn.ensemble import RandomForestClassifier\n",
    "from sklearn.metrics import plot_roc_curve\n",
    "from sklearn import metrics\n",
    "warnings.filterwarnings('ignore')\n",
    "#pd.set_option('max_row', None)\n",
    "pd.set_option(\"max_colwidth\", 100000)"
   ]
  },
  {
   "cell_type": "code",
   "execution_count": 2,
   "metadata": {},
   "outputs": [],
   "source": [
    "df_telecom = pd.read_csv('train.csv')\n",
    "df_telecom_unseen=pd.read_csv('test.csv')\n",
    "output=df_telecom_unseen['id']\n",
    "output2=df_telecom_unseen['id']\n",
    "output_log=df_telecom_unseen['id']\n",
    "output_rf=df_telecom_unseen['id']"
   ]
  },
  {
   "cell_type": "code",
   "execution_count": 3,
   "metadata": {},
   "outputs": [
    {
     "data": {
      "text/html": [
       "<div>\n",
       "<style scoped>\n",
       "    .dataframe tbody tr th:only-of-type {\n",
       "        vertical-align: middle;\n",
       "    }\n",
       "\n",
       "    .dataframe tbody tr th {\n",
       "        vertical-align: top;\n",
       "    }\n",
       "\n",
       "    .dataframe thead th {\n",
       "        text-align: right;\n",
       "    }\n",
       "</style>\n",
       "<table border=\"1\" class=\"dataframe\">\n",
       "  <thead>\n",
       "    <tr style=\"text-align: right;\">\n",
       "      <th></th>\n",
       "      <th>id</th>\n",
       "      <th>circle_id</th>\n",
       "      <th>loc_og_t2o_mou</th>\n",
       "      <th>std_og_t2o_mou</th>\n",
       "      <th>loc_ic_t2o_mou</th>\n",
       "      <th>last_date_of_month_6</th>\n",
       "      <th>last_date_of_month_7</th>\n",
       "      <th>last_date_of_month_8</th>\n",
       "      <th>arpu_6</th>\n",
       "      <th>arpu_7</th>\n",
       "      <th>...</th>\n",
       "      <th>sachet_3g_7</th>\n",
       "      <th>sachet_3g_8</th>\n",
       "      <th>fb_user_6</th>\n",
       "      <th>fb_user_7</th>\n",
       "      <th>fb_user_8</th>\n",
       "      <th>aon</th>\n",
       "      <th>aug_vbc_3g</th>\n",
       "      <th>jul_vbc_3g</th>\n",
       "      <th>jun_vbc_3g</th>\n",
       "      <th>churn_probability</th>\n",
       "    </tr>\n",
       "  </thead>\n",
       "  <tbody>\n",
       "    <tr>\n",
       "      <th>0</th>\n",
       "      <td>0</td>\n",
       "      <td>109</td>\n",
       "      <td>0.0</td>\n",
       "      <td>0.0</td>\n",
       "      <td>0.0</td>\n",
       "      <td>6/30/2014</td>\n",
       "      <td>7/31/2014</td>\n",
       "      <td>8/31/2014</td>\n",
       "      <td>31.277</td>\n",
       "      <td>87.009</td>\n",
       "      <td>...</td>\n",
       "      <td>0</td>\n",
       "      <td>0</td>\n",
       "      <td>NaN</td>\n",
       "      <td>NaN</td>\n",
       "      <td>NaN</td>\n",
       "      <td>1958</td>\n",
       "      <td>0.0</td>\n",
       "      <td>0.0</td>\n",
       "      <td>0.0</td>\n",
       "      <td>0</td>\n",
       "    </tr>\n",
       "    <tr>\n",
       "      <th>1</th>\n",
       "      <td>1</td>\n",
       "      <td>109</td>\n",
       "      <td>0.0</td>\n",
       "      <td>0.0</td>\n",
       "      <td>0.0</td>\n",
       "      <td>6/30/2014</td>\n",
       "      <td>7/31/2014</td>\n",
       "      <td>8/31/2014</td>\n",
       "      <td>0.000</td>\n",
       "      <td>122.787</td>\n",
       "      <td>...</td>\n",
       "      <td>0</td>\n",
       "      <td>0</td>\n",
       "      <td>NaN</td>\n",
       "      <td>1.0</td>\n",
       "      <td>NaN</td>\n",
       "      <td>710</td>\n",
       "      <td>0.0</td>\n",
       "      <td>0.0</td>\n",
       "      <td>0.0</td>\n",
       "      <td>0</td>\n",
       "    </tr>\n",
       "    <tr>\n",
       "      <th>2</th>\n",
       "      <td>2</td>\n",
       "      <td>109</td>\n",
       "      <td>0.0</td>\n",
       "      <td>0.0</td>\n",
       "      <td>0.0</td>\n",
       "      <td>6/30/2014</td>\n",
       "      <td>7/31/2014</td>\n",
       "      <td>8/31/2014</td>\n",
       "      <td>60.806</td>\n",
       "      <td>103.176</td>\n",
       "      <td>...</td>\n",
       "      <td>0</td>\n",
       "      <td>0</td>\n",
       "      <td>NaN</td>\n",
       "      <td>NaN</td>\n",
       "      <td>NaN</td>\n",
       "      <td>882</td>\n",
       "      <td>0.0</td>\n",
       "      <td>0.0</td>\n",
       "      <td>0.0</td>\n",
       "      <td>0</td>\n",
       "    </tr>\n",
       "    <tr>\n",
       "      <th>3</th>\n",
       "      <td>3</td>\n",
       "      <td>109</td>\n",
       "      <td>0.0</td>\n",
       "      <td>0.0</td>\n",
       "      <td>0.0</td>\n",
       "      <td>6/30/2014</td>\n",
       "      <td>7/31/2014</td>\n",
       "      <td>8/31/2014</td>\n",
       "      <td>156.362</td>\n",
       "      <td>205.260</td>\n",
       "      <td>...</td>\n",
       "      <td>0</td>\n",
       "      <td>0</td>\n",
       "      <td>NaN</td>\n",
       "      <td>NaN</td>\n",
       "      <td>NaN</td>\n",
       "      <td>982</td>\n",
       "      <td>0.0</td>\n",
       "      <td>0.0</td>\n",
       "      <td>0.0</td>\n",
       "      <td>0</td>\n",
       "    </tr>\n",
       "    <tr>\n",
       "      <th>4</th>\n",
       "      <td>4</td>\n",
       "      <td>109</td>\n",
       "      <td>0.0</td>\n",
       "      <td>0.0</td>\n",
       "      <td>0.0</td>\n",
       "      <td>6/30/2014</td>\n",
       "      <td>7/31/2014</td>\n",
       "      <td>8/31/2014</td>\n",
       "      <td>240.708</td>\n",
       "      <td>128.191</td>\n",
       "      <td>...</td>\n",
       "      <td>1</td>\n",
       "      <td>0</td>\n",
       "      <td>1.0</td>\n",
       "      <td>1.0</td>\n",
       "      <td>1.0</td>\n",
       "      <td>647</td>\n",
       "      <td>0.0</td>\n",
       "      <td>0.0</td>\n",
       "      <td>0.0</td>\n",
       "      <td>0</td>\n",
       "    </tr>\n",
       "  </tbody>\n",
       "</table>\n",
       "<p>5 rows × 172 columns</p>\n",
       "</div>"
      ],
      "text/plain": [
       "   id  circle_id  loc_og_t2o_mou  std_og_t2o_mou  loc_ic_t2o_mou  \\\n",
       "0   0        109             0.0             0.0             0.0   \n",
       "1   1        109             0.0             0.0             0.0   \n",
       "2   2        109             0.0             0.0             0.0   \n",
       "3   3        109             0.0             0.0             0.0   \n",
       "4   4        109             0.0             0.0             0.0   \n",
       "\n",
       "  last_date_of_month_6 last_date_of_month_7 last_date_of_month_8   arpu_6  \\\n",
       "0            6/30/2014            7/31/2014            8/31/2014   31.277   \n",
       "1            6/30/2014            7/31/2014            8/31/2014    0.000   \n",
       "2            6/30/2014            7/31/2014            8/31/2014   60.806   \n",
       "3            6/30/2014            7/31/2014            8/31/2014  156.362   \n",
       "4            6/30/2014            7/31/2014            8/31/2014  240.708   \n",
       "\n",
       "    arpu_7  ...  sachet_3g_7  sachet_3g_8  fb_user_6  fb_user_7  fb_user_8  \\\n",
       "0   87.009  ...            0            0        NaN        NaN        NaN   \n",
       "1  122.787  ...            0            0        NaN        1.0        NaN   \n",
       "2  103.176  ...            0            0        NaN        NaN        NaN   \n",
       "3  205.260  ...            0            0        NaN        NaN        NaN   \n",
       "4  128.191  ...            1            0        1.0        1.0        1.0   \n",
       "\n",
       "    aon  aug_vbc_3g  jul_vbc_3g  jun_vbc_3g  churn_probability  \n",
       "0  1958         0.0         0.0         0.0                  0  \n",
       "1   710         0.0         0.0         0.0                  0  \n",
       "2   882         0.0         0.0         0.0                  0  \n",
       "3   982         0.0         0.0         0.0                  0  \n",
       "4   647         0.0         0.0         0.0                  0  \n",
       "\n",
       "[5 rows x 172 columns]"
      ]
     },
     "execution_count": 3,
     "metadata": {},
     "output_type": "execute_result"
    }
   ],
   "source": [
    "df_telecom.head()"
   ]
  },
  {
   "cell_type": "code",
   "execution_count": 4,
   "metadata": {},
   "outputs": [
    {
     "data": {
      "text/plain": [
       "(69999, 172)"
      ]
     },
     "execution_count": 4,
     "metadata": {},
     "output_type": "execute_result"
    }
   ],
   "source": [
    "df_telecom.shape"
   ]
  },
  {
   "cell_type": "code",
   "execution_count": 5,
   "metadata": {},
   "outputs": [
    {
     "name": "stdout",
     "output_type": "stream",
     "text": [
      "<class 'pandas.core.frame.DataFrame'>\n",
      "RangeIndex: 69999 entries, 0 to 69998\n",
      "Columns: 172 entries, id to churn_probability\n",
      "dtypes: float64(135), int64(28), object(9)\n",
      "memory usage: 91.9+ MB\n"
     ]
    }
   ],
   "source": [
    "df_telecom.info()"
   ]
  },
  {
   "cell_type": "code",
   "execution_count": 6,
   "metadata": {},
   "outputs": [
    {
     "data": {
      "text/html": [
       "<div>\n",
       "<style scoped>\n",
       "    .dataframe tbody tr th:only-of-type {\n",
       "        vertical-align: middle;\n",
       "    }\n",
       "\n",
       "    .dataframe tbody tr th {\n",
       "        vertical-align: top;\n",
       "    }\n",
       "\n",
       "    .dataframe thead th {\n",
       "        text-align: right;\n",
       "    }\n",
       "</style>\n",
       "<table border=\"1\" class=\"dataframe\">\n",
       "  <thead>\n",
       "    <tr style=\"text-align: right;\">\n",
       "      <th></th>\n",
       "      <th>id</th>\n",
       "      <th>circle_id</th>\n",
       "      <th>loc_og_t2o_mou</th>\n",
       "      <th>std_og_t2o_mou</th>\n",
       "      <th>loc_ic_t2o_mou</th>\n",
       "      <th>arpu_6</th>\n",
       "      <th>arpu_7</th>\n",
       "      <th>arpu_8</th>\n",
       "      <th>onnet_mou_6</th>\n",
       "      <th>onnet_mou_7</th>\n",
       "      <th>...</th>\n",
       "      <th>sachet_3g_7</th>\n",
       "      <th>sachet_3g_8</th>\n",
       "      <th>fb_user_6</th>\n",
       "      <th>fb_user_7</th>\n",
       "      <th>fb_user_8</th>\n",
       "      <th>aon</th>\n",
       "      <th>aug_vbc_3g</th>\n",
       "      <th>jul_vbc_3g</th>\n",
       "      <th>jun_vbc_3g</th>\n",
       "      <th>churn_probability</th>\n",
       "    </tr>\n",
       "  </thead>\n",
       "  <tbody>\n",
       "    <tr>\n",
       "      <th>count</th>\n",
       "      <td>69999.000000</td>\n",
       "      <td>69999.0</td>\n",
       "      <td>69297.0</td>\n",
       "      <td>69297.0</td>\n",
       "      <td>69297.0</td>\n",
       "      <td>69999.000000</td>\n",
       "      <td>69999.000000</td>\n",
       "      <td>69999.000000</td>\n",
       "      <td>67231.000000</td>\n",
       "      <td>67312.000000</td>\n",
       "      <td>...</td>\n",
       "      <td>69999.000000</td>\n",
       "      <td>69999.000000</td>\n",
       "      <td>17568.000000</td>\n",
       "      <td>17865.000000</td>\n",
       "      <td>18417.000000</td>\n",
       "      <td>69999.000000</td>\n",
       "      <td>69999.000000</td>\n",
       "      <td>69999.000000</td>\n",
       "      <td>69999.00000</td>\n",
       "      <td>69999.000000</td>\n",
       "    </tr>\n",
       "    <tr>\n",
       "      <th>mean</th>\n",
       "      <td>34999.000000</td>\n",
       "      <td>109.0</td>\n",
       "      <td>0.0</td>\n",
       "      <td>0.0</td>\n",
       "      <td>0.0</td>\n",
       "      <td>283.134365</td>\n",
       "      <td>278.185912</td>\n",
       "      <td>278.858826</td>\n",
       "      <td>133.153275</td>\n",
       "      <td>133.894438</td>\n",
       "      <td>...</td>\n",
       "      <td>0.081444</td>\n",
       "      <td>0.085487</td>\n",
       "      <td>0.916325</td>\n",
       "      <td>0.909544</td>\n",
       "      <td>0.890319</td>\n",
       "      <td>1220.639709</td>\n",
       "      <td>68.108597</td>\n",
       "      <td>65.935830</td>\n",
       "      <td>60.07674</td>\n",
       "      <td>0.101887</td>\n",
       "    </tr>\n",
       "    <tr>\n",
       "      <th>std</th>\n",
       "      <td>20207.115084</td>\n",
       "      <td>0.0</td>\n",
       "      <td>0.0</td>\n",
       "      <td>0.0</td>\n",
       "      <td>0.0</td>\n",
       "      <td>334.213918</td>\n",
       "      <td>344.366927</td>\n",
       "      <td>351.924315</td>\n",
       "      <td>299.963093</td>\n",
       "      <td>311.277193</td>\n",
       "      <td>...</td>\n",
       "      <td>0.634547</td>\n",
       "      <td>0.680035</td>\n",
       "      <td>0.276907</td>\n",
       "      <td>0.286842</td>\n",
       "      <td>0.312501</td>\n",
       "      <td>952.426321</td>\n",
       "      <td>269.328659</td>\n",
       "      <td>267.899034</td>\n",
       "      <td>257.22681</td>\n",
       "      <td>0.302502</td>\n",
       "    </tr>\n",
       "    <tr>\n",
       "      <th>min</th>\n",
       "      <td>0.000000</td>\n",
       "      <td>109.0</td>\n",
       "      <td>0.0</td>\n",
       "      <td>0.0</td>\n",
       "      <td>0.0</td>\n",
       "      <td>-2258.709000</td>\n",
       "      <td>-1289.715000</td>\n",
       "      <td>-945.808000</td>\n",
       "      <td>0.000000</td>\n",
       "      <td>0.000000</td>\n",
       "      <td>...</td>\n",
       "      <td>0.000000</td>\n",
       "      <td>0.000000</td>\n",
       "      <td>0.000000</td>\n",
       "      <td>0.000000</td>\n",
       "      <td>0.000000</td>\n",
       "      <td>180.000000</td>\n",
       "      <td>0.000000</td>\n",
       "      <td>0.000000</td>\n",
       "      <td>0.00000</td>\n",
       "      <td>0.000000</td>\n",
       "    </tr>\n",
       "    <tr>\n",
       "      <th>25%</th>\n",
       "      <td>17499.500000</td>\n",
       "      <td>109.0</td>\n",
       "      <td>0.0</td>\n",
       "      <td>0.0</td>\n",
       "      <td>0.0</td>\n",
       "      <td>93.581000</td>\n",
       "      <td>86.714000</td>\n",
       "      <td>84.095000</td>\n",
       "      <td>7.410000</td>\n",
       "      <td>6.675000</td>\n",
       "      <td>...</td>\n",
       "      <td>0.000000</td>\n",
       "      <td>0.000000</td>\n",
       "      <td>1.000000</td>\n",
       "      <td>1.000000</td>\n",
       "      <td>1.000000</td>\n",
       "      <td>468.000000</td>\n",
       "      <td>0.000000</td>\n",
       "      <td>0.000000</td>\n",
       "      <td>0.00000</td>\n",
       "      <td>0.000000</td>\n",
       "    </tr>\n",
       "    <tr>\n",
       "      <th>50%</th>\n",
       "      <td>34999.000000</td>\n",
       "      <td>109.0</td>\n",
       "      <td>0.0</td>\n",
       "      <td>0.0</td>\n",
       "      <td>0.0</td>\n",
       "      <td>197.484000</td>\n",
       "      <td>191.588000</td>\n",
       "      <td>192.234000</td>\n",
       "      <td>34.110000</td>\n",
       "      <td>32.280000</td>\n",
       "      <td>...</td>\n",
       "      <td>0.000000</td>\n",
       "      <td>0.000000</td>\n",
       "      <td>1.000000</td>\n",
       "      <td>1.000000</td>\n",
       "      <td>1.000000</td>\n",
       "      <td>868.000000</td>\n",
       "      <td>0.000000</td>\n",
       "      <td>0.000000</td>\n",
       "      <td>0.00000</td>\n",
       "      <td>0.000000</td>\n",
       "    </tr>\n",
       "    <tr>\n",
       "      <th>75%</th>\n",
       "      <td>52498.500000</td>\n",
       "      <td>109.0</td>\n",
       "      <td>0.0</td>\n",
       "      <td>0.0</td>\n",
       "      <td>0.0</td>\n",
       "      <td>370.791000</td>\n",
       "      <td>365.369500</td>\n",
       "      <td>369.909000</td>\n",
       "      <td>119.390000</td>\n",
       "      <td>115.837500</td>\n",
       "      <td>...</td>\n",
       "      <td>0.000000</td>\n",
       "      <td>0.000000</td>\n",
       "      <td>1.000000</td>\n",
       "      <td>1.000000</td>\n",
       "      <td>1.000000</td>\n",
       "      <td>1813.000000</td>\n",
       "      <td>0.000000</td>\n",
       "      <td>0.000000</td>\n",
       "      <td>0.00000</td>\n",
       "      <td>0.000000</td>\n",
       "    </tr>\n",
       "    <tr>\n",
       "      <th>max</th>\n",
       "      <td>69998.000000</td>\n",
       "      <td>109.0</td>\n",
       "      <td>0.0</td>\n",
       "      <td>0.0</td>\n",
       "      <td>0.0</td>\n",
       "      <td>27731.088000</td>\n",
       "      <td>35145.834000</td>\n",
       "      <td>33543.624000</td>\n",
       "      <td>7376.710000</td>\n",
       "      <td>8157.780000</td>\n",
       "      <td>...</td>\n",
       "      <td>33.000000</td>\n",
       "      <td>41.000000</td>\n",
       "      <td>1.000000</td>\n",
       "      <td>1.000000</td>\n",
       "      <td>1.000000</td>\n",
       "      <td>4337.000000</td>\n",
       "      <td>12916.220000</td>\n",
       "      <td>9165.600000</td>\n",
       "      <td>11166.21000</td>\n",
       "      <td>1.000000</td>\n",
       "    </tr>\n",
       "  </tbody>\n",
       "</table>\n",
       "<p>8 rows × 163 columns</p>\n",
       "</div>"
      ],
      "text/plain": [
       "                 id  circle_id  loc_og_t2o_mou  std_og_t2o_mou  \\\n",
       "count  69999.000000    69999.0         69297.0         69297.0   \n",
       "mean   34999.000000      109.0             0.0             0.0   \n",
       "std    20207.115084        0.0             0.0             0.0   \n",
       "min        0.000000      109.0             0.0             0.0   \n",
       "25%    17499.500000      109.0             0.0             0.0   \n",
       "50%    34999.000000      109.0             0.0             0.0   \n",
       "75%    52498.500000      109.0             0.0             0.0   \n",
       "max    69998.000000      109.0             0.0             0.0   \n",
       "\n",
       "       loc_ic_t2o_mou        arpu_6        arpu_7        arpu_8   onnet_mou_6  \\\n",
       "count         69297.0  69999.000000  69999.000000  69999.000000  67231.000000   \n",
       "mean              0.0    283.134365    278.185912    278.858826    133.153275   \n",
       "std               0.0    334.213918    344.366927    351.924315    299.963093   \n",
       "min               0.0  -2258.709000  -1289.715000   -945.808000      0.000000   \n",
       "25%               0.0     93.581000     86.714000     84.095000      7.410000   \n",
       "50%               0.0    197.484000    191.588000    192.234000     34.110000   \n",
       "75%               0.0    370.791000    365.369500    369.909000    119.390000   \n",
       "max               0.0  27731.088000  35145.834000  33543.624000   7376.710000   \n",
       "\n",
       "        onnet_mou_7  ...   sachet_3g_7   sachet_3g_8     fb_user_6  \\\n",
       "count  67312.000000  ...  69999.000000  69999.000000  17568.000000   \n",
       "mean     133.894438  ...      0.081444      0.085487      0.916325   \n",
       "std      311.277193  ...      0.634547      0.680035      0.276907   \n",
       "min        0.000000  ...      0.000000      0.000000      0.000000   \n",
       "25%        6.675000  ...      0.000000      0.000000      1.000000   \n",
       "50%       32.280000  ...      0.000000      0.000000      1.000000   \n",
       "75%      115.837500  ...      0.000000      0.000000      1.000000   \n",
       "max     8157.780000  ...     33.000000     41.000000      1.000000   \n",
       "\n",
       "          fb_user_7     fb_user_8           aon    aug_vbc_3g    jul_vbc_3g  \\\n",
       "count  17865.000000  18417.000000  69999.000000  69999.000000  69999.000000   \n",
       "mean       0.909544      0.890319   1220.639709     68.108597     65.935830   \n",
       "std        0.286842      0.312501    952.426321    269.328659    267.899034   \n",
       "min        0.000000      0.000000    180.000000      0.000000      0.000000   \n",
       "25%        1.000000      1.000000    468.000000      0.000000      0.000000   \n",
       "50%        1.000000      1.000000    868.000000      0.000000      0.000000   \n",
       "75%        1.000000      1.000000   1813.000000      0.000000      0.000000   \n",
       "max        1.000000      1.000000   4337.000000  12916.220000   9165.600000   \n",
       "\n",
       "        jun_vbc_3g  churn_probability  \n",
       "count  69999.00000       69999.000000  \n",
       "mean      60.07674           0.101887  \n",
       "std      257.22681           0.302502  \n",
       "min        0.00000           0.000000  \n",
       "25%        0.00000           0.000000  \n",
       "50%        0.00000           0.000000  \n",
       "75%        0.00000           0.000000  \n",
       "max    11166.21000           1.000000  \n",
       "\n",
       "[8 rows x 163 columns]"
      ]
     },
     "execution_count": 6,
     "metadata": {},
     "output_type": "execute_result"
    }
   ],
   "source": [
    "df_telecom.describe()"
   ]
  },
  {
   "cell_type": "code",
   "execution_count": 7,
   "metadata": {},
   "outputs": [
    {
     "data": {
      "text/plain": [
       "id                     int64\n",
       "circle_id              int64\n",
       "loc_og_t2o_mou       float64\n",
       "std_og_t2o_mou       float64\n",
       "loc_ic_t2o_mou       float64\n",
       "                      ...   \n",
       "aon                    int64\n",
       "aug_vbc_3g           float64\n",
       "jul_vbc_3g           float64\n",
       "jun_vbc_3g           float64\n",
       "churn_probability      int64\n",
       "Length: 172, dtype: object"
      ]
     },
     "execution_count": 7,
     "metadata": {},
     "output_type": "execute_result"
    }
   ],
   "source": [
    "df_telecom.dtypes"
   ]
  },
  {
   "cell_type": "markdown",
   "metadata": {},
   "source": [
    "### <b>Observations:</b>\n",
    "\n",
    "### 1.  The below features are either irrelevant or are features that are a part of a larger aggregated feature (total) that is more relevant, or predominantly contain null or zero values for most of the records:\n",
    "###### <li>id</li>\n",
    "###### <li>circle_id</li>\n",
    "###### <li>loc_og_t2o_mou</li>\n",
    "###### <li>std_og_t2o_mou</li>\n",
    "###### <li>loc_ic_t2o_mou</li>\n",
    "###### <li>last_date_of_month_6</li>\n",
    "###### <li>last_date_of_month_7</li>\n",
    "###### <li>last_date_of_month_8</li>\n",
    "###### <li>loc_og_t2t_mou_6</li>\t\n",
    "###### <li>loc_og_t2t_mou_7</li>\t\n",
    "###### <li>loc_og_t2t_mou_8</li>\t\n",
    "###### <li>loc_og_t2m_mou_6</li>\t\n",
    "###### <li>loc_og_t2m_mou_7</li>\t\n",
    "###### <li>loc_og_t2m_mou_8</li>\t\n",
    "###### <li>loc_og_t2f_mou_6</li>\t\n",
    "###### <li>loc_og_t2f_mou_7</li>\t\n",
    "###### <li>loc_og_t2f_mou_8</li>\t\n",
    "###### <li>loc_og_t2c_mou_6</li>\t\n",
    "###### <li>loc_og_t2c_mou_7</li>\t\n",
    "###### <li>loc_og_t2c_mou_8</li>\t\n",
    "###### <li>loc_og_mou_6</li>\t\n",
    "###### <li>loc_og_mou_7</li>\t\n",
    "###### <li>loc_og_mou_8</li>\t\n",
    "###### <li>std_og_t2t_mou_6</li>\t\n",
    "###### <li>std_og_t2t_mou_7</li>\t\n",
    "###### <li>std_og_t2t_mou_8</li>\t\n",
    "###### <li>std_og_t2m_mou_6</li>\t\n",
    "###### <li>std_og_t2m_mou_7</li>\t\n",
    "###### <li>std_og_t2m_mou_8</li>\t\n",
    "###### <li>std_og_t2f_mou_6</li>\t\n",
    "###### <li>std_og_t2f_mou_7</li>\t\n",
    "###### <li>std_og_t2f_mou_8</li>\t\n",
    "###### <li>std_og_t2c_mou_6</li>\t\n",
    "###### <li>std_og_t2c_mou_7</li>\t\n",
    "###### <li>std_og_t2c_mou_8</li>\t\n",
    "###### <li>std_og_mou_6</li>\t\n",
    "###### <li>std_og_mou_7</li>\t\n",
    "###### <li>std_og_mou_8</li>\t\n",
    "###### <li>isd_og_mou_6</li>\t\n",
    "###### <li>isd_og_mou_7</li>\t\n",
    "###### <li>isd_og_mou_8</li>\t\n",
    "###### <li>spl_og_mou_6</li>\t\n",
    "###### <li>spl_og_mou_7</li>\t\n",
    "###### <li>spl_og_mou_8</li>\t\n",
    "###### <li>og_others_6</li>\t\n",
    "###### <li>og_others_7</li>\t\n",
    "###### <li>og_others_8</li>\n",
    "###### <li>loc_ic_t2t_mou_6</li>\t\n",
    "###### <li>loc_ic_t2t_mou_7</li>\n",
    "###### <li>loc_ic_t2t_mou_8</li>\t\n",
    "###### <li>loc_ic_t2m_mou_6</li>\t\n",
    "###### <li>loc_ic_t2m_mou_7</li>\t\n",
    "###### <li>loc_ic_t2m_mou_8</li>\t\n",
    "###### <li>loc_ic_t2f_mou_6</li>\t\n",
    "###### <li>loc_ic_t2f_mou_7</li>\t\n",
    "###### <li>loc_ic_t2f_mou_8</li>\t\n",
    "###### <li>loc_ic_mou_6</li>\t\n",
    "###### <li>loc_ic_mou_7</li>\t\n",
    "###### <li>loc_ic_mou_8</li>\t\n",
    "###### <li>std_ic_t2t_mou_6</li>\t\n",
    "###### <li>std_ic_t2t_mou_7</li>\t\n",
    "###### <li>std_ic_t2t_mou_8</li>\t\n",
    "###### <li>std_ic_t2m_mou_6</li>\t\n",
    "###### <li>std_ic_t2m_mou_7</li>\t\n",
    "###### <li>std_ic_t2m_mou_8</li>\t\n",
    "###### <li>std_ic_t2f_mou_6</li>\t\n",
    "###### <li>std_ic_t2f_mou_7</li>\t\n",
    "###### <li>std_ic_t2f_mou_8</li>\t\n",
    "###### <li>std_ic_t2o_mou_6</li>\t\n",
    "###### <li>std_ic_t2o_mou_7</li>\t\n",
    "###### <li>std_ic_t2o_mou_8</li>\t\n",
    "###### <li>std_ic_mou_6</li>\t\n",
    "###### <li>std_ic_mou_7</li>\t\n",
    "###### <li>std_ic_mou_8</li>\n",
    "###### <li>spl_ic_mou_6</li>\n",
    "###### <li>spl_ic_mou_7</li>\n",
    "###### <li>spl_ic_mou_8</li>\t\n",
    "###### <li>isd_ic_mou_6</li>\t\n",
    "###### <li>isd_ic_mou_7</li>\t\n",
    "###### <li>isd_ic_mou_8</li>\t\n",
    "###### <li>ic_others_6</li>\t\n",
    "###### <li>ic_others_7</li>\t\n",
    "###### <li>ic_others_8</li>\n",
    "###### <li>max_rech_amt_6</li>\t\n",
    "###### <li>max_rech_amt_7</li>\t\n",
    "###### <li>max_rech_amt_8</li>\t\n",
    "###### <li>date_of_last_rech_6</li>\t\n",
    "###### <li>date_of_last_rech_7</li>\t\n",
    "###### <li>date_of_last_rech_8</li>\t\n",
    "###### <li>last_day_rch_amt_6</li>\t\n",
    "###### <li>last_day_rch_amt_7</li>\t\n",
    "###### <li>last_day_rch_amt_8</li>\t\n",
    "###### <li>date_of_last_rech_data_6</li>\t\n",
    "###### <li>date_of_last_rech_data_7</li>\t\n",
    "###### <li>date_of_last_rech_data_8</li>\n",
    "###### <li>count_rech_2g_6</li>\t\n",
    "###### <li>count_rech_2g_7</li>\t\n",
    "###### <li>count_rech_2g_8</li>\t\n",
    "###### <li>count_rech_3g_6</li>\t\n",
    "###### <li>count_rech_3g_7</li>\t\n",
    "###### <li>count_rech_3g_8</li>\n",
    "###### <li>total_rech_data_6</li>\n",
    "###### <li>total_rech_data_7</li>\n",
    "###### <li>total_rech_data_8</li>\n",
    "###### <li>max_rech_data_6</li>\n",
    "###### <li>max_rech_data_7</li>\n",
    "###### <li>max_rech_data_8</li>\n",
    "###### <li>av_rech_amt_data_6</li>\n",
    "###### <li>av_rech_amt_data_7</li>\t\n",
    "###### <li>av_rech_amt_data_8</li>\n",
    "###### <li>arpu_3g_6</li>\n",
    "###### <li>arpu_3g_7</li>\t\n",
    "###### <li>arpu_3g_8</li>\t\n",
    "###### <li>arpu_2g_6</li>\t\n",
    "###### <li>arpu_2g_7</li>\t\n",
    "###### <li>arpu_2g_8</li>\n",
    "###### <li>night_pck_user_6</li>\n",
    "###### <li>night_pck_user_7</li>\n",
    "###### <li>night_pck_user_8</li>\n",
    "###### <li>monthly_2g_6</li>\t\n",
    "###### <li>monthly_2g_7</li>\t\n",
    "###### <li>monthly_2g_8</li>\t\n",
    "###### <li>sachet_2g_6</li>\t\n",
    "###### <li>sachet_2g_7</li>\t\n",
    "###### <li>sachet_2g_8</li>\t\n",
    "###### <li>monthly_3g_6</li>\t\n",
    "###### <li>monthly_3g_7</li>\t\n",
    "###### <li>monthly_3g_8</li>\t\n",
    "###### <li>sachet_3g_6</li>\t\n",
    "###### <li>sachet_3g_7</li>\t\n",
    "###### <li>sachet_3g_8</li>\n",
    "###### <li>roam_ic_mou_6</li>\n",
    "###### <li>roam_ic_mou_7</li>\n",
    "###### <li>roam_ic_mou_8</li>\n",
    "###### <li>roam_og_mou_6</li>\n",
    "###### <li>roam_og_mou_7</li>\n",
    "###### <li>roam_og_mou_8</li>\n",
    "###### <li>vol_2g_mb_6,vol_2g_mb_7,vol_2g_mb_8</li>\n",
    "###### <li>vol_3g_mb_6,vol_3g_mb_7,vol_3g_mb_8</li>\n",
    "###### <li>aug_vbc_3g,jul_vbc_3g,jun_vbc_3g</li>\n",
    "\n",
    "### 2.  The below features can be combined into a single new feature using addition or average calculation, and then dropped:\n",
    "###### <li>arpu_6,arpu_7,arpu_8 (average)</li>\n",
    "###### <li>onnet_mou_6,onnet_mou_7,onnet_mou_8</li>\n",
    "###### <li>offnet_mou_6,offnet_mou_7,offnet_mou_8</li>\n",
    "###### <li>total_og_mou_6,total_og_mou_7,total_og_mou_8</li>\n",
    "###### <li>total_ic_mou_6,total_ic_mou_7,total_ic_mou_8</li>\n",
    "###### <li>total_rech_num_6,total_rech_num_7,total_rech_num_8</li>\n",
    "###### <li>total_rech_amt_6,total_rech_amt_7,total_rech_amt_8</li>\n",
    "\n",
    "\n"
   ]
  },
  {
   "cell_type": "markdown",
   "metadata": {},
   "source": [
    "##### 1. Dropping the columns listed in point 1 above:"
   ]
  },
  {
   "cell_type": "code",
   "execution_count": 8,
   "metadata": {},
   "outputs": [],
   "source": [
    "drop_columns_1 = ['id','circle_id','loc_og_t2o_mou','std_og_t2o_mou','loc_ic_t2o_mou','last_date_of_month_6','last_date_of_month_7','last_date_of_month_8','loc_og_t2t_mou_6',\t'loc_og_t2t_mou_7',\t'loc_og_t2t_mou_8',\t'loc_og_t2m_mou_6',\t'loc_og_t2m_mou_7',\t'loc_og_t2m_mou_8',\t'loc_og_t2f_mou_6',\t'loc_og_t2f_mou_7',\t'loc_og_t2f_mou_8',\t'loc_og_t2c_mou_6',\t'loc_og_t2c_mou_7',\t'loc_og_t2c_mou_8',\t'loc_og_mou_6',\t'loc_og_mou_7',\t'loc_og_mou_8',\t'std_og_t2t_mou_6',\t'std_og_t2t_mou_7',\t'std_og_t2t_mou_8',\t'std_og_t2m_mou_6',\t'std_og_t2m_mou_7',\t'std_og_t2m_mou_8',\t'std_og_t2f_mou_6',\t'std_og_t2f_mou_7',\t'std_og_t2f_mou_8',\t'std_og_t2c_mou_6',\t'std_og_t2c_mou_7',\t'std_og_t2c_mou_8',\t'std_og_mou_6',\t'std_og_mou_7',\t'std_og_mou_8',\t'isd_og_mou_6',\t'isd_og_mou_7',\t'isd_og_mou_8',\t'spl_og_mou_6',\t'spl_og_mou_7',\t'spl_og_mou_8',\t'og_others_6',\t'og_others_7',\t'og_others_8','loc_ic_t2t_mou_6',\t'loc_ic_t2t_mou_7','loc_ic_t2t_mou_8',\t'loc_ic_t2m_mou_6',\t'loc_ic_t2m_mou_7',\t'loc_ic_t2m_mou_8',\t'loc_ic_t2f_mou_6',\t'loc_ic_t2f_mou_7',\t'loc_ic_t2f_mou_8',\t'loc_ic_mou_6',\t'loc_ic_mou_7',\t'loc_ic_mou_8',\t'std_ic_t2t_mou_6',\t'std_ic_t2t_mou_7',\t'std_ic_t2t_mou_8',\t'std_ic_t2m_mou_6',\t'std_ic_t2m_mou_7',\t'std_ic_t2m_mou_8',\t'std_ic_t2f_mou_6',\t'std_ic_t2f_mou_7',\t'std_ic_t2f_mou_8',\t'std_ic_t2o_mou_6',\t'std_ic_t2o_mou_7',\t'std_ic_t2o_mou_8',\t'std_ic_mou_6',\t'std_ic_mou_7',\t'std_ic_mou_8','spl_ic_mou_6','spl_ic_mou_7','spl_ic_mou_8',\t'isd_ic_mou_6',\t'isd_ic_mou_7',\t'isd_ic_mou_8',\t'ic_others_6',\t'ic_others_7',\t'ic_others_8','max_rech_amt_6',\t'max_rech_amt_7',\t'max_rech_amt_8',\t'date_of_last_rech_6',\t'date_of_last_rech_7',\t'date_of_last_rech_8',\t'last_day_rch_amt_6',\t'last_day_rch_amt_7',\t'last_day_rch_amt_8',\t'date_of_last_rech_data_6',\t'date_of_last_rech_data_7',\t'date_of_last_rech_data_8','count_rech_2g_6',\t'count_rech_2g_7',\t'count_rech_2g_8',\t'count_rech_3g_6',\t'count_rech_3g_7',\t'count_rech_3g_8','total_rech_data_6','total_rech_data_7','total_rech_data_8','max_rech_data_6','max_rech_data_7','max_rech_data_8','av_rech_amt_data_6','av_rech_amt_data_7',\t'av_rech_amt_data_8','arpu_3g_6','arpu_3g_7',\t'arpu_3g_8',\t'arpu_2g_6',\t'arpu_2g_7',\t'arpu_2g_8','night_pck_user_6','night_pck_user_7','night_pck_user_8','monthly_2g_6',\t'monthly_2g_7',\t'monthly_2g_8',\t'sachet_2g_6',\t'sachet_2g_7',\t'sachet_2g_8',\t'monthly_3g_6',\t'monthly_3g_7',\t'monthly_3g_8',\t'sachet_3g_6',\t'sachet_3g_7',\t'sachet_3g_8','roam_ic_mou_6','roam_ic_mou_7','roam_ic_mou_8','roam_og_mou_6','roam_og_mou_7','roam_og_mou_8','vol_2g_mb_6','vol_2g_mb_7','vol_2g_mb_8','vol_3g_mb_6','vol_3g_mb_7','vol_3g_mb_8','aug_vbc_3g','jul_vbc_3g','jun_vbc_3g']"
   ]
  },
  {
   "cell_type": "code",
   "execution_count": 9,
   "metadata": {},
   "outputs": [
    {
     "data": {
      "text/plain": [
       "(69999, 172)"
      ]
     },
     "execution_count": 9,
     "metadata": {},
     "output_type": "execute_result"
    }
   ],
   "source": [
    "df_telecom.shape"
   ]
  },
  {
   "cell_type": "code",
   "execution_count": 10,
   "metadata": {},
   "outputs": [
    {
     "data": {
      "text/plain": [
       "(30000, 171)"
      ]
     },
     "execution_count": 10,
     "metadata": {},
     "output_type": "execute_result"
    }
   ],
   "source": [
    "df_telecom_unseen.shape"
   ]
  },
  {
   "cell_type": "code",
   "execution_count": 11,
   "metadata": {},
   "outputs": [
    {
     "data": {
      "text/plain": [
       "(69999, 26)"
      ]
     },
     "execution_count": 11,
     "metadata": {},
     "output_type": "execute_result"
    }
   ],
   "source": [
    "df_telecom.drop(columns=drop_columns_1,inplace=True)\n",
    "df_telecom.shape"
   ]
  },
  {
   "cell_type": "code",
   "execution_count": 12,
   "metadata": {},
   "outputs": [
    {
     "data": {
      "text/plain": [
       "(30000, 25)"
      ]
     },
     "execution_count": 12,
     "metadata": {},
     "output_type": "execute_result"
    }
   ],
   "source": [
    "df_telecom_unseen.drop(columns=drop_columns_1,inplace=True)\n",
    "df_telecom_unseen.shape"
   ]
  },
  {
   "cell_type": "markdown",
   "metadata": {},
   "source": [
    "##### 2. Combining related features and creating a new feature, and dropping the original features, after data fixing/cleanup of the original features, as per point number 2 above:"
   ]
  },
  {
   "cell_type": "markdown",
   "metadata": {},
   "source": [
    "##### <li>arpu_6,arpu_7,arpu_8 (average)</li>"
   ]
  },
  {
   "cell_type": "code",
   "execution_count": 13,
   "metadata": {},
   "outputs": [
    {
     "data": {
      "text/plain": [
       "arpu_6    float64\n",
       "arpu_7    float64\n",
       "arpu_8    float64\n",
       "dtype: object"
      ]
     },
     "execution_count": 13,
     "metadata": {},
     "output_type": "execute_result"
    }
   ],
   "source": [
    "df_telecom[['arpu_6','arpu_7','arpu_8']].dtypes"
   ]
  },
  {
   "cell_type": "code",
   "execution_count": 14,
   "metadata": {},
   "outputs": [
    {
     "data": {
      "text/html": [
       "<div>\n",
       "<style scoped>\n",
       "    .dataframe tbody tr th:only-of-type {\n",
       "        vertical-align: middle;\n",
       "    }\n",
       "\n",
       "    .dataframe tbody tr th {\n",
       "        vertical-align: top;\n",
       "    }\n",
       "\n",
       "    .dataframe thead th {\n",
       "        text-align: right;\n",
       "    }\n",
       "</style>\n",
       "<table border=\"1\" class=\"dataframe\">\n",
       "  <thead>\n",
       "    <tr style=\"text-align: right;\">\n",
       "      <th></th>\n",
       "      <th>arpu_6</th>\n",
       "      <th>arpu_7</th>\n",
       "      <th>arpu_8</th>\n",
       "    </tr>\n",
       "  </thead>\n",
       "  <tbody>\n",
       "    <tr>\n",
       "      <th>count</th>\n",
       "      <td>69999.000000</td>\n",
       "      <td>69999.000000</td>\n",
       "      <td>69999.000000</td>\n",
       "    </tr>\n",
       "    <tr>\n",
       "      <th>mean</th>\n",
       "      <td>283.134365</td>\n",
       "      <td>278.185912</td>\n",
       "      <td>278.858826</td>\n",
       "    </tr>\n",
       "    <tr>\n",
       "      <th>std</th>\n",
       "      <td>334.213918</td>\n",
       "      <td>344.366927</td>\n",
       "      <td>351.924315</td>\n",
       "    </tr>\n",
       "    <tr>\n",
       "      <th>min</th>\n",
       "      <td>-2258.709000</td>\n",
       "      <td>-1289.715000</td>\n",
       "      <td>-945.808000</td>\n",
       "    </tr>\n",
       "    <tr>\n",
       "      <th>25%</th>\n",
       "      <td>93.581000</td>\n",
       "      <td>86.714000</td>\n",
       "      <td>84.095000</td>\n",
       "    </tr>\n",
       "    <tr>\n",
       "      <th>50%</th>\n",
       "      <td>197.484000</td>\n",
       "      <td>191.588000</td>\n",
       "      <td>192.234000</td>\n",
       "    </tr>\n",
       "    <tr>\n",
       "      <th>75%</th>\n",
       "      <td>370.791000</td>\n",
       "      <td>365.369500</td>\n",
       "      <td>369.909000</td>\n",
       "    </tr>\n",
       "    <tr>\n",
       "      <th>max</th>\n",
       "      <td>27731.088000</td>\n",
       "      <td>35145.834000</td>\n",
       "      <td>33543.624000</td>\n",
       "    </tr>\n",
       "  </tbody>\n",
       "</table>\n",
       "</div>"
      ],
      "text/plain": [
       "             arpu_6        arpu_7        arpu_8\n",
       "count  69999.000000  69999.000000  69999.000000\n",
       "mean     283.134365    278.185912    278.858826\n",
       "std      334.213918    344.366927    351.924315\n",
       "min    -2258.709000  -1289.715000   -945.808000\n",
       "25%       93.581000     86.714000     84.095000\n",
       "50%      197.484000    191.588000    192.234000\n",
       "75%      370.791000    365.369500    369.909000\n",
       "max    27731.088000  35145.834000  33543.624000"
      ]
     },
     "execution_count": 14,
     "metadata": {},
     "output_type": "execute_result"
    }
   ],
   "source": [
    "df_telecom[['arpu_6','arpu_7','arpu_8']].describe()"
   ]
  },
  {
   "cell_type": "code",
   "execution_count": 15,
   "metadata": {},
   "outputs": [
    {
     "data": {
      "text/html": [
       "<div>\n",
       "<style scoped>\n",
       "    .dataframe tbody tr th:only-of-type {\n",
       "        vertical-align: middle;\n",
       "    }\n",
       "\n",
       "    .dataframe tbody tr th {\n",
       "        vertical-align: top;\n",
       "    }\n",
       "\n",
       "    .dataframe thead th {\n",
       "        text-align: right;\n",
       "    }\n",
       "</style>\n",
       "<table border=\"1\" class=\"dataframe\">\n",
       "  <thead>\n",
       "    <tr style=\"text-align: right;\">\n",
       "      <th></th>\n",
       "      <th>arpu_6</th>\n",
       "      <th>arpu_7</th>\n",
       "      <th>arpu_8</th>\n",
       "    </tr>\n",
       "  </thead>\n",
       "  <tbody>\n",
       "    <tr>\n",
       "      <th>count</th>\n",
       "      <td>30000.000000</td>\n",
       "      <td>30000.000000</td>\n",
       "      <td>30000.000000</td>\n",
       "    </tr>\n",
       "    <tr>\n",
       "      <th>mean</th>\n",
       "      <td>282.644348</td>\n",
       "      <td>279.355021</td>\n",
       "      <td>279.845167</td>\n",
       "    </tr>\n",
       "    <tr>\n",
       "      <th>std</th>\n",
       "      <td>314.560212</td>\n",
       "      <td>323.205370</td>\n",
       "      <td>326.437029</td>\n",
       "    </tr>\n",
       "    <tr>\n",
       "      <th>min</th>\n",
       "      <td>-185.043000</td>\n",
       "      <td>-2014.045000</td>\n",
       "      <td>-146.859000</td>\n",
       "    </tr>\n",
       "    <tr>\n",
       "      <th>25%</th>\n",
       "      <td>92.907500</td>\n",
       "      <td>87.504750</td>\n",
       "      <td>84.180500</td>\n",
       "    </tr>\n",
       "    <tr>\n",
       "      <th>50%</th>\n",
       "      <td>198.227500</td>\n",
       "      <td>191.775000</td>\n",
       "      <td>191.690500</td>\n",
       "    </tr>\n",
       "    <tr>\n",
       "      <th>75%</th>\n",
       "      <td>371.969250</td>\n",
       "      <td>365.250750</td>\n",
       "      <td>367.804750</td>\n",
       "    </tr>\n",
       "    <tr>\n",
       "      <th>max</th>\n",
       "      <td>10955.066000</td>\n",
       "      <td>13224.119000</td>\n",
       "      <td>13505.996000</td>\n",
       "    </tr>\n",
       "  </tbody>\n",
       "</table>\n",
       "</div>"
      ],
      "text/plain": [
       "             arpu_6        arpu_7        arpu_8\n",
       "count  30000.000000  30000.000000  30000.000000\n",
       "mean     282.644348    279.355021    279.845167\n",
       "std      314.560212    323.205370    326.437029\n",
       "min     -185.043000  -2014.045000   -146.859000\n",
       "25%       92.907500     87.504750     84.180500\n",
       "50%      198.227500    191.775000    191.690500\n",
       "75%      371.969250    365.250750    367.804750\n",
       "max    10955.066000  13224.119000  13505.996000"
      ]
     },
     "execution_count": 15,
     "metadata": {},
     "output_type": "execute_result"
    }
   ],
   "source": [
    "df_telecom_unseen[['arpu_6','arpu_7','arpu_8']].describe()"
   ]
  },
  {
   "cell_type": "markdown",
   "metadata": {},
   "source": [
    "##### Converting all negative values to positive ones:"
   ]
  },
  {
   "cell_type": "code",
   "execution_count": 16,
   "metadata": {},
   "outputs": [],
   "source": [
    "def toPositive(x):\n",
    "    if x<0:\n",
    "        return abs(x)\n",
    "    return x\n",
    "\n",
    "\n",
    "df_telecom.arpu_6=df_telecom.arpu_6.apply(toPositive)\n",
    "df_telecom.arpu_7=df_telecom.arpu_7.apply(toPositive)\n",
    "df_telecom.arpu_8=df_telecom.arpu_8.apply(toPositive)"
   ]
  },
  {
   "cell_type": "code",
   "execution_count": 17,
   "metadata": {},
   "outputs": [],
   "source": [
    "df_telecom_unseen.arpu_6=df_telecom_unseen.arpu_6.apply(toPositive)\n",
    "df_telecom_unseen.arpu_7=df_telecom_unseen.arpu_7.apply(toPositive)\n",
    "df_telecom_unseen.arpu_8=df_telecom_unseen.arpu_8.apply(toPositive)"
   ]
  },
  {
   "cell_type": "code",
   "execution_count": 18,
   "metadata": {},
   "outputs": [],
   "source": [
    "df_telecom['arpu']=(df_telecom['arpu_6']+df_telecom['arpu_7']+df_telecom['arpu_8'])/3\n",
    "df_telecom_unseen['arpu']=(df_telecom_unseen['arpu_6']+df_telecom_unseen['arpu_7']+df_telecom_unseen['arpu_8'])/3"
   ]
  },
  {
   "cell_type": "markdown",
   "metadata": {},
   "source": [
    "##### <li>onnet_mou_6,onnet_mou_7,onnet_mou_8</li>"
   ]
  },
  {
   "cell_type": "code",
   "execution_count": 19,
   "metadata": {},
   "outputs": [
    {
     "data": {
      "text/html": [
       "<div>\n",
       "<style scoped>\n",
       "    .dataframe tbody tr th:only-of-type {\n",
       "        vertical-align: middle;\n",
       "    }\n",
       "\n",
       "    .dataframe tbody tr th {\n",
       "        vertical-align: top;\n",
       "    }\n",
       "\n",
       "    .dataframe thead th {\n",
       "        text-align: right;\n",
       "    }\n",
       "</style>\n",
       "<table border=\"1\" class=\"dataframe\">\n",
       "  <thead>\n",
       "    <tr style=\"text-align: right;\">\n",
       "      <th></th>\n",
       "      <th>onnet_mou_6</th>\n",
       "      <th>onnet_mou_7</th>\n",
       "      <th>onnet_mou_8</th>\n",
       "    </tr>\n",
       "  </thead>\n",
       "  <tbody>\n",
       "    <tr>\n",
       "      <th>count</th>\n",
       "      <td>67231.000000</td>\n",
       "      <td>67312.000000</td>\n",
       "      <td>66296.000000</td>\n",
       "    </tr>\n",
       "    <tr>\n",
       "      <th>mean</th>\n",
       "      <td>133.153275</td>\n",
       "      <td>133.894438</td>\n",
       "      <td>132.978257</td>\n",
       "    </tr>\n",
       "    <tr>\n",
       "      <th>std</th>\n",
       "      <td>299.963093</td>\n",
       "      <td>311.277193</td>\n",
       "      <td>311.896596</td>\n",
       "    </tr>\n",
       "    <tr>\n",
       "      <th>min</th>\n",
       "      <td>0.000000</td>\n",
       "      <td>0.000000</td>\n",
       "      <td>0.000000</td>\n",
       "    </tr>\n",
       "    <tr>\n",
       "      <th>25%</th>\n",
       "      <td>7.410000</td>\n",
       "      <td>6.675000</td>\n",
       "      <td>6.410000</td>\n",
       "    </tr>\n",
       "    <tr>\n",
       "      <th>50%</th>\n",
       "      <td>34.110000</td>\n",
       "      <td>32.280000</td>\n",
       "      <td>32.100000</td>\n",
       "    </tr>\n",
       "    <tr>\n",
       "      <th>75%</th>\n",
       "      <td>119.390000</td>\n",
       "      <td>115.837500</td>\n",
       "      <td>115.060000</td>\n",
       "    </tr>\n",
       "    <tr>\n",
       "      <th>max</th>\n",
       "      <td>7376.710000</td>\n",
       "      <td>8157.780000</td>\n",
       "      <td>10752.560000</td>\n",
       "    </tr>\n",
       "  </tbody>\n",
       "</table>\n",
       "</div>"
      ],
      "text/plain": [
       "        onnet_mou_6   onnet_mou_7   onnet_mou_8\n",
       "count  67231.000000  67312.000000  66296.000000\n",
       "mean     133.153275    133.894438    132.978257\n",
       "std      299.963093    311.277193    311.896596\n",
       "min        0.000000      0.000000      0.000000\n",
       "25%        7.410000      6.675000      6.410000\n",
       "50%       34.110000     32.280000     32.100000\n",
       "75%      119.390000    115.837500    115.060000\n",
       "max     7376.710000   8157.780000  10752.560000"
      ]
     },
     "execution_count": 19,
     "metadata": {},
     "output_type": "execute_result"
    }
   ],
   "source": [
    "df_telecom[['onnet_mou_6','onnet_mou_7','onnet_mou_8']].describe()"
   ]
  },
  {
   "cell_type": "code",
   "execution_count": 20,
   "metadata": {},
   "outputs": [
    {
     "data": {
      "text/plain": [
       "onnet_mou_6    2768\n",
       "onnet_mou_7    2687\n",
       "onnet_mou_8    3703\n",
       "dtype: int64"
      ]
     },
     "execution_count": 20,
     "metadata": {},
     "output_type": "execute_result"
    }
   ],
   "source": [
    "df_telecom[['onnet_mou_6','onnet_mou_7','onnet_mou_8']].isnull().sum()"
   ]
  },
  {
   "cell_type": "code",
   "execution_count": 21,
   "metadata": {},
   "outputs": [],
   "source": [
    "df_telecom[['onnet_mou_6','onnet_mou_7','onnet_mou_8']]=df_telecom[['onnet_mou_6','onnet_mou_7','onnet_mou_8']].fillna(0)"
   ]
  },
  {
   "cell_type": "code",
   "execution_count": 22,
   "metadata": {},
   "outputs": [
    {
     "data": {
      "text/html": [
       "<div>\n",
       "<style scoped>\n",
       "    .dataframe tbody tr th:only-of-type {\n",
       "        vertical-align: middle;\n",
       "    }\n",
       "\n",
       "    .dataframe tbody tr th {\n",
       "        vertical-align: top;\n",
       "    }\n",
       "\n",
       "    .dataframe thead th {\n",
       "        text-align: right;\n",
       "    }\n",
       "</style>\n",
       "<table border=\"1\" class=\"dataframe\">\n",
       "  <thead>\n",
       "    <tr style=\"text-align: right;\">\n",
       "      <th></th>\n",
       "      <th>onnet_mou_6</th>\n",
       "      <th>onnet_mou_7</th>\n",
       "      <th>onnet_mou_8</th>\n",
       "    </tr>\n",
       "  </thead>\n",
       "  <tbody>\n",
       "    <tr>\n",
       "      <th>count</th>\n",
       "      <td>69999.000000</td>\n",
       "      <td>69999.000000</td>\n",
       "      <td>69999.000000</td>\n",
       "    </tr>\n",
       "    <tr>\n",
       "      <th>mean</th>\n",
       "      <td>127.887939</td>\n",
       "      <td>128.754731</td>\n",
       "      <td>125.943607</td>\n",
       "    </tr>\n",
       "    <tr>\n",
       "      <th>std</th>\n",
       "      <td>295.115497</td>\n",
       "      <td>306.326345</td>\n",
       "      <td>304.990552</td>\n",
       "    </tr>\n",
       "    <tr>\n",
       "      <th>min</th>\n",
       "      <td>0.000000</td>\n",
       "      <td>0.000000</td>\n",
       "      <td>0.000000</td>\n",
       "    </tr>\n",
       "    <tr>\n",
       "      <th>25%</th>\n",
       "      <td>5.430000</td>\n",
       "      <td>4.910000</td>\n",
       "      <td>4.110000</td>\n",
       "    </tr>\n",
       "    <tr>\n",
       "      <th>50%</th>\n",
       "      <td>30.830000</td>\n",
       "      <td>29.160000</td>\n",
       "      <td>27.840000</td>\n",
       "    </tr>\n",
       "    <tr>\n",
       "      <th>75%</th>\n",
       "      <td>113.100000</td>\n",
       "      <td>108.940000</td>\n",
       "      <td>106.280000</td>\n",
       "    </tr>\n",
       "    <tr>\n",
       "      <th>max</th>\n",
       "      <td>7376.710000</td>\n",
       "      <td>8157.780000</td>\n",
       "      <td>10752.560000</td>\n",
       "    </tr>\n",
       "  </tbody>\n",
       "</table>\n",
       "</div>"
      ],
      "text/plain": [
       "        onnet_mou_6   onnet_mou_7   onnet_mou_8\n",
       "count  69999.000000  69999.000000  69999.000000\n",
       "mean     127.887939    128.754731    125.943607\n",
       "std      295.115497    306.326345    304.990552\n",
       "min        0.000000      0.000000      0.000000\n",
       "25%        5.430000      4.910000      4.110000\n",
       "50%       30.830000     29.160000     27.840000\n",
       "75%      113.100000    108.940000    106.280000\n",
       "max     7376.710000   8157.780000  10752.560000"
      ]
     },
     "execution_count": 22,
     "metadata": {},
     "output_type": "execute_result"
    }
   ],
   "source": [
    "df_telecom[['onnet_mou_6','onnet_mou_7','onnet_mou_8']].describe()"
   ]
  },
  {
   "cell_type": "code",
   "execution_count": 23,
   "metadata": {},
   "outputs": [
    {
     "data": {
      "text/html": [
       "<div>\n",
       "<style scoped>\n",
       "    .dataframe tbody tr th:only-of-type {\n",
       "        vertical-align: middle;\n",
       "    }\n",
       "\n",
       "    .dataframe tbody tr th {\n",
       "        vertical-align: top;\n",
       "    }\n",
       "\n",
       "    .dataframe thead th {\n",
       "        text-align: right;\n",
       "    }\n",
       "</style>\n",
       "<table border=\"1\" class=\"dataframe\">\n",
       "  <thead>\n",
       "    <tr style=\"text-align: right;\">\n",
       "      <th></th>\n",
       "      <th>onnet_mou_6</th>\n",
       "      <th>onnet_mou_7</th>\n",
       "      <th>onnet_mou_8</th>\n",
       "    </tr>\n",
       "  </thead>\n",
       "  <tbody>\n",
       "    <tr>\n",
       "      <th>count</th>\n",
       "      <td>28831.000000</td>\n",
       "      <td>28828.000000</td>\n",
       "      <td>28325.000000</td>\n",
       "    </tr>\n",
       "    <tr>\n",
       "      <th>mean</th>\n",
       "      <td>130.629693</td>\n",
       "      <td>133.148632</td>\n",
       "      <td>133.111348</td>\n",
       "    </tr>\n",
       "    <tr>\n",
       "      <th>std</th>\n",
       "      <td>290.677420</td>\n",
       "      <td>302.921820</td>\n",
       "      <td>301.951806</td>\n",
       "    </tr>\n",
       "    <tr>\n",
       "      <th>min</th>\n",
       "      <td>0.000000</td>\n",
       "      <td>0.000000</td>\n",
       "      <td>0.000000</td>\n",
       "    </tr>\n",
       "    <tr>\n",
       "      <th>25%</th>\n",
       "      <td>7.280000</td>\n",
       "      <td>6.660000</td>\n",
       "      <td>6.540000</td>\n",
       "    </tr>\n",
       "    <tr>\n",
       "      <th>50%</th>\n",
       "      <td>34.760000</td>\n",
       "      <td>32.550000</td>\n",
       "      <td>33.060000</td>\n",
       "    </tr>\n",
       "    <tr>\n",
       "      <th>75%</th>\n",
       "      <td>117.170000</td>\n",
       "      <td>115.210000</td>\n",
       "      <td>117.730000</td>\n",
       "    </tr>\n",
       "    <tr>\n",
       "      <th>max</th>\n",
       "      <td>6944.360000</td>\n",
       "      <td>7411.010000</td>\n",
       "      <td>6723.790000</td>\n",
       "    </tr>\n",
       "  </tbody>\n",
       "</table>\n",
       "</div>"
      ],
      "text/plain": [
       "        onnet_mou_6   onnet_mou_7   onnet_mou_8\n",
       "count  28831.000000  28828.000000  28325.000000\n",
       "mean     130.629693    133.148632    133.111348\n",
       "std      290.677420    302.921820    301.951806\n",
       "min        0.000000      0.000000      0.000000\n",
       "25%        7.280000      6.660000      6.540000\n",
       "50%       34.760000     32.550000     33.060000\n",
       "75%      117.170000    115.210000    117.730000\n",
       "max     6944.360000   7411.010000   6723.790000"
      ]
     },
     "execution_count": 23,
     "metadata": {},
     "output_type": "execute_result"
    }
   ],
   "source": [
    "df_telecom_unseen[['onnet_mou_6','onnet_mou_7','onnet_mou_8']].describe()"
   ]
  },
  {
   "cell_type": "code",
   "execution_count": 24,
   "metadata": {},
   "outputs": [
    {
     "data": {
      "text/plain": [
       "onnet_mou_6    1169\n",
       "onnet_mou_7    1172\n",
       "onnet_mou_8    1675\n",
       "dtype: int64"
      ]
     },
     "execution_count": 24,
     "metadata": {},
     "output_type": "execute_result"
    }
   ],
   "source": [
    "df_telecom_unseen[['onnet_mou_6','onnet_mou_7','onnet_mou_8']].isnull().sum()"
   ]
  },
  {
   "cell_type": "code",
   "execution_count": 25,
   "metadata": {},
   "outputs": [],
   "source": [
    "df_telecom_unseen[['onnet_mou_6','onnet_mou_7','onnet_mou_8']]=df_telecom_unseen[['onnet_mou_6','onnet_mou_7','onnet_mou_8']].fillna(0)"
   ]
  },
  {
   "cell_type": "code",
   "execution_count": 26,
   "metadata": {},
   "outputs": [
    {
     "data": {
      "text/html": [
       "<div>\n",
       "<style scoped>\n",
       "    .dataframe tbody tr th:only-of-type {\n",
       "        vertical-align: middle;\n",
       "    }\n",
       "\n",
       "    .dataframe tbody tr th {\n",
       "        vertical-align: top;\n",
       "    }\n",
       "\n",
       "    .dataframe thead th {\n",
       "        text-align: right;\n",
       "    }\n",
       "</style>\n",
       "<table border=\"1\" class=\"dataframe\">\n",
       "  <thead>\n",
       "    <tr style=\"text-align: right;\">\n",
       "      <th></th>\n",
       "      <th>onnet_mou_6</th>\n",
       "      <th>onnet_mou_7</th>\n",
       "      <th>onnet_mou_8</th>\n",
       "    </tr>\n",
       "  </thead>\n",
       "  <tbody>\n",
       "    <tr>\n",
       "      <th>count</th>\n",
       "      <td>30000.000000</td>\n",
       "      <td>30000.000000</td>\n",
       "      <td>30000.000000</td>\n",
       "    </tr>\n",
       "    <tr>\n",
       "      <th>mean</th>\n",
       "      <td>125.539490</td>\n",
       "      <td>127.946958</td>\n",
       "      <td>125.679297</td>\n",
       "    </tr>\n",
       "    <tr>\n",
       "      <th>std</th>\n",
       "      <td>286.076687</td>\n",
       "      <td>298.064169</td>\n",
       "      <td>294.988494</td>\n",
       "    </tr>\n",
       "    <tr>\n",
       "      <th>min</th>\n",
       "      <td>0.000000</td>\n",
       "      <td>0.000000</td>\n",
       "      <td>0.000000</td>\n",
       "    </tr>\n",
       "    <tr>\n",
       "      <th>25%</th>\n",
       "      <td>5.410000</td>\n",
       "      <td>4.790000</td>\n",
       "      <td>4.047500</td>\n",
       "    </tr>\n",
       "    <tr>\n",
       "      <th>50%</th>\n",
       "      <td>31.400000</td>\n",
       "      <td>29.410000</td>\n",
       "      <td>28.480000</td>\n",
       "    </tr>\n",
       "    <tr>\n",
       "      <th>75%</th>\n",
       "      <td>111.517500</td>\n",
       "      <td>108.845000</td>\n",
       "      <td>108.040000</td>\n",
       "    </tr>\n",
       "    <tr>\n",
       "      <th>max</th>\n",
       "      <td>6944.360000</td>\n",
       "      <td>7411.010000</td>\n",
       "      <td>6723.790000</td>\n",
       "    </tr>\n",
       "  </tbody>\n",
       "</table>\n",
       "</div>"
      ],
      "text/plain": [
       "        onnet_mou_6   onnet_mou_7   onnet_mou_8\n",
       "count  30000.000000  30000.000000  30000.000000\n",
       "mean     125.539490    127.946958    125.679297\n",
       "std      286.076687    298.064169    294.988494\n",
       "min        0.000000      0.000000      0.000000\n",
       "25%        5.410000      4.790000      4.047500\n",
       "50%       31.400000     29.410000     28.480000\n",
       "75%      111.517500    108.845000    108.040000\n",
       "max     6944.360000   7411.010000   6723.790000"
      ]
     },
     "execution_count": 26,
     "metadata": {},
     "output_type": "execute_result"
    }
   ],
   "source": [
    "df_telecom_unseen[['onnet_mou_6','onnet_mou_7','onnet_mou_8']].describe()"
   ]
  },
  {
   "cell_type": "code",
   "execution_count": 27,
   "metadata": {},
   "outputs": [],
   "source": [
    "df_telecom['onnet_mou']=df_telecom['onnet_mou_6']+df_telecom['onnet_mou_7']+df_telecom['onnet_mou_8']\n",
    "df_telecom_unseen['onnet_mou']=df_telecom_unseen['onnet_mou_6']+df_telecom_unseen['onnet_mou_7']+df_telecom['onnet_mou_8']\n"
   ]
  },
  {
   "cell_type": "markdown",
   "metadata": {},
   "source": [
    "##### <li>offnet_mou_6,offnet_mou_7,offnet_mou_8</li>"
   ]
  },
  {
   "cell_type": "code",
   "execution_count": 28,
   "metadata": {},
   "outputs": [
    {
     "data": {
      "text/html": [
       "<div>\n",
       "<style scoped>\n",
       "    .dataframe tbody tr th:only-of-type {\n",
       "        vertical-align: middle;\n",
       "    }\n",
       "\n",
       "    .dataframe tbody tr th {\n",
       "        vertical-align: top;\n",
       "    }\n",
       "\n",
       "    .dataframe thead th {\n",
       "        text-align: right;\n",
       "    }\n",
       "</style>\n",
       "<table border=\"1\" class=\"dataframe\">\n",
       "  <thead>\n",
       "    <tr style=\"text-align: right;\">\n",
       "      <th></th>\n",
       "      <th>offnet_mou_6</th>\n",
       "      <th>offnet_mou_7</th>\n",
       "      <th>offnet_mou_8</th>\n",
       "    </tr>\n",
       "  </thead>\n",
       "  <tbody>\n",
       "    <tr>\n",
       "      <th>count</th>\n",
       "      <td>67231.000000</td>\n",
       "      <td>67312.000000</td>\n",
       "      <td>66296.000000</td>\n",
       "    </tr>\n",
       "    <tr>\n",
       "      <th>mean</th>\n",
       "      <td>198.874771</td>\n",
       "      <td>197.153383</td>\n",
       "      <td>196.543577</td>\n",
       "    </tr>\n",
       "    <tr>\n",
       "      <th>std</th>\n",
       "      <td>316.818355</td>\n",
       "      <td>322.482226</td>\n",
       "      <td>324.089234</td>\n",
       "    </tr>\n",
       "    <tr>\n",
       "      <th>min</th>\n",
       "      <td>0.000000</td>\n",
       "      <td>0.000000</td>\n",
       "      <td>0.000000</td>\n",
       "    </tr>\n",
       "    <tr>\n",
       "      <th>25%</th>\n",
       "      <td>34.860000</td>\n",
       "      <td>32.240000</td>\n",
       "      <td>31.575000</td>\n",
       "    </tr>\n",
       "    <tr>\n",
       "      <th>50%</th>\n",
       "      <td>96.480000</td>\n",
       "      <td>91.885000</td>\n",
       "      <td>91.800000</td>\n",
       "    </tr>\n",
       "    <tr>\n",
       "      <th>75%</th>\n",
       "      <td>232.990000</td>\n",
       "      <td>227.630000</td>\n",
       "      <td>229.345000</td>\n",
       "    </tr>\n",
       "    <tr>\n",
       "      <th>max</th>\n",
       "      <td>8362.360000</td>\n",
       "      <td>7043.980000</td>\n",
       "      <td>14007.340000</td>\n",
       "    </tr>\n",
       "  </tbody>\n",
       "</table>\n",
       "</div>"
      ],
      "text/plain": [
       "       offnet_mou_6  offnet_mou_7  offnet_mou_8\n",
       "count  67231.000000  67312.000000  66296.000000\n",
       "mean     198.874771    197.153383    196.543577\n",
       "std      316.818355    322.482226    324.089234\n",
       "min        0.000000      0.000000      0.000000\n",
       "25%       34.860000     32.240000     31.575000\n",
       "50%       96.480000     91.885000     91.800000\n",
       "75%      232.990000    227.630000    229.345000\n",
       "max     8362.360000   7043.980000  14007.340000"
      ]
     },
     "execution_count": 28,
     "metadata": {},
     "output_type": "execute_result"
    }
   ],
   "source": [
    "df_telecom[['offnet_mou_6','offnet_mou_7','offnet_mou_8']].describe()"
   ]
  },
  {
   "cell_type": "code",
   "execution_count": 29,
   "metadata": {},
   "outputs": [
    {
     "data": {
      "text/plain": [
       "offnet_mou_6    2768\n",
       "offnet_mou_7    2687\n",
       "offnet_mou_8    3703\n",
       "dtype: int64"
      ]
     },
     "execution_count": 29,
     "metadata": {},
     "output_type": "execute_result"
    }
   ],
   "source": [
    "df_telecom[['offnet_mou_6','offnet_mou_7','offnet_mou_8']].isnull().sum()"
   ]
  },
  {
   "cell_type": "code",
   "execution_count": 30,
   "metadata": {},
   "outputs": [],
   "source": [
    "df_telecom[['offnet_mou_6','offnet_mou_7','offnet_mou_8']]=df_telecom[['offnet_mou_6','offnet_mou_7','offnet_mou_8']].fillna(0)"
   ]
  },
  {
   "cell_type": "code",
   "execution_count": 31,
   "metadata": {},
   "outputs": [
    {
     "data": {
      "text/plain": [
       "offnet_mou_6    0\n",
       "offnet_mou_7    0\n",
       "offnet_mou_8    0\n",
       "dtype: int64"
      ]
     },
     "execution_count": 31,
     "metadata": {},
     "output_type": "execute_result"
    }
   ],
   "source": [
    "df_telecom[['offnet_mou_6','offnet_mou_7','offnet_mou_8']].isnull().sum()"
   ]
  },
  {
   "cell_type": "code",
   "execution_count": 32,
   "metadata": {},
   "outputs": [
    {
     "data": {
      "text/html": [
       "<div>\n",
       "<style scoped>\n",
       "    .dataframe tbody tr th:only-of-type {\n",
       "        vertical-align: middle;\n",
       "    }\n",
       "\n",
       "    .dataframe tbody tr th {\n",
       "        vertical-align: top;\n",
       "    }\n",
       "\n",
       "    .dataframe thead th {\n",
       "        text-align: right;\n",
       "    }\n",
       "</style>\n",
       "<table border=\"1\" class=\"dataframe\">\n",
       "  <thead>\n",
       "    <tr style=\"text-align: right;\">\n",
       "      <th></th>\n",
       "      <th>offnet_mou_6</th>\n",
       "      <th>offnet_mou_7</th>\n",
       "      <th>offnet_mou_8</th>\n",
       "    </tr>\n",
       "  </thead>\n",
       "  <tbody>\n",
       "    <tr>\n",
       "      <th>count</th>\n",
       "      <td>69999.000000</td>\n",
       "      <td>69999.000000</td>\n",
       "      <td>69999.000000</td>\n",
       "    </tr>\n",
       "    <tr>\n",
       "      <th>mean</th>\n",
       "      <td>191.010582</td>\n",
       "      <td>189.585401</td>\n",
       "      <td>186.146273</td>\n",
       "    </tr>\n",
       "    <tr>\n",
       "      <th>std</th>\n",
       "      <td>312.900706</td>\n",
       "      <td>318.492632</td>\n",
       "      <td>318.453812</td>\n",
       "    </tr>\n",
       "    <tr>\n",
       "      <th>min</th>\n",
       "      <td>0.000000</td>\n",
       "      <td>0.000000</td>\n",
       "      <td>0.000000</td>\n",
       "    </tr>\n",
       "    <tr>\n",
       "      <th>25%</th>\n",
       "      <td>28.790000</td>\n",
       "      <td>26.690000</td>\n",
       "      <td>23.780000</td>\n",
       "    </tr>\n",
       "    <tr>\n",
       "      <th>50%</th>\n",
       "      <td>89.810000</td>\n",
       "      <td>85.590000</td>\n",
       "      <td>83.010000</td>\n",
       "    </tr>\n",
       "    <tr>\n",
       "      <th>75%</th>\n",
       "      <td>223.540000</td>\n",
       "      <td>218.350000</td>\n",
       "      <td>216.410000</td>\n",
       "    </tr>\n",
       "    <tr>\n",
       "      <th>max</th>\n",
       "      <td>8362.360000</td>\n",
       "      <td>7043.980000</td>\n",
       "      <td>14007.340000</td>\n",
       "    </tr>\n",
       "  </tbody>\n",
       "</table>\n",
       "</div>"
      ],
      "text/plain": [
       "       offnet_mou_6  offnet_mou_7  offnet_mou_8\n",
       "count  69999.000000  69999.000000  69999.000000\n",
       "mean     191.010582    189.585401    186.146273\n",
       "std      312.900706    318.492632    318.453812\n",
       "min        0.000000      0.000000      0.000000\n",
       "25%       28.790000     26.690000     23.780000\n",
       "50%       89.810000     85.590000     83.010000\n",
       "75%      223.540000    218.350000    216.410000\n",
       "max     8362.360000   7043.980000  14007.340000"
      ]
     },
     "execution_count": 32,
     "metadata": {},
     "output_type": "execute_result"
    }
   ],
   "source": [
    "df_telecom[['offnet_mou_6','offnet_mou_7','offnet_mou_8']].describe()"
   ]
  },
  {
   "cell_type": "code",
   "execution_count": 33,
   "metadata": {},
   "outputs": [
    {
     "data": {
      "text/html": [
       "<div>\n",
       "<style scoped>\n",
       "    .dataframe tbody tr th:only-of-type {\n",
       "        vertical-align: middle;\n",
       "    }\n",
       "\n",
       "    .dataframe tbody tr th {\n",
       "        vertical-align: top;\n",
       "    }\n",
       "\n",
       "    .dataframe thead th {\n",
       "        text-align: right;\n",
       "    }\n",
       "</style>\n",
       "<table border=\"1\" class=\"dataframe\">\n",
       "  <thead>\n",
       "    <tr style=\"text-align: right;\">\n",
       "      <th></th>\n",
       "      <th>offnet_mou_6</th>\n",
       "      <th>offnet_mou_7</th>\n",
       "      <th>offnet_mou_8</th>\n",
       "    </tr>\n",
       "  </thead>\n",
       "  <tbody>\n",
       "    <tr>\n",
       "      <th>count</th>\n",
       "      <td>28831.000000</td>\n",
       "      <td>28828.000000</td>\n",
       "      <td>28325.000000</td>\n",
       "    </tr>\n",
       "    <tr>\n",
       "      <th>mean</th>\n",
       "      <td>195.745473</td>\n",
       "      <td>196.792375</td>\n",
       "      <td>196.647889</td>\n",
       "    </tr>\n",
       "    <tr>\n",
       "      <th>std</th>\n",
       "      <td>316.923836</td>\n",
       "      <td>333.628481</td>\n",
       "      <td>334.277643</td>\n",
       "    </tr>\n",
       "    <tr>\n",
       "      <th>min</th>\n",
       "      <td>0.000000</td>\n",
       "      <td>0.000000</td>\n",
       "      <td>0.000000</td>\n",
       "    </tr>\n",
       "    <tr>\n",
       "      <th>25%</th>\n",
       "      <td>34.385000</td>\n",
       "      <td>32.110000</td>\n",
       "      <td>31.740000</td>\n",
       "    </tr>\n",
       "    <tr>\n",
       "      <th>50%</th>\n",
       "      <td>95.830000</td>\n",
       "      <td>91.435000</td>\n",
       "      <td>92.810000</td>\n",
       "    </tr>\n",
       "    <tr>\n",
       "      <th>75%</th>\n",
       "      <td>229.230000</td>\n",
       "      <td>224.972500</td>\n",
       "      <td>225.760000</td>\n",
       "    </tr>\n",
       "    <tr>\n",
       "      <th>max</th>\n",
       "      <td>6962.460000</td>\n",
       "      <td>9667.130000</td>\n",
       "      <td>13547.840000</td>\n",
       "    </tr>\n",
       "  </tbody>\n",
       "</table>\n",
       "</div>"
      ],
      "text/plain": [
       "       offnet_mou_6  offnet_mou_7  offnet_mou_8\n",
       "count  28831.000000  28828.000000  28325.000000\n",
       "mean     195.745473    196.792375    196.647889\n",
       "std      316.923836    333.628481    334.277643\n",
       "min        0.000000      0.000000      0.000000\n",
       "25%       34.385000     32.110000     31.740000\n",
       "50%       95.830000     91.435000     92.810000\n",
       "75%      229.230000    224.972500    225.760000\n",
       "max     6962.460000   9667.130000  13547.840000"
      ]
     },
     "execution_count": 33,
     "metadata": {},
     "output_type": "execute_result"
    }
   ],
   "source": [
    "df_telecom_unseen[['offnet_mou_6','offnet_mou_7','offnet_mou_8']].describe()"
   ]
  },
  {
   "cell_type": "code",
   "execution_count": 34,
   "metadata": {},
   "outputs": [
    {
     "data": {
      "text/plain": [
       "offnet_mou_6    1169\n",
       "offnet_mou_7    1172\n",
       "offnet_mou_8    1675\n",
       "dtype: int64"
      ]
     },
     "execution_count": 34,
     "metadata": {},
     "output_type": "execute_result"
    }
   ],
   "source": [
    "df_telecom_unseen[['offnet_mou_6','offnet_mou_7','offnet_mou_8']].isnull().sum()"
   ]
  },
  {
   "cell_type": "code",
   "execution_count": 35,
   "metadata": {},
   "outputs": [],
   "source": [
    "df_telecom_unseen[['offnet_mou_6','offnet_mou_7','offnet_mou_8']]=df_telecom_unseen[['offnet_mou_6','offnet_mou_7','offnet_mou_8']].fillna(0)"
   ]
  },
  {
   "cell_type": "code",
   "execution_count": 36,
   "metadata": {},
   "outputs": [
    {
     "data": {
      "text/html": [
       "<div>\n",
       "<style scoped>\n",
       "    .dataframe tbody tr th:only-of-type {\n",
       "        vertical-align: middle;\n",
       "    }\n",
       "\n",
       "    .dataframe tbody tr th {\n",
       "        vertical-align: top;\n",
       "    }\n",
       "\n",
       "    .dataframe thead th {\n",
       "        text-align: right;\n",
       "    }\n",
       "</style>\n",
       "<table border=\"1\" class=\"dataframe\">\n",
       "  <thead>\n",
       "    <tr style=\"text-align: right;\">\n",
       "      <th></th>\n",
       "      <th>offnet_mou_6</th>\n",
       "      <th>offnet_mou_7</th>\n",
       "      <th>offnet_mou_8</th>\n",
       "    </tr>\n",
       "  </thead>\n",
       "  <tbody>\n",
       "    <tr>\n",
       "      <th>count</th>\n",
       "      <td>30000.000000</td>\n",
       "      <td>30000.000000</td>\n",
       "      <td>30000.000000</td>\n",
       "    </tr>\n",
       "    <tr>\n",
       "      <th>mean</th>\n",
       "      <td>188.117924</td>\n",
       "      <td>189.104353</td>\n",
       "      <td>185.668382</td>\n",
       "    </tr>\n",
       "    <tr>\n",
       "      <th>std</th>\n",
       "      <td>312.988297</td>\n",
       "      <td>329.261711</td>\n",
       "      <td>327.934516</td>\n",
       "    </tr>\n",
       "    <tr>\n",
       "      <th>min</th>\n",
       "      <td>0.000000</td>\n",
       "      <td>0.000000</td>\n",
       "      <td>0.000000</td>\n",
       "    </tr>\n",
       "    <tr>\n",
       "      <th>25%</th>\n",
       "      <td>28.605000</td>\n",
       "      <td>26.580000</td>\n",
       "      <td>24.025000</td>\n",
       "    </tr>\n",
       "    <tr>\n",
       "      <th>50%</th>\n",
       "      <td>89.280000</td>\n",
       "      <td>84.925000</td>\n",
       "      <td>83.485000</td>\n",
       "    </tr>\n",
       "    <tr>\n",
       "      <th>75%</th>\n",
       "      <td>220.150000</td>\n",
       "      <td>216.930000</td>\n",
       "      <td>213.745000</td>\n",
       "    </tr>\n",
       "    <tr>\n",
       "      <th>max</th>\n",
       "      <td>6962.460000</td>\n",
       "      <td>9667.130000</td>\n",
       "      <td>13547.840000</td>\n",
       "    </tr>\n",
       "  </tbody>\n",
       "</table>\n",
       "</div>"
      ],
      "text/plain": [
       "       offnet_mou_6  offnet_mou_7  offnet_mou_8\n",
       "count  30000.000000  30000.000000  30000.000000\n",
       "mean     188.117924    189.104353    185.668382\n",
       "std      312.988297    329.261711    327.934516\n",
       "min        0.000000      0.000000      0.000000\n",
       "25%       28.605000     26.580000     24.025000\n",
       "50%       89.280000     84.925000     83.485000\n",
       "75%      220.150000    216.930000    213.745000\n",
       "max     6962.460000   9667.130000  13547.840000"
      ]
     },
     "execution_count": 36,
     "metadata": {},
     "output_type": "execute_result"
    }
   ],
   "source": [
    "df_telecom_unseen[['offnet_mou_6','offnet_mou_7','offnet_mou_8']].describe()"
   ]
  },
  {
   "cell_type": "code",
   "execution_count": 37,
   "metadata": {},
   "outputs": [],
   "source": [
    "df_telecom['offnet_mou']=df_telecom['offnet_mou_6']+df_telecom['offnet_mou_7']+df_telecom['offnet_mou_8']\n",
    "df_telecom_unseen['offnet_mou']=df_telecom_unseen['offnet_mou_6']+df_telecom_unseen['offnet_mou_7']+df_telecom_unseen['offnet_mou_8']"
   ]
  },
  {
   "cell_type": "markdown",
   "metadata": {},
   "source": [
    "##### <li>total_og_mou_6,total_og_mou_7,total_og_mou_8</li>"
   ]
  },
  {
   "cell_type": "code",
   "execution_count": 38,
   "metadata": {},
   "outputs": [
    {
     "data": {
      "text/html": [
       "<div>\n",
       "<style scoped>\n",
       "    .dataframe tbody tr th:only-of-type {\n",
       "        vertical-align: middle;\n",
       "    }\n",
       "\n",
       "    .dataframe tbody tr th {\n",
       "        vertical-align: top;\n",
       "    }\n",
       "\n",
       "    .dataframe thead th {\n",
       "        text-align: right;\n",
       "    }\n",
       "</style>\n",
       "<table border=\"1\" class=\"dataframe\">\n",
       "  <thead>\n",
       "    <tr style=\"text-align: right;\">\n",
       "      <th></th>\n",
       "      <th>total_og_mou_6</th>\n",
       "      <th>total_og_mou_7</th>\n",
       "      <th>total_og_mou_8</th>\n",
       "    </tr>\n",
       "  </thead>\n",
       "  <tbody>\n",
       "    <tr>\n",
       "      <th>count</th>\n",
       "      <td>69999.000000</td>\n",
       "      <td>69999.000000</td>\n",
       "      <td>69999.000000</td>\n",
       "    </tr>\n",
       "    <tr>\n",
       "      <th>mean</th>\n",
       "      <td>306.451436</td>\n",
       "      <td>310.572674</td>\n",
       "      <td>304.513065</td>\n",
       "    </tr>\n",
       "    <tr>\n",
       "      <th>std</th>\n",
       "      <td>465.502866</td>\n",
       "      <td>479.131770</td>\n",
       "      <td>477.936832</td>\n",
       "    </tr>\n",
       "    <tr>\n",
       "      <th>min</th>\n",
       "      <td>0.000000</td>\n",
       "      <td>0.000000</td>\n",
       "      <td>0.000000</td>\n",
       "    </tr>\n",
       "    <tr>\n",
       "      <th>25%</th>\n",
       "      <td>44.780000</td>\n",
       "      <td>42.910000</td>\n",
       "      <td>38.710000</td>\n",
       "    </tr>\n",
       "    <tr>\n",
       "      <th>50%</th>\n",
       "      <td>145.280000</td>\n",
       "      <td>141.230000</td>\n",
       "      <td>138.360000</td>\n",
       "    </tr>\n",
       "    <tr>\n",
       "      <th>75%</th>\n",
       "      <td>374.305000</td>\n",
       "      <td>380.045000</td>\n",
       "      <td>370.895000</td>\n",
       "    </tr>\n",
       "    <tr>\n",
       "      <th>max</th>\n",
       "      <td>10674.030000</td>\n",
       "      <td>8285.640000</td>\n",
       "      <td>14043.060000</td>\n",
       "    </tr>\n",
       "  </tbody>\n",
       "</table>\n",
       "</div>"
      ],
      "text/plain": [
       "       total_og_mou_6  total_og_mou_7  total_og_mou_8\n",
       "count    69999.000000    69999.000000    69999.000000\n",
       "mean       306.451436      310.572674      304.513065\n",
       "std        465.502866      479.131770      477.936832\n",
       "min          0.000000        0.000000        0.000000\n",
       "25%         44.780000       42.910000       38.710000\n",
       "50%        145.280000      141.230000      138.360000\n",
       "75%        374.305000      380.045000      370.895000\n",
       "max      10674.030000     8285.640000    14043.060000"
      ]
     },
     "execution_count": 38,
     "metadata": {},
     "output_type": "execute_result"
    }
   ],
   "source": [
    "df_telecom[['total_og_mou_6','total_og_mou_7','total_og_mou_8']].describe()"
   ]
  },
  {
   "cell_type": "code",
   "execution_count": 39,
   "metadata": {},
   "outputs": [
    {
     "data": {
      "text/html": [
       "<div>\n",
       "<style scoped>\n",
       "    .dataframe tbody tr th:only-of-type {\n",
       "        vertical-align: middle;\n",
       "    }\n",
       "\n",
       "    .dataframe tbody tr th {\n",
       "        vertical-align: top;\n",
       "    }\n",
       "\n",
       "    .dataframe thead th {\n",
       "        text-align: right;\n",
       "    }\n",
       "</style>\n",
       "<table border=\"1\" class=\"dataframe\">\n",
       "  <thead>\n",
       "    <tr style=\"text-align: right;\">\n",
       "      <th></th>\n",
       "      <th>total_og_mou_6</th>\n",
       "      <th>total_og_mou_7</th>\n",
       "      <th>total_og_mou_8</th>\n",
       "    </tr>\n",
       "  </thead>\n",
       "  <tbody>\n",
       "    <tr>\n",
       "      <th>count</th>\n",
       "      <td>30000.000000</td>\n",
       "      <td>30000.000000</td>\n",
       "      <td>30000.000000</td>\n",
       "    </tr>\n",
       "    <tr>\n",
       "      <th>mean</th>\n",
       "      <td>302.058108</td>\n",
       "      <td>309.434356</td>\n",
       "      <td>303.201238</td>\n",
       "    </tr>\n",
       "    <tr>\n",
       "      <th>std</th>\n",
       "      <td>458.514486</td>\n",
       "      <td>482.130305</td>\n",
       "      <td>478.653833</td>\n",
       "    </tr>\n",
       "    <tr>\n",
       "      <th>min</th>\n",
       "      <td>0.000000</td>\n",
       "      <td>0.000000</td>\n",
       "      <td>0.000000</td>\n",
       "    </tr>\n",
       "    <tr>\n",
       "      <th>25%</th>\n",
       "      <td>44.610000</td>\n",
       "      <td>43.325000</td>\n",
       "      <td>38.137500</td>\n",
       "    </tr>\n",
       "    <tr>\n",
       "      <th>50%</th>\n",
       "      <td>144.860000</td>\n",
       "      <td>142.180000</td>\n",
       "      <td>139.470000</td>\n",
       "    </tr>\n",
       "    <tr>\n",
       "      <th>75%</th>\n",
       "      <td>370.637500</td>\n",
       "      <td>376.560000</td>\n",
       "      <td>367.910000</td>\n",
       "    </tr>\n",
       "    <tr>\n",
       "      <th>max</th>\n",
       "      <td>7387.540000</td>\n",
       "      <td>11365.310000</td>\n",
       "      <td>13848.260000</td>\n",
       "    </tr>\n",
       "  </tbody>\n",
       "</table>\n",
       "</div>"
      ],
      "text/plain": [
       "       total_og_mou_6  total_og_mou_7  total_og_mou_8\n",
       "count    30000.000000    30000.000000    30000.000000\n",
       "mean       302.058108      309.434356      303.201238\n",
       "std        458.514486      482.130305      478.653833\n",
       "min          0.000000        0.000000        0.000000\n",
       "25%         44.610000       43.325000       38.137500\n",
       "50%        144.860000      142.180000      139.470000\n",
       "75%        370.637500      376.560000      367.910000\n",
       "max       7387.540000    11365.310000    13848.260000"
      ]
     },
     "execution_count": 39,
     "metadata": {},
     "output_type": "execute_result"
    }
   ],
   "source": [
    "df_telecom_unseen[['total_og_mou_6','total_og_mou_7','total_og_mou_8']].describe()"
   ]
  },
  {
   "cell_type": "code",
   "execution_count": 40,
   "metadata": {},
   "outputs": [],
   "source": [
    "df_telecom['total_og_mou']=df_telecom['total_og_mou_6']+df_telecom['total_og_mou_7']+df_telecom['total_og_mou_8']\n",
    "df_telecom_unseen['total_og_mou']=df_telecom_unseen['total_og_mou_6']+df_telecom_unseen['total_og_mou_7']+df_telecom_unseen['total_og_mou_8']"
   ]
  },
  {
   "cell_type": "markdown",
   "metadata": {},
   "source": [
    "##### <li>total_ic_mou_6,total_ic_mou_7,total_ic_mou_8</li>"
   ]
  },
  {
   "cell_type": "code",
   "execution_count": 41,
   "metadata": {},
   "outputs": [
    {
     "data": {
      "text/html": [
       "<div>\n",
       "<style scoped>\n",
       "    .dataframe tbody tr th:only-of-type {\n",
       "        vertical-align: middle;\n",
       "    }\n",
       "\n",
       "    .dataframe tbody tr th {\n",
       "        vertical-align: top;\n",
       "    }\n",
       "\n",
       "    .dataframe thead th {\n",
       "        text-align: right;\n",
       "    }\n",
       "</style>\n",
       "<table border=\"1\" class=\"dataframe\">\n",
       "  <thead>\n",
       "    <tr style=\"text-align: right;\">\n",
       "      <th></th>\n",
       "      <th>total_ic_mou_6</th>\n",
       "      <th>total_ic_mou_7</th>\n",
       "      <th>total_ic_mou_8</th>\n",
       "    </tr>\n",
       "  </thead>\n",
       "  <tbody>\n",
       "    <tr>\n",
       "      <th>count</th>\n",
       "      <td>69999.000000</td>\n",
       "      <td>69999.000000</td>\n",
       "      <td>69999.000000</td>\n",
       "    </tr>\n",
       "    <tr>\n",
       "      <th>mean</th>\n",
       "      <td>199.710640</td>\n",
       "      <td>201.878029</td>\n",
       "      <td>198.486034</td>\n",
       "    </tr>\n",
       "    <tr>\n",
       "      <th>std</th>\n",
       "      <td>290.114823</td>\n",
       "      <td>296.771338</td>\n",
       "      <td>288.336731</td>\n",
       "    </tr>\n",
       "    <tr>\n",
       "      <th>min</th>\n",
       "      <td>0.000000</td>\n",
       "      <td>0.000000</td>\n",
       "      <td>0.000000</td>\n",
       "    </tr>\n",
       "    <tr>\n",
       "      <th>25%</th>\n",
       "      <td>38.640000</td>\n",
       "      <td>41.340000</td>\n",
       "      <td>38.290000</td>\n",
       "    </tr>\n",
       "    <tr>\n",
       "      <th>50%</th>\n",
       "      <td>114.780000</td>\n",
       "      <td>116.330000</td>\n",
       "      <td>114.610000</td>\n",
       "    </tr>\n",
       "    <tr>\n",
       "      <th>75%</th>\n",
       "      <td>251.070000</td>\n",
       "      <td>249.470000</td>\n",
       "      <td>249.710000</td>\n",
       "    </tr>\n",
       "    <tr>\n",
       "      <th>max</th>\n",
       "      <td>7716.140000</td>\n",
       "      <td>9699.010000</td>\n",
       "      <td>10830.380000</td>\n",
       "    </tr>\n",
       "  </tbody>\n",
       "</table>\n",
       "</div>"
      ],
      "text/plain": [
       "       total_ic_mou_6  total_ic_mou_7  total_ic_mou_8\n",
       "count    69999.000000    69999.000000    69999.000000\n",
       "mean       199.710640      201.878029      198.486034\n",
       "std        290.114823      296.771338      288.336731\n",
       "min          0.000000        0.000000        0.000000\n",
       "25%         38.640000       41.340000       38.290000\n",
       "50%        114.780000      116.330000      114.610000\n",
       "75%        251.070000      249.470000      249.710000\n",
       "max       7716.140000     9699.010000    10830.380000"
      ]
     },
     "execution_count": 41,
     "metadata": {},
     "output_type": "execute_result"
    }
   ],
   "source": [
    "df_telecom[['total_ic_mou_6','total_ic_mou_7','total_ic_mou_8']].describe()"
   ]
  },
  {
   "cell_type": "code",
   "execution_count": 42,
   "metadata": {},
   "outputs": [
    {
     "data": {
      "text/plain": [
       "total_ic_mou_6    float64\n",
       "total_ic_mou_7    float64\n",
       "total_ic_mou_8    float64\n",
       "dtype: object"
      ]
     },
     "execution_count": 42,
     "metadata": {},
     "output_type": "execute_result"
    }
   ],
   "source": [
    "df_telecom[['total_ic_mou_6','total_ic_mou_7','total_ic_mou_8']].dtypes"
   ]
  },
  {
   "cell_type": "code",
   "execution_count": 43,
   "metadata": {},
   "outputs": [
    {
     "data": {
      "text/html": [
       "<div>\n",
       "<style scoped>\n",
       "    .dataframe tbody tr th:only-of-type {\n",
       "        vertical-align: middle;\n",
       "    }\n",
       "\n",
       "    .dataframe tbody tr th {\n",
       "        vertical-align: top;\n",
       "    }\n",
       "\n",
       "    .dataframe thead th {\n",
       "        text-align: right;\n",
       "    }\n",
       "</style>\n",
       "<table border=\"1\" class=\"dataframe\">\n",
       "  <thead>\n",
       "    <tr style=\"text-align: right;\">\n",
       "      <th></th>\n",
       "      <th>total_ic_mou_6</th>\n",
       "      <th>total_ic_mou_7</th>\n",
       "      <th>total_ic_mou_8</th>\n",
       "    </tr>\n",
       "  </thead>\n",
       "  <tbody>\n",
       "    <tr>\n",
       "      <th>count</th>\n",
       "      <td>30000.000000</td>\n",
       "      <td>30000.000000</td>\n",
       "      <td>30000.000000</td>\n",
       "    </tr>\n",
       "    <tr>\n",
       "      <th>mean</th>\n",
       "      <td>201.108615</td>\n",
       "      <td>205.128083</td>\n",
       "      <td>199.368522</td>\n",
       "    </tr>\n",
       "    <tr>\n",
       "      <th>std</th>\n",
       "      <td>295.209040</td>\n",
       "      <td>301.252400</td>\n",
       "      <td>291.608879</td>\n",
       "    </tr>\n",
       "    <tr>\n",
       "      <th>min</th>\n",
       "      <td>0.000000</td>\n",
       "      <td>0.000000</td>\n",
       "      <td>0.000000</td>\n",
       "    </tr>\n",
       "    <tr>\n",
       "      <th>25%</th>\n",
       "      <td>38.137500</td>\n",
       "      <td>40.860000</td>\n",
       "      <td>38.340000</td>\n",
       "    </tr>\n",
       "    <tr>\n",
       "      <th>50%</th>\n",
       "      <td>114.655000</td>\n",
       "      <td>116.420000</td>\n",
       "      <td>114.810000</td>\n",
       "    </tr>\n",
       "    <tr>\n",
       "      <th>75%</th>\n",
       "      <td>253.357500</td>\n",
       "      <td>253.272500</td>\n",
       "      <td>247.280000</td>\n",
       "    </tr>\n",
       "    <tr>\n",
       "      <th>max</th>\n",
       "      <td>6837.080000</td>\n",
       "      <td>5852.030000</td>\n",
       "      <td>5990.710000</td>\n",
       "    </tr>\n",
       "  </tbody>\n",
       "</table>\n",
       "</div>"
      ],
      "text/plain": [
       "       total_ic_mou_6  total_ic_mou_7  total_ic_mou_8\n",
       "count    30000.000000    30000.000000    30000.000000\n",
       "mean       201.108615      205.128083      199.368522\n",
       "std        295.209040      301.252400      291.608879\n",
       "min          0.000000        0.000000        0.000000\n",
       "25%         38.137500       40.860000       38.340000\n",
       "50%        114.655000      116.420000      114.810000\n",
       "75%        253.357500      253.272500      247.280000\n",
       "max       6837.080000     5852.030000     5990.710000"
      ]
     },
     "execution_count": 43,
     "metadata": {},
     "output_type": "execute_result"
    }
   ],
   "source": [
    "df_telecom_unseen[['total_ic_mou_6','total_ic_mou_7','total_ic_mou_8']].describe()"
   ]
  },
  {
   "cell_type": "code",
   "execution_count": 44,
   "metadata": {},
   "outputs": [
    {
     "data": {
      "text/plain": [
       "total_ic_mou_6    float64\n",
       "total_ic_mou_7    float64\n",
       "total_ic_mou_8    float64\n",
       "dtype: object"
      ]
     },
     "execution_count": 44,
     "metadata": {},
     "output_type": "execute_result"
    }
   ],
   "source": [
    "df_telecom_unseen[['total_ic_mou_6','total_ic_mou_7','total_ic_mou_8']].dtypes"
   ]
  },
  {
   "cell_type": "code",
   "execution_count": 45,
   "metadata": {},
   "outputs": [],
   "source": [
    "df_telecom['total_ic_mou']= df_telecom['total_ic_mou_6']+df_telecom['total_ic_mou_7']+df_telecom['total_ic_mou_8']\n",
    "df_telecom_unseen['total_ic_mou']= df_telecom_unseen['total_ic_mou_6']+df_telecom_unseen['total_ic_mou_7']+df_telecom_unseen['total_ic_mou_8']"
   ]
  },
  {
   "cell_type": "markdown",
   "metadata": {},
   "source": [
    "##### <li>total_rech_num_6,total_rech_num_7,total_rech_num_8</li>"
   ]
  },
  {
   "cell_type": "code",
   "execution_count": 46,
   "metadata": {},
   "outputs": [
    {
     "data": {
      "text/html": [
       "<div>\n",
       "<style scoped>\n",
       "    .dataframe tbody tr th:only-of-type {\n",
       "        vertical-align: middle;\n",
       "    }\n",
       "\n",
       "    .dataframe tbody tr th {\n",
       "        vertical-align: top;\n",
       "    }\n",
       "\n",
       "    .dataframe thead th {\n",
       "        text-align: right;\n",
       "    }\n",
       "</style>\n",
       "<table border=\"1\" class=\"dataframe\">\n",
       "  <thead>\n",
       "    <tr style=\"text-align: right;\">\n",
       "      <th></th>\n",
       "      <th>total_rech_num_6</th>\n",
       "      <th>total_rech_num_7</th>\n",
       "      <th>total_rech_num_8</th>\n",
       "    </tr>\n",
       "  </thead>\n",
       "  <tbody>\n",
       "    <tr>\n",
       "      <th>count</th>\n",
       "      <td>69999.000000</td>\n",
       "      <td>69999.000000</td>\n",
       "      <td>69999.000000</td>\n",
       "    </tr>\n",
       "    <tr>\n",
       "      <th>mean</th>\n",
       "      <td>7.566522</td>\n",
       "      <td>7.706667</td>\n",
       "      <td>7.224932</td>\n",
       "    </tr>\n",
       "    <tr>\n",
       "      <th>std</th>\n",
       "      <td>7.041452</td>\n",
       "      <td>7.050614</td>\n",
       "      <td>7.195597</td>\n",
       "    </tr>\n",
       "    <tr>\n",
       "      <th>min</th>\n",
       "      <td>0.000000</td>\n",
       "      <td>0.000000</td>\n",
       "      <td>0.000000</td>\n",
       "    </tr>\n",
       "    <tr>\n",
       "      <th>25%</th>\n",
       "      <td>3.000000</td>\n",
       "      <td>3.000000</td>\n",
       "      <td>3.000000</td>\n",
       "    </tr>\n",
       "    <tr>\n",
       "      <th>50%</th>\n",
       "      <td>6.000000</td>\n",
       "      <td>6.000000</td>\n",
       "      <td>5.000000</td>\n",
       "    </tr>\n",
       "    <tr>\n",
       "      <th>75%</th>\n",
       "      <td>9.000000</td>\n",
       "      <td>10.000000</td>\n",
       "      <td>9.000000</td>\n",
       "    </tr>\n",
       "    <tr>\n",
       "      <th>max</th>\n",
       "      <td>170.000000</td>\n",
       "      <td>138.000000</td>\n",
       "      <td>138.000000</td>\n",
       "    </tr>\n",
       "  </tbody>\n",
       "</table>\n",
       "</div>"
      ],
      "text/plain": [
       "       total_rech_num_6  total_rech_num_7  total_rech_num_8\n",
       "count      69999.000000      69999.000000      69999.000000\n",
       "mean           7.566522          7.706667          7.224932\n",
       "std            7.041452          7.050614          7.195597\n",
       "min            0.000000          0.000000          0.000000\n",
       "25%            3.000000          3.000000          3.000000\n",
       "50%            6.000000          6.000000          5.000000\n",
       "75%            9.000000         10.000000          9.000000\n",
       "max          170.000000        138.000000        138.000000"
      ]
     },
     "execution_count": 46,
     "metadata": {},
     "output_type": "execute_result"
    }
   ],
   "source": [
    "df_telecom[['total_rech_num_6','total_rech_num_7','total_rech_num_8']].describe()"
   ]
  },
  {
   "cell_type": "code",
   "execution_count": 47,
   "metadata": {},
   "outputs": [
    {
     "data": {
      "text/html": [
       "<div>\n",
       "<style scoped>\n",
       "    .dataframe tbody tr th:only-of-type {\n",
       "        vertical-align: middle;\n",
       "    }\n",
       "\n",
       "    .dataframe tbody tr th {\n",
       "        vertical-align: top;\n",
       "    }\n",
       "\n",
       "    .dataframe thead th {\n",
       "        text-align: right;\n",
       "    }\n",
       "</style>\n",
       "<table border=\"1\" class=\"dataframe\">\n",
       "  <thead>\n",
       "    <tr style=\"text-align: right;\">\n",
       "      <th></th>\n",
       "      <th>total_rech_num_6</th>\n",
       "      <th>total_rech_num_7</th>\n",
       "      <th>total_rech_num_8</th>\n",
       "    </tr>\n",
       "  </thead>\n",
       "  <tbody>\n",
       "    <tr>\n",
       "      <th>count</th>\n",
       "      <td>30000.000000</td>\n",
       "      <td>30000.000000</td>\n",
       "      <td>30000.000000</td>\n",
       "    </tr>\n",
       "    <tr>\n",
       "      <th>mean</th>\n",
       "      <td>7.540800</td>\n",
       "      <td>7.685667</td>\n",
       "      <td>7.184867</td>\n",
       "    </tr>\n",
       "    <tr>\n",
       "      <th>std</th>\n",
       "      <td>7.163973</td>\n",
       "      <td>7.116522</td>\n",
       "      <td>7.222790</td>\n",
       "    </tr>\n",
       "    <tr>\n",
       "      <th>min</th>\n",
       "      <td>0.000000</td>\n",
       "      <td>0.000000</td>\n",
       "      <td>0.000000</td>\n",
       "    </tr>\n",
       "    <tr>\n",
       "      <th>25%</th>\n",
       "      <td>3.000000</td>\n",
       "      <td>3.000000</td>\n",
       "      <td>3.000000</td>\n",
       "    </tr>\n",
       "    <tr>\n",
       "      <th>50%</th>\n",
       "      <td>6.000000</td>\n",
       "      <td>6.000000</td>\n",
       "      <td>5.000000</td>\n",
       "    </tr>\n",
       "    <tr>\n",
       "      <th>75%</th>\n",
       "      <td>9.000000</td>\n",
       "      <td>10.000000</td>\n",
       "      <td>9.000000</td>\n",
       "    </tr>\n",
       "    <tr>\n",
       "      <th>max</th>\n",
       "      <td>307.000000</td>\n",
       "      <td>110.000000</td>\n",
       "      <td>196.000000</td>\n",
       "    </tr>\n",
       "  </tbody>\n",
       "</table>\n",
       "</div>"
      ],
      "text/plain": [
       "       total_rech_num_6  total_rech_num_7  total_rech_num_8\n",
       "count      30000.000000      30000.000000      30000.000000\n",
       "mean           7.540800          7.685667          7.184867\n",
       "std            7.163973          7.116522          7.222790\n",
       "min            0.000000          0.000000          0.000000\n",
       "25%            3.000000          3.000000          3.000000\n",
       "50%            6.000000          6.000000          5.000000\n",
       "75%            9.000000         10.000000          9.000000\n",
       "max          307.000000        110.000000        196.000000"
      ]
     },
     "execution_count": 47,
     "metadata": {},
     "output_type": "execute_result"
    }
   ],
   "source": [
    "df_telecom_unseen[['total_rech_num_6','total_rech_num_7','total_rech_num_8']].describe()"
   ]
  },
  {
   "cell_type": "code",
   "execution_count": 48,
   "metadata": {},
   "outputs": [
    {
     "data": {
      "text/plain": [
       "total_rech_num_6    int64\n",
       "total_rech_num_7    int64\n",
       "total_rech_num_8    int64\n",
       "dtype: object"
      ]
     },
     "execution_count": 48,
     "metadata": {},
     "output_type": "execute_result"
    }
   ],
   "source": [
    "df_telecom_unseen[['total_rech_num_6','total_rech_num_7','total_rech_num_8']].dtypes"
   ]
  },
  {
   "cell_type": "code",
   "execution_count": 49,
   "metadata": {},
   "outputs": [
    {
     "data": {
      "text/plain": [
       "total_rech_num_6    int64\n",
       "total_rech_num_7    int64\n",
       "total_rech_num_8    int64\n",
       "dtype: object"
      ]
     },
     "execution_count": 49,
     "metadata": {},
     "output_type": "execute_result"
    }
   ],
   "source": [
    "df_telecom[['total_rech_num_6','total_rech_num_7','total_rech_num_8']].dtypes"
   ]
  },
  {
   "cell_type": "code",
   "execution_count": 50,
   "metadata": {},
   "outputs": [],
   "source": [
    "df_telecom['total_rech_num']=df_telecom['total_rech_num_6']+df_telecom['total_rech_num_7']+df_telecom['total_rech_num_8']\n",
    "df_telecom_unseen['total_rech_num']=df_telecom_unseen['total_rech_num_6']+df_telecom_unseen['total_rech_num_7']+df_telecom_unseen['total_rech_num_8']"
   ]
  },
  {
   "cell_type": "code",
   "execution_count": 51,
   "metadata": {},
   "outputs": [
    {
     "data": {
      "text/plain": [
       "count    30000.000000\n",
       "mean        22.411333\n",
       "std         18.546232\n",
       "min          0.000000\n",
       "25%         11.000000\n",
       "50%         17.000000\n",
       "75%         27.000000\n",
       "max        327.000000\n",
       "Name: total_rech_num, dtype: float64"
      ]
     },
     "execution_count": 51,
     "metadata": {},
     "output_type": "execute_result"
    }
   ],
   "source": [
    "df_telecom_unseen['total_rech_num'].describe()"
   ]
  },
  {
   "cell_type": "markdown",
   "metadata": {},
   "source": [
    "##### <li>total_rech_amt_6,total_rech_amt_7,total_rech_amt_8</li>"
   ]
  },
  {
   "cell_type": "code",
   "execution_count": 52,
   "metadata": {},
   "outputs": [
    {
     "data": {
      "text/plain": [
       "total_rech_amt_6    int64\n",
       "total_rech_amt_7    int64\n",
       "total_rech_amt_8    int64\n",
       "dtype: object"
      ]
     },
     "execution_count": 52,
     "metadata": {},
     "output_type": "execute_result"
    }
   ],
   "source": [
    "df_telecom[['total_rech_amt_6','total_rech_amt_7','total_rech_amt_8']].dtypes"
   ]
  },
  {
   "cell_type": "code",
   "execution_count": 53,
   "metadata": {},
   "outputs": [
    {
     "data": {
      "text/html": [
       "<div>\n",
       "<style scoped>\n",
       "    .dataframe tbody tr th:only-of-type {\n",
       "        vertical-align: middle;\n",
       "    }\n",
       "\n",
       "    .dataframe tbody tr th {\n",
       "        vertical-align: top;\n",
       "    }\n",
       "\n",
       "    .dataframe thead th {\n",
       "        text-align: right;\n",
       "    }\n",
       "</style>\n",
       "<table border=\"1\" class=\"dataframe\">\n",
       "  <thead>\n",
       "    <tr style=\"text-align: right;\">\n",
       "      <th></th>\n",
       "      <th>total_rech_amt_6</th>\n",
       "      <th>total_rech_amt_7</th>\n",
       "      <th>total_rech_amt_8</th>\n",
       "    </tr>\n",
       "  </thead>\n",
       "  <tbody>\n",
       "    <tr>\n",
       "      <th>count</th>\n",
       "      <td>69999.000000</td>\n",
       "      <td>69999.000000</td>\n",
       "      <td>69999.000000</td>\n",
       "    </tr>\n",
       "    <tr>\n",
       "      <th>mean</th>\n",
       "      <td>328.139788</td>\n",
       "      <td>322.376363</td>\n",
       "      <td>323.846355</td>\n",
       "    </tr>\n",
       "    <tr>\n",
       "      <th>std</th>\n",
       "      <td>404.211068</td>\n",
       "      <td>411.070120</td>\n",
       "      <td>426.181405</td>\n",
       "    </tr>\n",
       "    <tr>\n",
       "      <th>min</th>\n",
       "      <td>0.000000</td>\n",
       "      <td>0.000000</td>\n",
       "      <td>0.000000</td>\n",
       "    </tr>\n",
       "    <tr>\n",
       "      <th>25%</th>\n",
       "      <td>110.000000</td>\n",
       "      <td>100.000000</td>\n",
       "      <td>90.000000</td>\n",
       "    </tr>\n",
       "    <tr>\n",
       "      <th>50%</th>\n",
       "      <td>229.000000</td>\n",
       "      <td>220.000000</td>\n",
       "      <td>225.000000</td>\n",
       "    </tr>\n",
       "    <tr>\n",
       "      <th>75%</th>\n",
       "      <td>438.000000</td>\n",
       "      <td>430.000000</td>\n",
       "      <td>436.000000</td>\n",
       "    </tr>\n",
       "    <tr>\n",
       "      <th>max</th>\n",
       "      <td>35190.000000</td>\n",
       "      <td>40335.000000</td>\n",
       "      <td>45320.000000</td>\n",
       "    </tr>\n",
       "  </tbody>\n",
       "</table>\n",
       "</div>"
      ],
      "text/plain": [
       "       total_rech_amt_6  total_rech_amt_7  total_rech_amt_8\n",
       "count      69999.000000      69999.000000      69999.000000\n",
       "mean         328.139788        322.376363        323.846355\n",
       "std          404.211068        411.070120        426.181405\n",
       "min            0.000000          0.000000          0.000000\n",
       "25%          110.000000        100.000000         90.000000\n",
       "50%          229.000000        220.000000        225.000000\n",
       "75%          438.000000        430.000000        436.000000\n",
       "max        35190.000000      40335.000000      45320.000000"
      ]
     },
     "execution_count": 53,
     "metadata": {},
     "output_type": "execute_result"
    }
   ],
   "source": [
    "df_telecom[['total_rech_amt_6','total_rech_amt_7','total_rech_amt_8']].describe()"
   ]
  },
  {
   "cell_type": "code",
   "execution_count": 54,
   "metadata": {},
   "outputs": [
    {
     "data": {
      "text/plain": [
       "total_rech_amt_6    int64\n",
       "total_rech_amt_7    int64\n",
       "total_rech_amt_8    int64\n",
       "dtype: object"
      ]
     },
     "execution_count": 54,
     "metadata": {},
     "output_type": "execute_result"
    }
   ],
   "source": [
    "df_telecom_unseen[['total_rech_amt_6','total_rech_amt_7','total_rech_amt_8']].dtypes"
   ]
  },
  {
   "cell_type": "code",
   "execution_count": 55,
   "metadata": {},
   "outputs": [
    {
     "data": {
      "text/html": [
       "<div>\n",
       "<style scoped>\n",
       "    .dataframe tbody tr th:only-of-type {\n",
       "        vertical-align: middle;\n",
       "    }\n",
       "\n",
       "    .dataframe tbody tr th {\n",
       "        vertical-align: top;\n",
       "    }\n",
       "\n",
       "    .dataframe thead th {\n",
       "        text-align: right;\n",
       "    }\n",
       "</style>\n",
       "<table border=\"1\" class=\"dataframe\">\n",
       "  <thead>\n",
       "    <tr style=\"text-align: right;\">\n",
       "      <th></th>\n",
       "      <th>total_rech_amt_6</th>\n",
       "      <th>total_rech_amt_7</th>\n",
       "      <th>total_rech_amt_8</th>\n",
       "    </tr>\n",
       "  </thead>\n",
       "  <tbody>\n",
       "    <tr>\n",
       "      <th>count</th>\n",
       "      <td>30000.000000</td>\n",
       "      <td>30000.000000</td>\n",
       "      <td>30000.000000</td>\n",
       "    </tr>\n",
       "    <tr>\n",
       "      <th>mean</th>\n",
       "      <td>326.055900</td>\n",
       "      <td>324.331700</td>\n",
       "      <td>324.882233</td>\n",
       "    </tr>\n",
       "    <tr>\n",
       "      <th>std</th>\n",
       "      <td>383.187192</td>\n",
       "      <td>401.136032</td>\n",
       "      <td>393.132804</td>\n",
       "    </tr>\n",
       "    <tr>\n",
       "      <th>min</th>\n",
       "      <td>0.000000</td>\n",
       "      <td>0.000000</td>\n",
       "      <td>0.000000</td>\n",
       "    </tr>\n",
       "    <tr>\n",
       "      <th>25%</th>\n",
       "      <td>104.000000</td>\n",
       "      <td>100.000000</td>\n",
       "      <td>90.000000</td>\n",
       "    </tr>\n",
       "    <tr>\n",
       "      <th>50%</th>\n",
       "      <td>230.000000</td>\n",
       "      <td>220.000000</td>\n",
       "      <td>225.000000</td>\n",
       "    </tr>\n",
       "    <tr>\n",
       "      <th>75%</th>\n",
       "      <td>436.250000</td>\n",
       "      <td>426.000000</td>\n",
       "      <td>432.000000</td>\n",
       "    </tr>\n",
       "    <tr>\n",
       "      <th>max</th>\n",
       "      <td>18500.000000</td>\n",
       "      <td>19000.000000</td>\n",
       "      <td>14000.000000</td>\n",
       "    </tr>\n",
       "  </tbody>\n",
       "</table>\n",
       "</div>"
      ],
      "text/plain": [
       "       total_rech_amt_6  total_rech_amt_7  total_rech_amt_8\n",
       "count      30000.000000      30000.000000      30000.000000\n",
       "mean         326.055900        324.331700        324.882233\n",
       "std          383.187192        401.136032        393.132804\n",
       "min            0.000000          0.000000          0.000000\n",
       "25%          104.000000        100.000000         90.000000\n",
       "50%          230.000000        220.000000        225.000000\n",
       "75%          436.250000        426.000000        432.000000\n",
       "max        18500.000000      19000.000000      14000.000000"
      ]
     },
     "execution_count": 55,
     "metadata": {},
     "output_type": "execute_result"
    }
   ],
   "source": [
    "df_telecom_unseen[['total_rech_amt_6','total_rech_amt_7','total_rech_amt_8']].describe()"
   ]
  },
  {
   "cell_type": "code",
   "execution_count": 56,
   "metadata": {},
   "outputs": [],
   "source": [
    "df_telecom['total_rech_amt']=df_telecom['total_rech_amt_6']+df_telecom['total_rech_amt_7']+df_telecom['total_rech_amt_8']\n",
    "df_telecom_unseen['total_rech_amt']=df_telecom_unseen['total_rech_amt_6']+df_telecom_unseen['total_rech_amt_7']+df_telecom_unseen['total_rech_amt_8']"
   ]
  },
  {
   "cell_type": "code",
   "execution_count": 57,
   "metadata": {},
   "outputs": [
    {
     "data": {
      "text/plain": [
       "count     69999.000000\n",
       "mean        974.362505\n",
       "std        1106.099526\n",
       "min           0.000000\n",
       "25%         360.000000\n",
       "50%         692.000000\n",
       "75%        1244.000000\n",
       "max      120845.000000\n",
       "Name: total_rech_amt, dtype: float64"
      ]
     },
     "execution_count": 57,
     "metadata": {},
     "output_type": "execute_result"
    }
   ],
   "source": [
    "df_telecom['total_rech_amt'].describe()"
   ]
  },
  {
   "cell_type": "code",
   "execution_count": 58,
   "metadata": {},
   "outputs": [
    {
     "data": {
      "text/plain": [
       "count    30000.000000\n",
       "mean       975.269833\n",
       "std       1030.233604\n",
       "min          0.000000\n",
       "25%        360.000000\n",
       "50%        686.000000\n",
       "75%       1242.000000\n",
       "max      51500.000000\n",
       "Name: total_rech_amt, dtype: float64"
      ]
     },
     "execution_count": 58,
     "metadata": {},
     "output_type": "execute_result"
    }
   ],
   "source": [
    "df_telecom_unseen['total_rech_amt'].describe()"
   ]
  },
  {
   "cell_type": "markdown",
   "metadata": {},
   "source": [
    "##### Dropping the 2nd set of features that are not longer required for further analysis:"
   ]
  },
  {
   "cell_type": "code",
   "execution_count": 59,
   "metadata": {},
   "outputs": [],
   "source": [
    "df_telecom.drop(columns=['arpu_6','arpu_7','arpu_8','onnet_mou_6','onnet_mou_7','onnet_mou_8','offnet_mou_6','offnet_mou_7','offnet_mou_8','total_og_mou_6','total_og_mou_7','total_og_mou_8','total_ic_mou_6','total_ic_mou_7','total_ic_mou_8','total_rech_num_6','total_rech_num_7','total_rech_num_8','total_rech_amt_6','total_rech_amt_7','total_rech_amt_8'],inplace=True)\n",
    "df_telecom_unseen.drop(columns=['arpu_6','arpu_7','arpu_8','onnet_mou_6','onnet_mou_7','onnet_mou_8','offnet_mou_6','offnet_mou_7','offnet_mou_8','total_og_mou_6','total_og_mou_7','total_og_mou_8','total_ic_mou_6','total_ic_mou_7','total_ic_mou_8','total_rech_num_6','total_rech_num_7','total_rech_num_8','total_rech_amt_6','total_rech_amt_7','total_rech_amt_8'],inplace=True)"
   ]
  },
  {
   "cell_type": "code",
   "execution_count": 60,
   "metadata": {},
   "outputs": [
    {
     "data": {
      "text/plain": [
       "(69999, 12)"
      ]
     },
     "execution_count": 60,
     "metadata": {},
     "output_type": "execute_result"
    }
   ],
   "source": [
    "df_telecom.shape"
   ]
  },
  {
   "cell_type": "code",
   "execution_count": 61,
   "metadata": {},
   "outputs": [
    {
     "data": {
      "text/plain": [
       "(30000, 11)"
      ]
     },
     "execution_count": 61,
     "metadata": {},
     "output_type": "execute_result"
    }
   ],
   "source": [
    "df_telecom_unseen.shape"
   ]
  },
  {
   "cell_type": "code",
   "execution_count": 62,
   "metadata": {},
   "outputs": [
    {
     "data": {
      "text/plain": [
       "Index(['fb_user_6', 'fb_user_7', 'fb_user_8', 'aon', 'churn_probability',\n",
       "       'arpu', 'onnet_mou', 'offnet_mou', 'total_og_mou', 'total_ic_mou',\n",
       "       'total_rech_num', 'total_rech_amt'],\n",
       "      dtype='object')"
      ]
     },
     "execution_count": 62,
     "metadata": {},
     "output_type": "execute_result"
    }
   ],
   "source": [
    "df_telecom.columns"
   ]
  },
  {
   "cell_type": "markdown",
   "metadata": {},
   "source": [
    "##### <li>Converting the data type of the categorical features fb_user_6,fb_user_7 and fb_user_8 to object type with imputation of null values:</li>"
   ]
  },
  {
   "cell_type": "code",
   "execution_count": 63,
   "metadata": {},
   "outputs": [],
   "source": [
    "df_telecom[['fb_user_6','fb_user_7','fb_user_8']]=df_telecom[['fb_user_6','fb_user_7','fb_user_8']].astype('object')\n",
    "df_telecom_unseen[['fb_user_6','fb_user_7','fb_user_8']]=df_telecom_unseen[['fb_user_6','fb_user_7','fb_user_8']].astype('object')"
   ]
  },
  {
   "cell_type": "code",
   "execution_count": 64,
   "metadata": {},
   "outputs": [],
   "source": [
    "mode = df_telecom.fb_user_6.value_counts().index[0]\n",
    "df_telecom['fb_user_6'] = df_telecom['fb_user_6'].fillna(mode)\n",
    "mode = df_telecom.fb_user_7.value_counts().index[0]\n",
    "df_telecom['fb_user_7'] = df_telecom['fb_user_7'].fillna(mode)\n",
    "mode = df_telecom.fb_user_8.value_counts().index[0]\n",
    "df_telecom['fb_user_8'] = df_telecom['fb_user_8'].fillna(mode)\n"
   ]
  },
  {
   "cell_type": "code",
   "execution_count": 65,
   "metadata": {},
   "outputs": [],
   "source": [
    "mode = df_telecom_unseen.fb_user_6.value_counts().index[0]\n",
    "df_telecom_unseen['fb_user_6'] = df_telecom_unseen['fb_user_6'].fillna(mode)\n",
    "mode = df_telecom_unseen.fb_user_7.value_counts().index[0]\n",
    "df_telecom_unseen['fb_user_7'] = df_telecom_unseen['fb_user_7'].fillna(mode)\n",
    "mode = df_telecom_unseen.fb_user_8.value_counts().index[0]\n",
    "df_telecom_unseen['fb_user_8'] = df_telecom_unseen['fb_user_8'].fillna(mode)"
   ]
  },
  {
   "cell_type": "code",
   "execution_count": 66,
   "metadata": {},
   "outputs": [],
   "source": [
    "df_telecom[['fb_user_6','fb_user_7','fb_user_8']]=df_telecom[['fb_user_6','fb_user_7','fb_user_8']].astype('object')\n",
    "df_telecom_unseen[['fb_user_6','fb_user_7','fb_user_8']]=df_telecom_unseen[['fb_user_6','fb_user_7','fb_user_8']].astype('object')"
   ]
  },
  {
   "cell_type": "code",
   "execution_count": 67,
   "metadata": {},
   "outputs": [
    {
     "name": "stdout",
     "output_type": "stream",
     "text": [
      "1.0    68529\n",
      "0.0     1470\n",
      "Name: fb_user_6, dtype: int64\n"
     ]
    }
   ],
   "source": [
    "print(df_telecom.fb_user_6.value_counts())\n"
   ]
  },
  {
   "cell_type": "code",
   "execution_count": 68,
   "metadata": {},
   "outputs": [
    {
     "name": "stdout",
     "output_type": "stream",
     "text": [
      "1.0    68383\n",
      "0.0     1616\n",
      "Name: fb_user_7, dtype: int64\n"
     ]
    }
   ],
   "source": [
    "print(df_telecom.fb_user_7.value_counts())\n"
   ]
  },
  {
   "cell_type": "code",
   "execution_count": 69,
   "metadata": {},
   "outputs": [
    {
     "name": "stdout",
     "output_type": "stream",
     "text": [
      "1.0    67979\n",
      "0.0     2020\n",
      "Name: fb_user_8, dtype: int64\n"
     ]
    }
   ],
   "source": [
    "print(df_telecom.fb_user_8.value_counts())\n"
   ]
  },
  {
   "cell_type": "code",
   "execution_count": 70,
   "metadata": {},
   "outputs": [
    {
     "name": "stdout",
     "output_type": "stream",
     "text": [
      "1.0    29317\n",
      "0.0      683\n",
      "Name: fb_user_6, dtype: int64\n"
     ]
    }
   ],
   "source": [
    "print(df_telecom_unseen.fb_user_6.value_counts())\n"
   ]
  },
  {
   "cell_type": "code",
   "execution_count": 71,
   "metadata": {},
   "outputs": [
    {
     "name": "stdout",
     "output_type": "stream",
     "text": [
      "1.0    29283\n",
      "0.0      717\n",
      "Name: fb_user_7, dtype: int64\n"
     ]
    }
   ],
   "source": [
    "print(df_telecom_unseen.fb_user_7.value_counts())\n"
   ]
  },
  {
   "cell_type": "code",
   "execution_count": 72,
   "metadata": {},
   "outputs": [
    {
     "name": "stdout",
     "output_type": "stream",
     "text": [
      "1.0    29144\n",
      "0.0      856\n",
      "Name: fb_user_8, dtype: int64\n"
     ]
    }
   ],
   "source": [
    "print(df_telecom_unseen.fb_user_8.value_counts())"
   ]
  },
  {
   "cell_type": "code",
   "execution_count": 73,
   "metadata": {},
   "outputs": [
    {
     "data": {
      "text/html": [
       "<div>\n",
       "<style scoped>\n",
       "    .dataframe tbody tr th:only-of-type {\n",
       "        vertical-align: middle;\n",
       "    }\n",
       "\n",
       "    .dataframe tbody tr th {\n",
       "        vertical-align: top;\n",
       "    }\n",
       "\n",
       "    .dataframe thead th {\n",
       "        text-align: right;\n",
       "    }\n",
       "</style>\n",
       "<table border=\"1\" class=\"dataframe\">\n",
       "  <thead>\n",
       "    <tr style=\"text-align: right;\">\n",
       "      <th></th>\n",
       "      <th>fb_user_6</th>\n",
       "      <th>fb_user_7</th>\n",
       "      <th>fb_user_8</th>\n",
       "    </tr>\n",
       "  </thead>\n",
       "  <tbody>\n",
       "    <tr>\n",
       "      <th>0</th>\n",
       "      <td>1.0</td>\n",
       "      <td>1.0</td>\n",
       "      <td>1.0</td>\n",
       "    </tr>\n",
       "    <tr>\n",
       "      <th>1</th>\n",
       "      <td>1.0</td>\n",
       "      <td>1.0</td>\n",
       "      <td>1.0</td>\n",
       "    </tr>\n",
       "    <tr>\n",
       "      <th>2</th>\n",
       "      <td>1.0</td>\n",
       "      <td>1.0</td>\n",
       "      <td>1.0</td>\n",
       "    </tr>\n",
       "    <tr>\n",
       "      <th>3</th>\n",
       "      <td>1.0</td>\n",
       "      <td>1.0</td>\n",
       "      <td>1.0</td>\n",
       "    </tr>\n",
       "    <tr>\n",
       "      <th>4</th>\n",
       "      <td>1.0</td>\n",
       "      <td>1.0</td>\n",
       "      <td>1.0</td>\n",
       "    </tr>\n",
       "  </tbody>\n",
       "</table>\n",
       "</div>"
      ],
      "text/plain": [
       "  fb_user_6 fb_user_7 fb_user_8\n",
       "0       1.0       1.0       1.0\n",
       "1       1.0       1.0       1.0\n",
       "2       1.0       1.0       1.0\n",
       "3       1.0       1.0       1.0\n",
       "4       1.0       1.0       1.0"
      ]
     },
     "execution_count": 73,
     "metadata": {},
     "output_type": "execute_result"
    }
   ],
   "source": [
    "df_telecom_categorical = df_telecom.select_dtypes(include=['object'])\n",
    "df_telecom_categorical.head()\n"
   ]
  },
  {
   "cell_type": "code",
   "execution_count": 74,
   "metadata": {},
   "outputs": [
    {
     "data": {
      "text/html": [
       "<div>\n",
       "<style scoped>\n",
       "    .dataframe tbody tr th:only-of-type {\n",
       "        vertical-align: middle;\n",
       "    }\n",
       "\n",
       "    .dataframe tbody tr th {\n",
       "        vertical-align: top;\n",
       "    }\n",
       "\n",
       "    .dataframe thead th {\n",
       "        text-align: right;\n",
       "    }\n",
       "</style>\n",
       "<table border=\"1\" class=\"dataframe\">\n",
       "  <thead>\n",
       "    <tr style=\"text-align: right;\">\n",
       "      <th></th>\n",
       "      <th>fb_user_6</th>\n",
       "      <th>fb_user_7</th>\n",
       "      <th>fb_user_8</th>\n",
       "    </tr>\n",
       "  </thead>\n",
       "  <tbody>\n",
       "    <tr>\n",
       "      <th>0</th>\n",
       "      <td>1.0</td>\n",
       "      <td>1.0</td>\n",
       "      <td>1.0</td>\n",
       "    </tr>\n",
       "    <tr>\n",
       "      <th>1</th>\n",
       "      <td>1.0</td>\n",
       "      <td>1.0</td>\n",
       "      <td>1.0</td>\n",
       "    </tr>\n",
       "    <tr>\n",
       "      <th>2</th>\n",
       "      <td>1.0</td>\n",
       "      <td>1.0</td>\n",
       "      <td>1.0</td>\n",
       "    </tr>\n",
       "    <tr>\n",
       "      <th>3</th>\n",
       "      <td>1.0</td>\n",
       "      <td>1.0</td>\n",
       "      <td>1.0</td>\n",
       "    </tr>\n",
       "    <tr>\n",
       "      <th>4</th>\n",
       "      <td>1.0</td>\n",
       "      <td>1.0</td>\n",
       "      <td>1.0</td>\n",
       "    </tr>\n",
       "  </tbody>\n",
       "</table>\n",
       "</div>"
      ],
      "text/plain": [
       "  fb_user_6 fb_user_7 fb_user_8\n",
       "0       1.0       1.0       1.0\n",
       "1       1.0       1.0       1.0\n",
       "2       1.0       1.0       1.0\n",
       "3       1.0       1.0       1.0\n",
       "4       1.0       1.0       1.0"
      ]
     },
     "execution_count": 74,
     "metadata": {},
     "output_type": "execute_result"
    }
   ],
   "source": [
    "df_telecom_unseen_categorical = df_telecom_unseen.select_dtypes(include=['object'])\n",
    "df_telecom_unseen_categorical.head()"
   ]
  },
  {
   "cell_type": "markdown",
   "metadata": {},
   "source": [
    "##### <li>Creating dummy variables for the categorical features and then dropping these categorical features:</li>"
   ]
  },
  {
   "cell_type": "code",
   "execution_count": 75,
   "metadata": {},
   "outputs": [
    {
     "data": {
      "text/html": [
       "<div>\n",
       "<style scoped>\n",
       "    .dataframe tbody tr th:only-of-type {\n",
       "        vertical-align: middle;\n",
       "    }\n",
       "\n",
       "    .dataframe tbody tr th {\n",
       "        vertical-align: top;\n",
       "    }\n",
       "\n",
       "    .dataframe thead th {\n",
       "        text-align: right;\n",
       "    }\n",
       "</style>\n",
       "<table border=\"1\" class=\"dataframe\">\n",
       "  <thead>\n",
       "    <tr style=\"text-align: right;\">\n",
       "      <th></th>\n",
       "      <th>fb_user_6_1.0</th>\n",
       "      <th>fb_user_7_1.0</th>\n",
       "      <th>fb_user_8_1.0</th>\n",
       "    </tr>\n",
       "  </thead>\n",
       "  <tbody>\n",
       "    <tr>\n",
       "      <th>0</th>\n",
       "      <td>1</td>\n",
       "      <td>1</td>\n",
       "      <td>1</td>\n",
       "    </tr>\n",
       "    <tr>\n",
       "      <th>1</th>\n",
       "      <td>1</td>\n",
       "      <td>1</td>\n",
       "      <td>1</td>\n",
       "    </tr>\n",
       "    <tr>\n",
       "      <th>2</th>\n",
       "      <td>1</td>\n",
       "      <td>1</td>\n",
       "      <td>1</td>\n",
       "    </tr>\n",
       "    <tr>\n",
       "      <th>3</th>\n",
       "      <td>1</td>\n",
       "      <td>1</td>\n",
       "      <td>1</td>\n",
       "    </tr>\n",
       "    <tr>\n",
       "      <th>4</th>\n",
       "      <td>1</td>\n",
       "      <td>1</td>\n",
       "      <td>1</td>\n",
       "    </tr>\n",
       "  </tbody>\n",
       "</table>\n",
       "</div>"
      ],
      "text/plain": [
       "   fb_user_6_1.0  fb_user_7_1.0  fb_user_8_1.0\n",
       "0              1              1              1\n",
       "1              1              1              1\n",
       "2              1              1              1\n",
       "3              1              1              1\n",
       "4              1              1              1"
      ]
     },
     "execution_count": 75,
     "metadata": {},
     "output_type": "execute_result"
    }
   ],
   "source": [
    "df_telecom_dummies= pd.get_dummies(df_telecom_categorical,drop_first=True)\n",
    "df_telecom_dummies.head()"
   ]
  },
  {
   "cell_type": "code",
   "execution_count": 76,
   "metadata": {},
   "outputs": [
    {
     "data": {
      "text/html": [
       "<div>\n",
       "<style scoped>\n",
       "    .dataframe tbody tr th:only-of-type {\n",
       "        vertical-align: middle;\n",
       "    }\n",
       "\n",
       "    .dataframe tbody tr th {\n",
       "        vertical-align: top;\n",
       "    }\n",
       "\n",
       "    .dataframe thead th {\n",
       "        text-align: right;\n",
       "    }\n",
       "</style>\n",
       "<table border=\"1\" class=\"dataframe\">\n",
       "  <thead>\n",
       "    <tr style=\"text-align: right;\">\n",
       "      <th></th>\n",
       "      <th>aon</th>\n",
       "      <th>churn_probability</th>\n",
       "      <th>arpu</th>\n",
       "      <th>onnet_mou</th>\n",
       "      <th>offnet_mou</th>\n",
       "      <th>total_og_mou</th>\n",
       "      <th>total_ic_mou</th>\n",
       "      <th>total_rech_num</th>\n",
       "      <th>total_rech_amt</th>\n",
       "      <th>fb_user_6_1.0</th>\n",
       "      <th>fb_user_7_1.0</th>\n",
       "      <th>fb_user_8_1.0</th>\n",
       "    </tr>\n",
       "  </thead>\n",
       "  <tbody>\n",
       "    <tr>\n",
       "      <th>0</th>\n",
       "      <td>1958</td>\n",
       "      <td>0</td>\n",
       "      <td>41.937667</td>\n",
       "      <td>174.25</td>\n",
       "      <td>131.25</td>\n",
       "      <td>306.52</td>\n",
       "      <td>105.44</td>\n",
       "      <td>7</td>\n",
       "      <td>152</td>\n",
       "      <td>1</td>\n",
       "      <td>1</td>\n",
       "      <td>1</td>\n",
       "    </tr>\n",
       "    <tr>\n",
       "      <th>1</th>\n",
       "      <td>710</td>\n",
       "      <td>0</td>\n",
       "      <td>55.246667</td>\n",
       "      <td>0.00</td>\n",
       "      <td>56.88</td>\n",
       "      <td>62.39</td>\n",
       "      <td>67.92</td>\n",
       "      <td>12</td>\n",
       "      <td>195</td>\n",
       "      <td>1</td>\n",
       "      <td>1</td>\n",
       "      <td>1</td>\n",
       "    </tr>\n",
       "    <tr>\n",
       "      <th>2</th>\n",
       "      <td>882</td>\n",
       "      <td>0</td>\n",
       "      <td>54.660667</td>\n",
       "      <td>16.46</td>\n",
       "      <td>136.04</td>\n",
       "      <td>155.85</td>\n",
       "      <td>194.76</td>\n",
       "      <td>8</td>\n",
       "      <td>190</td>\n",
       "      <td>1</td>\n",
       "      <td>1</td>\n",
       "      <td>1</td>\n",
       "    </tr>\n",
       "    <tr>\n",
       "      <th>3</th>\n",
       "      <td>982</td>\n",
       "      <td>0</td>\n",
       "      <td>157.572333</td>\n",
       "      <td>23.27</td>\n",
       "      <td>197.47</td>\n",
       "      <td>225.85</td>\n",
       "      <td>229.13</td>\n",
       "      <td>9</td>\n",
       "      <td>530</td>\n",
       "      <td>1</td>\n",
       "      <td>1</td>\n",
       "      <td>1</td>\n",
       "    </tr>\n",
       "    <tr>\n",
       "      <th>4</th>\n",
       "      <td>647</td>\n",
       "      <td>0</td>\n",
       "      <td>156.821333</td>\n",
       "      <td>32.24</td>\n",
       "      <td>104.73</td>\n",
       "      <td>121.96</td>\n",
       "      <td>59.21</td>\n",
       "      <td>31</td>\n",
       "      <td>548</td>\n",
       "      <td>1</td>\n",
       "      <td>1</td>\n",
       "      <td>1</td>\n",
       "    </tr>\n",
       "  </tbody>\n",
       "</table>\n",
       "</div>"
      ],
      "text/plain": [
       "    aon  churn_probability        arpu  onnet_mou  offnet_mou  total_og_mou  \\\n",
       "0  1958                  0   41.937667     174.25      131.25        306.52   \n",
       "1   710                  0   55.246667       0.00       56.88         62.39   \n",
       "2   882                  0   54.660667      16.46      136.04        155.85   \n",
       "3   982                  0  157.572333      23.27      197.47        225.85   \n",
       "4   647                  0  156.821333      32.24      104.73        121.96   \n",
       "\n",
       "   total_ic_mou  total_rech_num  total_rech_amt  fb_user_6_1.0  fb_user_7_1.0  \\\n",
       "0        105.44               7             152              1              1   \n",
       "1         67.92              12             195              1              1   \n",
       "2        194.76               8             190              1              1   \n",
       "3        229.13               9             530              1              1   \n",
       "4         59.21              31             548              1              1   \n",
       "\n",
       "   fb_user_8_1.0  \n",
       "0              1  \n",
       "1              1  \n",
       "2              1  \n",
       "3              1  \n",
       "4              1  "
      ]
     },
     "execution_count": 76,
     "metadata": {},
     "output_type": "execute_result"
    }
   ],
   "source": [
    "df_telecom.drop(df_telecom_categorical.columns,axis=1, inplace=True)\n",
    "df_telecom = pd.concat([df_telecom,df_telecom_dummies], axis = 1)\n",
    "df_telecom.head()\n"
   ]
  },
  {
   "cell_type": "code",
   "execution_count": 77,
   "metadata": {},
   "outputs": [
    {
     "data": {
      "text/html": [
       "<div>\n",
       "<style scoped>\n",
       "    .dataframe tbody tr th:only-of-type {\n",
       "        vertical-align: middle;\n",
       "    }\n",
       "\n",
       "    .dataframe tbody tr th {\n",
       "        vertical-align: top;\n",
       "    }\n",
       "\n",
       "    .dataframe thead th {\n",
       "        text-align: right;\n",
       "    }\n",
       "</style>\n",
       "<table border=\"1\" class=\"dataframe\">\n",
       "  <thead>\n",
       "    <tr style=\"text-align: right;\">\n",
       "      <th></th>\n",
       "      <th>fb_user_6_1.0</th>\n",
       "      <th>fb_user_7_1.0</th>\n",
       "      <th>fb_user_8_1.0</th>\n",
       "    </tr>\n",
       "  </thead>\n",
       "  <tbody>\n",
       "    <tr>\n",
       "      <th>0</th>\n",
       "      <td>1</td>\n",
       "      <td>1</td>\n",
       "      <td>1</td>\n",
       "    </tr>\n",
       "    <tr>\n",
       "      <th>1</th>\n",
       "      <td>1</td>\n",
       "      <td>1</td>\n",
       "      <td>1</td>\n",
       "    </tr>\n",
       "    <tr>\n",
       "      <th>2</th>\n",
       "      <td>1</td>\n",
       "      <td>1</td>\n",
       "      <td>1</td>\n",
       "    </tr>\n",
       "    <tr>\n",
       "      <th>3</th>\n",
       "      <td>1</td>\n",
       "      <td>1</td>\n",
       "      <td>1</td>\n",
       "    </tr>\n",
       "    <tr>\n",
       "      <th>4</th>\n",
       "      <td>1</td>\n",
       "      <td>1</td>\n",
       "      <td>1</td>\n",
       "    </tr>\n",
       "  </tbody>\n",
       "</table>\n",
       "</div>"
      ],
      "text/plain": [
       "   fb_user_6_1.0  fb_user_7_1.0  fb_user_8_1.0\n",
       "0              1              1              1\n",
       "1              1              1              1\n",
       "2              1              1              1\n",
       "3              1              1              1\n",
       "4              1              1              1"
      ]
     },
     "execution_count": 77,
     "metadata": {},
     "output_type": "execute_result"
    }
   ],
   "source": [
    "df_telecom_unseen_dummies= pd.get_dummies(df_telecom_unseen_categorical,drop_first=True)\n",
    "df_telecom_unseen_dummies.head()"
   ]
  },
  {
   "cell_type": "code",
   "execution_count": 78,
   "metadata": {},
   "outputs": [
    {
     "data": {
      "text/html": [
       "<div>\n",
       "<style scoped>\n",
       "    .dataframe tbody tr th:only-of-type {\n",
       "        vertical-align: middle;\n",
       "    }\n",
       "\n",
       "    .dataframe tbody tr th {\n",
       "        vertical-align: top;\n",
       "    }\n",
       "\n",
       "    .dataframe thead th {\n",
       "        text-align: right;\n",
       "    }\n",
       "</style>\n",
       "<table border=\"1\" class=\"dataframe\">\n",
       "  <thead>\n",
       "    <tr style=\"text-align: right;\">\n",
       "      <th></th>\n",
       "      <th>aon</th>\n",
       "      <th>arpu</th>\n",
       "      <th>onnet_mou</th>\n",
       "      <th>offnet_mou</th>\n",
       "      <th>total_og_mou</th>\n",
       "      <th>total_ic_mou</th>\n",
       "      <th>total_rech_num</th>\n",
       "      <th>total_rech_amt</th>\n",
       "      <th>fb_user_6_1.0</th>\n",
       "      <th>fb_user_7_1.0</th>\n",
       "      <th>fb_user_8_1.0</th>\n",
       "    </tr>\n",
       "  </thead>\n",
       "  <tbody>\n",
       "    <tr>\n",
       "      <th>0</th>\n",
       "      <td>1692</td>\n",
       "      <td>73.885667</td>\n",
       "      <td>53.30</td>\n",
       "      <td>127.15</td>\n",
       "      <td>202.27</td>\n",
       "      <td>121.55</td>\n",
       "      <td>14</td>\n",
       "      <td>253</td>\n",
       "      <td>1</td>\n",
       "      <td>1</td>\n",
       "      <td>1</td>\n",
       "    </tr>\n",
       "    <tr>\n",
       "      <th>1</th>\n",
       "      <td>2533</td>\n",
       "      <td>430.201333</td>\n",
       "      <td>116.72</td>\n",
       "      <td>1491.12</td>\n",
       "      <td>1628.51</td>\n",
       "      <td>917.63</td>\n",
       "      <td>14</td>\n",
       "      <td>1500</td>\n",
       "      <td>1</td>\n",
       "      <td>1</td>\n",
       "      <td>1</td>\n",
       "    </tr>\n",
       "    <tr>\n",
       "      <th>2</th>\n",
       "      <td>277</td>\n",
       "      <td>503.655667</td>\n",
       "      <td>15.40</td>\n",
       "      <td>107.83</td>\n",
       "      <td>0.00</td>\n",
       "      <td>0.00</td>\n",
       "      <td>20</td>\n",
       "      <td>2500</td>\n",
       "      <td>1</td>\n",
       "      <td>1</td>\n",
       "      <td>1</td>\n",
       "    </tr>\n",
       "    <tr>\n",
       "      <th>3</th>\n",
       "      <td>1244</td>\n",
       "      <td>79.780000</td>\n",
       "      <td>7.47</td>\n",
       "      <td>269.06</td>\n",
       "      <td>276.55</td>\n",
       "      <td>1627.26</td>\n",
       "      <td>10</td>\n",
       "      <td>370</td>\n",
       "      <td>1</td>\n",
       "      <td>1</td>\n",
       "      <td>1</td>\n",
       "    </tr>\n",
       "    <tr>\n",
       "      <th>4</th>\n",
       "      <td>462</td>\n",
       "      <td>375.490667</td>\n",
       "      <td>1066.09</td>\n",
       "      <td>158.94</td>\n",
       "      <td>1932.85</td>\n",
       "      <td>328.92</td>\n",
       "      <td>26</td>\n",
       "      <td>1392</td>\n",
       "      <td>1</td>\n",
       "      <td>1</td>\n",
       "      <td>1</td>\n",
       "    </tr>\n",
       "  </tbody>\n",
       "</table>\n",
       "</div>"
      ],
      "text/plain": [
       "    aon        arpu  onnet_mou  offnet_mou  total_og_mou  total_ic_mou  \\\n",
       "0  1692   73.885667      53.30      127.15        202.27        121.55   \n",
       "1  2533  430.201333     116.72     1491.12       1628.51        917.63   \n",
       "2   277  503.655667      15.40      107.83          0.00          0.00   \n",
       "3  1244   79.780000       7.47      269.06        276.55       1627.26   \n",
       "4   462  375.490667    1066.09      158.94       1932.85        328.92   \n",
       "\n",
       "   total_rech_num  total_rech_amt  fb_user_6_1.0  fb_user_7_1.0  fb_user_8_1.0  \n",
       "0              14             253              1              1              1  \n",
       "1              14            1500              1              1              1  \n",
       "2              20            2500              1              1              1  \n",
       "3              10             370              1              1              1  \n",
       "4              26            1392              1              1              1  "
      ]
     },
     "execution_count": 78,
     "metadata": {},
     "output_type": "execute_result"
    }
   ],
   "source": [
    "df_telecom_unseen.drop(df_telecom_unseen_categorical.columns,axis=1, inplace=True)\n",
    "df_telecom_unseen = pd.concat([df_telecom_unseen,df_telecom_unseen_dummies], axis = 1)\n",
    "df_telecom_unseen.head()\n"
   ]
  },
  {
   "cell_type": "markdown",
   "metadata": {},
   "source": [
    "##### <li>Briefly checking the distribution of values for the numeric data type features:</li>"
   ]
  },
  {
   "cell_type": "code",
   "execution_count": 79,
   "metadata": {},
   "outputs": [
    {
     "data": {
      "text/html": [
       "<div>\n",
       "<style scoped>\n",
       "    .dataframe tbody tr th:only-of-type {\n",
       "        vertical-align: middle;\n",
       "    }\n",
       "\n",
       "    .dataframe tbody tr th {\n",
       "        vertical-align: top;\n",
       "    }\n",
       "\n",
       "    .dataframe thead th {\n",
       "        text-align: right;\n",
       "    }\n",
       "</style>\n",
       "<table border=\"1\" class=\"dataframe\">\n",
       "  <thead>\n",
       "    <tr style=\"text-align: right;\">\n",
       "      <th></th>\n",
       "      <th>aon</th>\n",
       "      <th>arpu</th>\n",
       "      <th>onnet_mou</th>\n",
       "      <th>offnet_mou</th>\n",
       "      <th>total_og_mou</th>\n",
       "      <th>total_ic_mou</th>\n",
       "      <th>total_rech_num</th>\n",
       "      <th>total_rech_amt</th>\n",
       "    </tr>\n",
       "  </thead>\n",
       "  <tbody>\n",
       "    <tr>\n",
       "      <th>count</th>\n",
       "      <td>69999.000000</td>\n",
       "      <td>69999.000000</td>\n",
       "      <td>69999.000000</td>\n",
       "      <td>69999.000000</td>\n",
       "      <td>69999.000000</td>\n",
       "      <td>69999.000000</td>\n",
       "      <td>69999.000000</td>\n",
       "      <td>69999.000000</td>\n",
       "    </tr>\n",
       "    <tr>\n",
       "      <th>mean</th>\n",
       "      <td>1220.639709</td>\n",
       "      <td>280.285172</td>\n",
       "      <td>382.586277</td>\n",
       "      <td>566.742256</td>\n",
       "      <td>921.537175</td>\n",
       "      <td>600.074703</td>\n",
       "      <td>22.498121</td>\n",
       "      <td>974.362505</td>\n",
       "    </tr>\n",
       "    <tr>\n",
       "      <th>std</th>\n",
       "      <td>952.426321</td>\n",
       "      <td>310.579792</td>\n",
       "      <td>812.946242</td>\n",
       "      <td>845.356533</td>\n",
       "      <td>1265.715096</td>\n",
       "      <td>802.823888</td>\n",
       "      <td>18.532104</td>\n",
       "      <td>1106.099526</td>\n",
       "    </tr>\n",
       "    <tr>\n",
       "      <th>min</th>\n",
       "      <td>180.000000</td>\n",
       "      <td>13.426667</td>\n",
       "      <td>0.000000</td>\n",
       "      <td>0.000000</td>\n",
       "      <td>0.000000</td>\n",
       "      <td>0.000000</td>\n",
       "      <td>0.000000</td>\n",
       "      <td>0.000000</td>\n",
       "    </tr>\n",
       "    <tr>\n",
       "      <th>25%</th>\n",
       "      <td>468.000000</td>\n",
       "      <td>105.701667</td>\n",
       "      <td>30.860000</td>\n",
       "      <td>121.500000</td>\n",
       "      <td>197.700000</td>\n",
       "      <td>152.260000</td>\n",
       "      <td>11.000000</td>\n",
       "      <td>360.000000</td>\n",
       "    </tr>\n",
       "    <tr>\n",
       "      <th>50%</th>\n",
       "      <td>868.000000</td>\n",
       "      <td>199.758000</td>\n",
       "      <td>111.450000</td>\n",
       "      <td>287.550000</td>\n",
       "      <td>485.410000</td>\n",
       "      <td>364.050000</td>\n",
       "      <td>17.000000</td>\n",
       "      <td>692.000000</td>\n",
       "    </tr>\n",
       "    <tr>\n",
       "      <th>75%</th>\n",
       "      <td>1813.000000</td>\n",
       "      <td>356.352333</td>\n",
       "      <td>358.090000</td>\n",
       "      <td>668.005000</td>\n",
       "      <td>1142.905000</td>\n",
       "      <td>746.695000</td>\n",
       "      <td>28.000000</td>\n",
       "      <td>1244.000000</td>\n",
       "    </tr>\n",
       "    <tr>\n",
       "      <th>90%</th>\n",
       "      <td>2792.000000</td>\n",
       "      <td>584.975400</td>\n",
       "      <td>997.962000</td>\n",
       "      <td>1355.582000</td>\n",
       "      <td>2271.026000</td>\n",
       "      <td>1364.430000</td>\n",
       "      <td>43.000000</td>\n",
       "      <td>2052.000000</td>\n",
       "    </tr>\n",
       "    <tr>\n",
       "      <th>95%</th>\n",
       "      <td>3108.000000</td>\n",
       "      <td>774.844267</td>\n",
       "      <td>1712.076000</td>\n",
       "      <td>2052.448000</td>\n",
       "      <td>3252.901000</td>\n",
       "      <td>1930.303000</td>\n",
       "      <td>56.000000</td>\n",
       "      <td>2724.100000</td>\n",
       "    </tr>\n",
       "    <tr>\n",
       "      <th>99%</th>\n",
       "      <td>3651.000000</td>\n",
       "      <td>1312.555913</td>\n",
       "      <td>3902.875200</td>\n",
       "      <td>4009.561200</td>\n",
       "      <td>6031.175800</td>\n",
       "      <td>3829.804600</td>\n",
       "      <td>96.000000</td>\n",
       "      <td>4635.000000</td>\n",
       "    </tr>\n",
       "    <tr>\n",
       "      <th>max</th>\n",
       "      <td>4337.000000</td>\n",
       "      <td>32140.182000</td>\n",
       "      <td>21313.800000</td>\n",
       "      <td>21217.000000</td>\n",
       "      <td>24335.910000</td>\n",
       "      <td>21486.180000</td>\n",
       "      <td>366.000000</td>\n",
       "      <td>120845.000000</td>\n",
       "    </tr>\n",
       "  </tbody>\n",
       "</table>\n",
       "</div>"
      ],
      "text/plain": [
       "                aon          arpu     onnet_mou    offnet_mou  total_og_mou  \\\n",
       "count  69999.000000  69999.000000  69999.000000  69999.000000  69999.000000   \n",
       "mean    1220.639709    280.285172    382.586277    566.742256    921.537175   \n",
       "std      952.426321    310.579792    812.946242    845.356533   1265.715096   \n",
       "min      180.000000     13.426667      0.000000      0.000000      0.000000   \n",
       "25%      468.000000    105.701667     30.860000    121.500000    197.700000   \n",
       "50%      868.000000    199.758000    111.450000    287.550000    485.410000   \n",
       "75%     1813.000000    356.352333    358.090000    668.005000   1142.905000   \n",
       "90%     2792.000000    584.975400    997.962000   1355.582000   2271.026000   \n",
       "95%     3108.000000    774.844267   1712.076000   2052.448000   3252.901000   \n",
       "99%     3651.000000   1312.555913   3902.875200   4009.561200   6031.175800   \n",
       "max     4337.000000  32140.182000  21313.800000  21217.000000  24335.910000   \n",
       "\n",
       "       total_ic_mou  total_rech_num  total_rech_amt  \n",
       "count  69999.000000    69999.000000    69999.000000  \n",
       "mean     600.074703       22.498121      974.362505  \n",
       "std      802.823888       18.532104     1106.099526  \n",
       "min        0.000000        0.000000        0.000000  \n",
       "25%      152.260000       11.000000      360.000000  \n",
       "50%      364.050000       17.000000      692.000000  \n",
       "75%      746.695000       28.000000     1244.000000  \n",
       "90%     1364.430000       43.000000     2052.000000  \n",
       "95%     1930.303000       56.000000     2724.100000  \n",
       "99%     3829.804600       96.000000     4635.000000  \n",
       "max    21486.180000      366.000000   120845.000000  "
      ]
     },
     "execution_count": 79,
     "metadata": {},
     "output_type": "execute_result"
    }
   ],
   "source": [
    "df_telecom[['aon','arpu','onnet_mou','offnet_mou','total_og_mou','total_ic_mou','total_rech_num','total_rech_amt']].describe(percentiles=[.25, .5, .75, .90, .95, .99])"
   ]
  },
  {
   "cell_type": "markdown",
   "metadata": {},
   "source": [
    "##### <li>Correlation matrix generation:</li>"
   ]
  },
  {
   "cell_type": "code",
   "execution_count": 80,
   "metadata": {},
   "outputs": [
    {
     "data": {
      "image/png": "[encoded data removed]",
      "text/plain": [
       "<Figure size 1440x720 with 2 Axes>"
      ]
     },
     "metadata": {
      "needs_background": "light"
     },
     "output_type": "display_data"
    }
   ],
   "source": [
    "plt.figure(figsize = (20,10))\n",
    "sns.heatmap(df_telecom.corr(),annot = True)\n",
    "plt.show()"
   ]
  },
  {
   "cell_type": "markdown",
   "metadata": {},
   "source": [
    "##### <b>Observations</b>\n",
    "##### <li>'total_og_mou' has a high positive correlation with 'onnet_mou' and 'offnet_mou'.</li>\n",
    "##### <li>'arpu' has a very high positive correlation with 'total_rech_amt'.</li>\n",
    "##### <li>Hence dropping the features 'total_og_mou' and 'arpu'</li>"
   ]
  },
  {
   "cell_type": "code",
   "execution_count": 81,
   "metadata": {},
   "outputs": [],
   "source": [
    "df_telecom.drop(columns=['total_og_mou','arpu'],inplace=True)\n",
    "df_telecom_unseen.drop(columns=['total_og_mou','arpu'],inplace=True)"
   ]
  },
  {
   "cell_type": "markdown",
   "metadata": {},
   "source": [
    "##### <li>Re-plotting the correlation matrix:</li>"
   ]
  },
  {
   "cell_type": "code",
   "execution_count": 82,
   "metadata": {},
   "outputs": [
    {
     "data": {
      "image/png": "[encoded data removed]",
      "text/plain": [
       "<Figure size 1440x720 with 2 Axes>"
      ]
     },
     "metadata": {
      "needs_background": "light"
     },
     "output_type": "display_data"
    }
   ],
   "source": [
    "plt.figure(figsize = (20,10))\n",
    "sns.heatmap(df_telecom.corr(),annot = True)\n",
    "plt.show()"
   ]
  },
  {
   "cell_type": "markdown",
   "metadata": {},
   "source": [
    "##### <li>Splitting the data into train and test data sets and scaling the numeric data type features:</li>"
   ]
  },
  {
   "cell_type": "code",
   "execution_count": 83,
   "metadata": {},
   "outputs": [
    {
     "data": {
      "text/plain": [
       "(69999, 10)"
      ]
     },
     "execution_count": 83,
     "metadata": {},
     "output_type": "execute_result"
    }
   ],
   "source": [
    "df_telecom.shape"
   ]
  },
  {
   "cell_type": "code",
   "execution_count": 84,
   "metadata": {},
   "outputs": [],
   "source": [
    "y=df_telecom.pop('churn_probability')\n",
    "x=df_telecom"
   ]
  },
  {
   "cell_type": "code",
   "execution_count": 85,
   "metadata": {},
   "outputs": [],
   "source": [
    "x_train, x_test, y_train, y_test = train_test_split(x,y, train_size=0.7,test_size=0.3,random_state=100)"
   ]
  },
  {
   "cell_type": "code",
   "execution_count": 86,
   "metadata": {},
   "outputs": [],
   "source": [
    "telecom_numeric_cols = x_train.select_dtypes(include=['int64','float64']).columns\n",
    "\n",
    "scaler=StandardScaler()\n",
    "x_train[telecom_numeric_cols]=scaler.fit_transform(x_train[telecom_numeric_cols])\n"
   ]
  },
  {
   "cell_type": "code",
   "execution_count": 87,
   "metadata": {},
   "outputs": [
    {
     "data": {
      "text/html": [
       "<div>\n",
       "<style scoped>\n",
       "    .dataframe tbody tr th:only-of-type {\n",
       "        vertical-align: middle;\n",
       "    }\n",
       "\n",
       "    .dataframe tbody tr th {\n",
       "        vertical-align: top;\n",
       "    }\n",
       "\n",
       "    .dataframe thead th {\n",
       "        text-align: right;\n",
       "    }\n",
       "</style>\n",
       "<table border=\"1\" class=\"dataframe\">\n",
       "  <thead>\n",
       "    <tr style=\"text-align: right;\">\n",
       "      <th></th>\n",
       "      <th>aon</th>\n",
       "      <th>onnet_mou</th>\n",
       "      <th>offnet_mou</th>\n",
       "      <th>total_ic_mou</th>\n",
       "      <th>total_rech_num</th>\n",
       "      <th>total_rech_amt</th>\n",
       "      <th>fb_user_6_1.0</th>\n",
       "      <th>fb_user_7_1.0</th>\n",
       "      <th>fb_user_8_1.0</th>\n",
       "    </tr>\n",
       "  </thead>\n",
       "  <tbody>\n",
       "    <tr>\n",
       "      <th>48645</th>\n",
       "      <td>-0.079445</td>\n",
       "      <td>-0.467012</td>\n",
       "      <td>-0.596671</td>\n",
       "      <td>-0.682119</td>\n",
       "      <td>0.351668</td>\n",
       "      <td>-0.585318</td>\n",
       "      <td>1</td>\n",
       "      <td>1</td>\n",
       "      <td>1</td>\n",
       "    </tr>\n",
       "    <tr>\n",
       "      <th>54979</th>\n",
       "      <td>-0.475246</td>\n",
       "      <td>-0.267816</td>\n",
       "      <td>-0.570368</td>\n",
       "      <td>0.978442</td>\n",
       "      <td>-0.675190</td>\n",
       "      <td>-0.559225</td>\n",
       "      <td>1</td>\n",
       "      <td>1</td>\n",
       "      <td>1</td>\n",
       "    </tr>\n",
       "    <tr>\n",
       "      <th>7134</th>\n",
       "      <td>2.273316</td>\n",
       "      <td>1.325063</td>\n",
       "      <td>1.192962</td>\n",
       "      <td>0.414823</td>\n",
       "      <td>0.567848</td>\n",
       "      <td>0.981997</td>\n",
       "      <td>1</td>\n",
       "      <td>1</td>\n",
       "      <td>1</td>\n",
       "    </tr>\n",
       "    <tr>\n",
       "      <th>6361</th>\n",
       "      <td>0.034991</td>\n",
       "      <td>-0.395733</td>\n",
       "      <td>-0.328339</td>\n",
       "      <td>-0.198632</td>\n",
       "      <td>-0.837325</td>\n",
       "      <td>-0.344393</td>\n",
       "      <td>1</td>\n",
       "      <td>1</td>\n",
       "      <td>1</td>\n",
       "    </tr>\n",
       "    <tr>\n",
       "      <th>6647</th>\n",
       "      <td>2.097988</td>\n",
       "      <td>-0.451338</td>\n",
       "      <td>-0.201895</td>\n",
       "      <td>0.268247</td>\n",
       "      <td>-0.837325</td>\n",
       "      <td>-0.604453</td>\n",
       "      <td>1</td>\n",
       "      <td>1</td>\n",
       "      <td>1</td>\n",
       "    </tr>\n",
       "  </tbody>\n",
       "</table>\n",
       "</div>"
      ],
      "text/plain": [
       "            aon  onnet_mou  offnet_mou  total_ic_mou  total_rech_num  \\\n",
       "48645 -0.079445  -0.467012   -0.596671     -0.682119        0.351668   \n",
       "54979 -0.475246  -0.267816   -0.570368      0.978442       -0.675190   \n",
       "7134   2.273316   1.325063    1.192962      0.414823        0.567848   \n",
       "6361   0.034991  -0.395733   -0.328339     -0.198632       -0.837325   \n",
       "6647   2.097988  -0.451338   -0.201895      0.268247       -0.837325   \n",
       "\n",
       "       total_rech_amt  fb_user_6_1.0  fb_user_7_1.0  fb_user_8_1.0  \n",
       "48645       -0.585318              1              1              1  \n",
       "54979       -0.559225              1              1              1  \n",
       "7134         0.981997              1              1              1  \n",
       "6361        -0.344393              1              1              1  \n",
       "6647        -0.604453              1              1              1  "
      ]
     },
     "execution_count": 87,
     "metadata": {},
     "output_type": "execute_result"
    }
   ],
   "source": [
    "x_train.head()"
   ]
  },
  {
   "cell_type": "code",
   "execution_count": 88,
   "metadata": {},
   "outputs": [
    {
     "data": {
      "text/html": [
       "<div>\n",
       "<style scoped>\n",
       "    .dataframe tbody tr th:only-of-type {\n",
       "        vertical-align: middle;\n",
       "    }\n",
       "\n",
       "    .dataframe tbody tr th {\n",
       "        vertical-align: top;\n",
       "    }\n",
       "\n",
       "    .dataframe thead th {\n",
       "        text-align: right;\n",
       "    }\n",
       "</style>\n",
       "<table border=\"1\" class=\"dataframe\">\n",
       "  <thead>\n",
       "    <tr style=\"text-align: right;\">\n",
       "      <th></th>\n",
       "      <th>aon</th>\n",
       "      <th>onnet_mou</th>\n",
       "      <th>offnet_mou</th>\n",
       "      <th>total_ic_mou</th>\n",
       "      <th>total_rech_num</th>\n",
       "      <th>total_rech_amt</th>\n",
       "      <th>fb_user_6_1.0</th>\n",
       "      <th>fb_user_7_1.0</th>\n",
       "      <th>fb_user_8_1.0</th>\n",
       "    </tr>\n",
       "  </thead>\n",
       "  <tbody>\n",
       "    <tr>\n",
       "      <th>3425</th>\n",
       "      <td>-0.393356</td>\n",
       "      <td>0.207319</td>\n",
       "      <td>0.307427</td>\n",
       "      <td>-0.634209</td>\n",
       "      <td>0.189532</td>\n",
       "      <td>-0.253068</td>\n",
       "      <td>1</td>\n",
       "      <td>1</td>\n",
       "      <td>1</td>\n",
       "    </tr>\n",
       "    <tr>\n",
       "      <th>33067</th>\n",
       "      <td>-0.399655</td>\n",
       "      <td>0.451684</td>\n",
       "      <td>1.313510</td>\n",
       "      <td>0.132212</td>\n",
       "      <td>0.243578</td>\n",
       "      <td>0.819351</td>\n",
       "      <td>1</td>\n",
       "      <td>1</td>\n",
       "      <td>0</td>\n",
       "    </tr>\n",
       "    <tr>\n",
       "      <th>52420</th>\n",
       "      <td>-0.462647</td>\n",
       "      <td>-0.306578</td>\n",
       "      <td>-0.584689</td>\n",
       "      <td>-0.722135</td>\n",
       "      <td>-0.675190</td>\n",
       "      <td>-0.524434</td>\n",
       "      <td>1</td>\n",
       "      <td>1</td>\n",
       "      <td>1</td>\n",
       "    </tr>\n",
       "    <tr>\n",
       "      <th>5220</th>\n",
       "      <td>2.121085</td>\n",
       "      <td>-0.470869</td>\n",
       "      <td>-0.664614</td>\n",
       "      <td>-0.688397</td>\n",
       "      <td>-0.729235</td>\n",
       "      <td>-0.697517</td>\n",
       "      <td>1</td>\n",
       "      <td>1</td>\n",
       "      <td>1</td>\n",
       "    </tr>\n",
       "    <tr>\n",
       "      <th>33958</th>\n",
       "      <td>0.804547</td>\n",
       "      <td>-0.401119</td>\n",
       "      <td>-0.283615</td>\n",
       "      <td>-0.617191</td>\n",
       "      <td>-0.513054</td>\n",
       "      <td>-0.703606</td>\n",
       "      <td>1</td>\n",
       "      <td>1</td>\n",
       "      <td>1</td>\n",
       "    </tr>\n",
       "  </tbody>\n",
       "</table>\n",
       "</div>"
      ],
      "text/plain": [
       "            aon  onnet_mou  offnet_mou  total_ic_mou  total_rech_num  \\\n",
       "3425  -0.393356   0.207319    0.307427     -0.634209        0.189532   \n",
       "33067 -0.399655   0.451684    1.313510      0.132212        0.243578   \n",
       "52420 -0.462647  -0.306578   -0.584689     -0.722135       -0.675190   \n",
       "5220   2.121085  -0.470869   -0.664614     -0.688397       -0.729235   \n",
       "33958  0.804547  -0.401119   -0.283615     -0.617191       -0.513054   \n",
       "\n",
       "       total_rech_amt  fb_user_6_1.0  fb_user_7_1.0  fb_user_8_1.0  \n",
       "3425        -0.253068              1              1              1  \n",
       "33067        0.819351              1              1              0  \n",
       "52420       -0.524434              1              1              1  \n",
       "5220        -0.697517              1              1              1  \n",
       "33958       -0.703606              1              1              1  "
      ]
     },
     "execution_count": 88,
     "metadata": {},
     "output_type": "execute_result"
    }
   ],
   "source": [
    "x_test[telecom_numeric_cols]=scaler.transform(x_test[telecom_numeric_cols])\n",
    "x_test.head()"
   ]
  },
  {
   "cell_type": "markdown",
   "metadata": {},
   "source": [
    "##### Checking the distribution of the target feature 'churn_probability':"
   ]
  },
  {
   "cell_type": "code",
   "execution_count": 89,
   "metadata": {},
   "outputs": [
    {
     "data": {
      "text/plain": [
       "<AxesSubplot:xlabel='churn_probability', ylabel='Count'>"
      ]
     },
     "execution_count": 89,
     "metadata": {},
     "output_type": "execute_result"
    },
    {
     "data": {
      "image/png": "[encoded data removed]",
      "text/plain": [
       "<Figure size 432x288 with 1 Axes>"
      ]
     },
     "metadata": {
      "needs_background": "light"
     },
     "output_type": "display_data"
    }
   ],
   "source": [
    "sns.histplot(y_train)"
   ]
  },
  {
   "cell_type": "markdown",
   "metadata": {},
   "source": [
    "##### <li>A class imbalance is present here. This should be addressed using techniqueS such as oversampling and undersampling:</li>"
   ]
  },
  {
   "cell_type": "markdown",
   "metadata": {},
   "source": [
    "## Step 2: Model building using principal component analysis(PCA) with logistic regression for the Kaggle competition."
   ]
  },
  {
   "cell_type": "markdown",
   "metadata": {},
   "source": [
    "##### <li>Using oversampling technique first:</li>"
   ]
  },
  {
   "cell_type": "code",
   "execution_count": 90,
   "metadata": {},
   "outputs": [
    {
     "data": {
      "text/plain": [
       "0    43966\n",
       "1    43966\n",
       "Name: churn_probability, dtype: int64"
      ]
     },
     "execution_count": 90,
     "metadata": {},
     "output_type": "execute_result"
    }
   ],
   "source": [
    "\n",
    "X=pd.concat([x_train,y_train],axis=1)\n",
    "\n",
    "# separate minority and majority classes\n",
    "not_churn = X[X.churn_probability==0]\n",
    "churn = X[X.churn_probability==1]\n",
    "\n",
    "# upsample minority\n",
    "churn_upsampled = resample(churn,\n",
    "                          replace=True, # sample with replacement\n",
    "                          n_samples=len(not_churn), # match number in majority class\n",
    "                          random_state=100) # reproducible results\n",
    "\n",
    "# combine majority and upsampled minority\n",
    "upsampled = pd.concat([not_churn, churn_upsampled])\n",
    "y_train1=upsampled['churn_probability']\n",
    "x_train1=upsampled.loc[ : , upsampled.columns != 'churn_probability']\n",
    "# check new class counts\n",
    "upsampled.churn_probability.value_counts()\n"
   ]
  },
  {
   "cell_type": "markdown",
   "metadata": {},
   "source": [
    "##### <li>Calculating the performance of the logistic regression model built for a cluster of size 9, with oversampling(upsampling) applied to the test data:</li>"
   ]
  },
  {
   "cell_type": "code",
   "execution_count": 91,
   "metadata": {},
   "outputs": [
    {
     "name": "stdout",
     "output_type": "stream",
     "text": [
      "Accuracy of logistic regression model after upsampling: 0.6038095238095238\n",
      "F1 score of logistic regression model after upsampling: 0.27399650959860383\n",
      "Recall of logistic regression model after upsampling: 0.7479752262982372\n"
     ]
    }
   ],
   "source": [
    "\n",
    "# for i in range(5,10):\n",
    "pca_log1 = IncrementalPCA(n_components=9)\n",
    "df_train_pca=pca_log1.fit_transform(x_train1)\n",
    "df_test_pca=pca_log1.transform(x_test)\n",
    "pca_log_1 = LogisticRegression(solver='liblinear')\n",
    "model_pca_1=pca_log_1.fit(df_train_pca,y_train1)\n",
    "y_pred_test=model_pca_1.predict(df_test_pca)\n",
    "\n",
    "print(f\"Accuracy of logistic regression model after upsampling: {metrics.accuracy_score(y_test,y_pred_test)}\")\n",
    "print(f\"F1 score of logistic regression model after upsampling: {metrics.f1_score(y_test,y_pred_test)}\")\n",
    "print(f\"Recall of logistic regression model after upsampling: {metrics.recall_score(y_test,y_pred_test)}\")"
   ]
  },
  {
   "cell_type": "markdown",
   "metadata": {},
   "source": [
    "##### <li>Checking if the performance is better using downsampling</li>"
   ]
  },
  {
   "cell_type": "code",
   "execution_count": 92,
   "metadata": {},
   "outputs": [
    {
     "data": {
      "text/plain": [
       "0    5033\n",
       "1    5033\n",
       "Name: churn_probability, dtype: int64"
      ]
     },
     "execution_count": 92,
     "metadata": {},
     "output_type": "execute_result"
    }
   ],
   "source": [
    "# downsample majority\n",
    "not_churn_downsampled = resample(not_churn,\n",
    "                                replace = False, # sample without replacement\n",
    "                                n_samples = len(churn), # match minority n\n",
    "                                random_state = 100) # reproducible results\n",
    "\n",
    "# combine minority and downsampled majority\n",
    "downsampled = pd.concat([not_churn_downsampled, churn])\n",
    "\n",
    "# checking counts\n",
    "downsampled.churn_probability.value_counts()"
   ]
  },
  {
   "cell_type": "code",
   "execution_count": 93,
   "metadata": {},
   "outputs": [
    {
     "name": "stdout",
     "output_type": "stream",
     "text": [
      "Accuracy of logistic regression model after downsampling: 0.6029047619047619\n",
      "F1 score of logistic regression model after downsampling: 0.2732897603485839\n",
      "Recall of logistic regression model after downsampling: 0.7470223916150548\n"
     ]
    }
   ],
   "source": [
    "y_train2 = downsampled.churn_probability\n",
    "x_train2 = downsampled.loc[ : , upsampled.columns != 'churn_probability']\n",
    "\n",
    "pca_log2 = IncrementalPCA(n_components=9)\n",
    "df_train_pca2=pca_log2.fit_transform(x_train2)\n",
    "df_test_pca2=pca_log2.transform(x_test)\n",
    "pca_log_2 = LogisticRegression(solver='liblinear')\n",
    "model_pca_2=pca_log_2.fit(df_train_pca2,y_train2)\n",
    "y_pred_test=model_pca_2.predict(df_test_pca2)\n",
    "\n",
    "\n",
    "print(f\"Accuracy of logistic regression model after downsampling: {metrics.accuracy_score(y_test,y_pred_test)}\")\n",
    "print(f\"F1 score of logistic regression model after downsampling: {metrics.f1_score(y_test,y_pred_test)}\")\n",
    "print(f\"Recall of logistic regression model after downsampling: {metrics.recall_score(y_test,y_pred_test)}\")"
   ]
  },
  {
   "cell_type": "markdown",
   "metadata": {},
   "source": [
    "##### <li>The model built using upsampling and downsampling have a similar accuracy,F1 score and recall . So in this case, we will consider the model built using PCA + logistic regression + upsampling (oversampling) to predict the output on the unseen data (for upload to Kaggle):</li>"
   ]
  },
  {
   "cell_type": "code",
   "execution_count": 94,
   "metadata": {},
   "outputs": [
    {
     "data": {
      "text/plain": [
       "Index(['aon', 'onnet_mou', 'offnet_mou', 'total_ic_mou', 'total_rech_num',\n",
       "       'total_rech_amt', 'fb_user_6_1.0', 'fb_user_7_1.0', 'fb_user_8_1.0'],\n",
       "      dtype='object')"
      ]
     },
     "execution_count": 94,
     "metadata": {},
     "output_type": "execute_result"
    }
   ],
   "source": [
    "df_telecom_unseen.columns"
   ]
  },
  {
   "cell_type": "code",
   "execution_count": 95,
   "metadata": {},
   "outputs": [
    {
     "data": {
      "text/html": [
       "<div>\n",
       "<style scoped>\n",
       "    .dataframe tbody tr th:only-of-type {\n",
       "        vertical-align: middle;\n",
       "    }\n",
       "\n",
       "    .dataframe tbody tr th {\n",
       "        vertical-align: top;\n",
       "    }\n",
       "\n",
       "    .dataframe thead th {\n",
       "        text-align: right;\n",
       "    }\n",
       "</style>\n",
       "<table border=\"1\" class=\"dataframe\">\n",
       "  <thead>\n",
       "    <tr style=\"text-align: right;\">\n",
       "      <th></th>\n",
       "      <th>id</th>\n",
       "      <th>churn_probability</th>\n",
       "    </tr>\n",
       "  </thead>\n",
       "  <tbody>\n",
       "    <tr>\n",
       "      <th>0</th>\n",
       "      <td>69999</td>\n",
       "      <td>0</td>\n",
       "    </tr>\n",
       "    <tr>\n",
       "      <th>1</th>\n",
       "      <td>70000</td>\n",
       "      <td>0</td>\n",
       "    </tr>\n",
       "    <tr>\n",
       "      <th>2</th>\n",
       "      <td>70001</td>\n",
       "      <td>0</td>\n",
       "    </tr>\n",
       "    <tr>\n",
       "      <th>3</th>\n",
       "      <td>70002</td>\n",
       "      <td>0</td>\n",
       "    </tr>\n",
       "    <tr>\n",
       "      <th>4</th>\n",
       "      <td>70003</td>\n",
       "      <td>0</td>\n",
       "    </tr>\n",
       "  </tbody>\n",
       "</table>\n",
       "</div>"
      ],
      "text/plain": [
       "      id  churn_probability\n",
       "0  69999                  0\n",
       "1  70000                  0\n",
       "2  70001                  0\n",
       "3  70002                  0\n",
       "4  70003                  0"
      ]
     },
     "execution_count": 95,
     "metadata": {},
     "output_type": "execute_result"
    }
   ],
   "source": [
    "submission=df_telecom_unseen\n",
    "df_telecom_unseen['churn_probability']=model_pca_1.predict(submission)\n",
    "output=pd.concat([output,df_telecom_unseen['churn_probability']],axis=1)\n",
    "output.head()\n"
   ]
  },
  {
   "cell_type": "code",
   "execution_count": 96,
   "metadata": {},
   "outputs": [],
   "source": [
    "output.to_csv('submission_log.csv',index=False)\n"
   ]
  },
  {
   "cell_type": "markdown",
   "metadata": {},
   "source": [
    "## Step 3: Model building using principal component analysis(PCA) with random forests for the Kaggle competition."
   ]
  },
  {
   "cell_type": "markdown",
   "metadata": {},
   "source": [
    "##### <li>Building random forest models based on both upsampling and downsampling, and using the best model to predict the 'churn_probability' on unseen data:</li>"
   ]
  },
  {
   "cell_type": "code",
   "execution_count": null,
   "metadata": {},
   "outputs": [],
   "source": [
    "\n"
   ]
  },
  {
   "cell_type": "markdown",
   "metadata": {},
   "source": [
    "rf = RandomForestClassifier(random_state=42, n_jobs=-1)\n",
    "params = {\n",
    "    'max_depth': [2,3,5,10,20],\n",
    "    'min_samples_leaf': [5,10,20,50,100,200],\n",
    "    'n_estimators': [10, 25, 50, 100]\n",
    "}\n",
    "grid_search = GridSearchCV(estimator=rf,\n",
    "                           param_grid=params,\n",
    "                           cv = 4,\n",
    "                           n_jobs=-1, verbose=1, scoring=\"accuracy\")\n",
    "grid_search.fit(x_train1,y_train1)\n",
    "print(f\"Best accuracy score for a random forest model with upsampling done: {grid_search.best_score_}\")                           "
   ]
  },
  {
   "cell_type": "code",
   "execution_count": 97,
   "metadata": {},
   "outputs": [
    {
     "name": "stdout",
     "output_type": "stream",
     "text": [
      "Accuracy of random forest model after upsampling: 0.6325714285714286\n",
      "F1 score of random forest model after upsampling: 0.28369847753434835\n",
      "Recall of random forest model after upsampling: 0.7279656979514054\n"
     ]
    }
   ],
   "source": [
    "pca_rf1=IncrementalPCA(n_components=9)\n",
    "df_train_pca3=pca_rf1.fit_transform(x_train1)\n",
    "df_test_pca3=pca_rf1.transform(x_test)\n",
    "\n",
    "rf1 = RandomForestClassifier(n_estimators=10, max_depth=2, max_features=9, random_state=42, oob_score=True)\n",
    "model_pca_3=rf1.fit(df_train_pca3,y_train1)\n",
    "y_pred_test=model_pca_3.predict(df_test_pca3)\n",
    "\n",
    "print(f\"Accuracy of random forest model after upsampling: {metrics.accuracy_score(y_test,y_pred_test)}\")\n",
    "print(f\"F1 score of random forest model after upsampling: {metrics.f1_score(y_test,y_pred_test)}\")\n",
    "print(f\"Recall of random forest model after upsampling: {metrics.recall_score(y_test,y_pred_test)}\")\n"
   ]
  },
  {
   "cell_type": "code",
   "execution_count": 98,
   "metadata": {},
   "outputs": [
    {
     "name": "stdout",
     "output_type": "stream",
     "text": [
      "Accuracy of random forest model after downsampling: 0.575047619047619\n",
      "F1 score of random forest model after downsampling: 0.2639392939623887\n",
      "Recall of random forest model after downsampling: 0.7622677465459743\n"
     ]
    }
   ],
   "source": [
    "pca_rf2=IncrementalPCA(n_components=9)\n",
    "df_train_pca4=pca_rf2.fit_transform(x_train2)\n",
    "df_test_pca4=pca_rf2.transform(x_test)\n",
    "\n",
    "rf2 = RandomForestClassifier(n_estimators=10, max_depth=2, max_features=9, random_state=42, oob_score=True)\n",
    "model_pca_4=rf2.fit(df_train_pca4,y_train2)\n",
    "y_pred_test=model_pca_4.predict(df_test_pca4)\n",
    "\n",
    "print(f\"Accuracy of random forest model after downsampling: {metrics.accuracy_score(y_test,y_pred_test)}\")\n",
    "print(f\"F1 score of random forest model after downsampling: {metrics.f1_score(y_test,y_pred_test)}\")\n",
    "print(f\"Recall of random forest model after downsampling: {metrics.recall_score(y_test,y_pred_test)}\")\n"
   ]
  },
  {
   "cell_type": "markdown",
   "metadata": {},
   "source": [
    "##### <li>A random forest with upsampled training data gives a better accuracy compared to a similar model trained with downsampled data. Hence predicting the output using the model with the better accuracy:</li>"
   ]
  },
  {
   "cell_type": "code",
   "execution_count": 99,
   "metadata": {},
   "outputs": [
    {
     "data": {
      "text/html": [
       "<div>\n",
       "<style scoped>\n",
       "    .dataframe tbody tr th:only-of-type {\n",
       "        vertical-align: middle;\n",
       "    }\n",
       "\n",
       "    .dataframe tbody tr th {\n",
       "        vertical-align: top;\n",
       "    }\n",
       "\n",
       "    .dataframe thead th {\n",
       "        text-align: right;\n",
       "    }\n",
       "</style>\n",
       "<table border=\"1\" class=\"dataframe\">\n",
       "  <thead>\n",
       "    <tr style=\"text-align: right;\">\n",
       "      <th></th>\n",
       "      <th>id</th>\n",
       "      <th>churn_probability</th>\n",
       "    </tr>\n",
       "  </thead>\n",
       "  <tbody>\n",
       "    <tr>\n",
       "      <th>0</th>\n",
       "      <td>69999</td>\n",
       "      <td>0</td>\n",
       "    </tr>\n",
       "    <tr>\n",
       "      <th>1</th>\n",
       "      <td>70000</td>\n",
       "      <td>0</td>\n",
       "    </tr>\n",
       "    <tr>\n",
       "      <th>2</th>\n",
       "      <td>70001</td>\n",
       "      <td>0</td>\n",
       "    </tr>\n",
       "    <tr>\n",
       "      <th>3</th>\n",
       "      <td>70002</td>\n",
       "      <td>0</td>\n",
       "    </tr>\n",
       "    <tr>\n",
       "      <th>4</th>\n",
       "      <td>70003</td>\n",
       "      <td>0</td>\n",
       "    </tr>\n",
       "  </tbody>\n",
       "</table>\n",
       "</div>"
      ],
      "text/plain": [
       "      id  churn_probability\n",
       "0  69999                  0\n",
       "1  70000                  0\n",
       "2  70001                  0\n",
       "3  70002                  0\n",
       "4  70003                  0"
      ]
     },
     "execution_count": 99,
     "metadata": {},
     "output_type": "execute_result"
    }
   ],
   "source": [
    "submission=df_telecom_unseen.loc[ : , df_telecom_unseen.columns != 'churn_probability']\n",
    "df_telecom_unseen['churn_probability']=model_pca_3.predict(submission)\n",
    "output2=pd.concat([output2,df_telecom_unseen['churn_probability']],axis=1)\n",
    "output2.head()\n"
   ]
  },
  {
   "cell_type": "code",
   "execution_count": 100,
   "metadata": {},
   "outputs": [],
   "source": [
    "output2.to_csv('submission_rf.csv',index=False)\n"
   ]
  },
  {
   "cell_type": "markdown",
   "metadata": {},
   "source": [
    "## Step 4: Model performance comparison and selection of the best performing model  for the Kaggle competition.\n",
    "\n",
    "##### <li>The best score in the Kaggle portal so far, was obtained by the predictions generated using the classification model built using <b><u>random forest classifier with PCA and oversampled training data</b></u> and is equal to <b><u>0.89923</b></u></li>\n"
   ]
  },
  {
   "cell_type": "markdown",
   "metadata": {},
   "source": [
    "## Step 5: Model building using logistic regression(without PCA).\n"
   ]
  },
  {
   "cell_type": "markdown",
   "metadata": {},
   "source": [
    "##### <li>Creating a logistic regression model with hyperparameter tuning, with the oversampled training data:</li>"
   ]
  },
  {
   "cell_type": "code",
   "execution_count": 101,
   "metadata": {},
   "outputs": [
    {
     "data": {
      "text/plain": [
       "GridSearchCV(cv=10, estimator=LogisticRegression(), n_jobs=-1,\n",
       "             param_grid={'C': array([1.e-03, 1.e-02, 1.e-01, 1.e+00, 1.e+01, 1.e+02, 1.e+03])},\n",
       "             scoring='accuracy')"
      ]
     },
     "execution_count": 101,
     "metadata": {},
     "output_type": "execute_result"
    }
   ],
   "source": [
    "\n",
    "log = LogisticRegression()\n",
    "grid_param={\"C\":np.logspace(-3,3,7)}\n",
    "log_cv_oversample=GridSearchCV(log,grid_param,scoring=\"accuracy\",n_jobs=-1,cv=10)\n",
    "log_cv_oversample.fit(x_train1,y_train1)\n"
   ]
  },
  {
   "cell_type": "code",
   "execution_count": 102,
   "metadata": {},
   "outputs": [],
   "source": [
    "log_cv_oversample_best = log_cv_oversample.best_estimator_\n",
    "y_log_oversample_pred = log_cv_oversample_best.predict(x_test)\n"
   ]
  },
  {
   "cell_type": "code",
   "execution_count": 103,
   "metadata": {},
   "outputs": [
    {
     "name": "stdout",
     "output_type": "stream",
     "text": [
      "Metrics of a logistic regression model built with oversampled training data:\n",
      "Best training accuracy score:0.6690057044725215\n",
      "Test accuracy:0.6037142857142858\n",
      "Precision:0.16768129872903983\n",
      "Recall:0.7479752262982372\n",
      "F1 score:0.2739487000523469\n",
      "Confusion matrix:\n"
     ]
    },
    {
     "data": {
      "image/png": "[encoded data removed]",
      "text/plain": [
       "<Figure size 432x288 with 2 Axes>"
      ]
     },
     "metadata": {
      "needs_background": "light"
     },
     "output_type": "display_data"
    }
   ],
   "source": [
    "\n",
    "print(\"Metrics of a logistic regression model built with oversampled training data:\")\n",
    "print(f\"Best training accuracy score:{log_cv_oversample.best_score_}\")\n",
    "print(f\"Test accuracy:{metrics.accuracy_score(y_test,y_log_oversample_pred)}\")\n",
    "print(f\"Precision:{metrics.precision_score(y_test,y_log_oversample_pred)}\")\n",
    "print(f\"Recall:{metrics.recall_score(y_test,y_log_oversample_pred)}\")\n",
    "print(f\"F1 score:{metrics.f1_score(y_test,y_log_oversample_pred)}\")\n",
    "print(f\"Confusion matrix:\")\n",
    "metrics.ConfusionMatrixDisplay(metrics.confusion_matrix(y_test,y_log_oversample_pred)).plot()\n",
    "plt.show()"
   ]
  },
  {
   "cell_type": "code",
   "execution_count": 104,
   "metadata": {},
   "outputs": [
    {
     "data": {
      "image/png": "[encoded data removed]",
      "text/plain": [
       "<Figure size 432x288 with 1 Axes>"
      ]
     },
     "metadata": {
      "needs_background": "light"
     },
     "output_type": "display_data"
    }
   ],
   "source": [
    "\n",
    "plot_roc_curve(log_cv_oversample_best,x_train1,y_train1)\n",
    "plt.show()"
   ]
  },
  {
   "cell_type": "markdown",
   "metadata": {},
   "source": [
    "##### <li>Creating a logistic regression model, with hyperparameter tuning, on the undersampled training data:</li>"
   ]
  },
  {
   "cell_type": "code",
   "execution_count": 105,
   "metadata": {},
   "outputs": [
    {
     "data": {
      "text/plain": [
       "GridSearchCV(cv=10, estimator=LogisticRegression(), n_jobs=-1,\n",
       "             param_grid={'C': array([1.e-03, 1.e-02, 1.e-01, 1.e+00, 1.e+01, 1.e+02, 1.e+03])},\n",
       "             scoring='accuracy')"
      ]
     },
     "execution_count": 105,
     "metadata": {},
     "output_type": "execute_result"
    }
   ],
   "source": [
    "log = LogisticRegression()\n",
    "grid_param={\"C\":np.logspace(-3,3,7)}\n",
    "log_cv_undersample=GridSearchCV(log,grid_param,scoring=\"accuracy\",n_jobs=-1,cv=10)\n",
    "log_cv_undersample.fit(x_train2,y_train2)"
   ]
  },
  {
   "cell_type": "code",
   "execution_count": 106,
   "metadata": {},
   "outputs": [],
   "source": [
    "log_cv_undersample_best = log_cv_undersample.best_estimator_\n",
    "y_log_undersample_pred = log_cv_undersample_best.predict(x_test)\n"
   ]
  },
  {
   "cell_type": "code",
   "execution_count": 107,
   "metadata": {},
   "outputs": [
    {
     "name": "stdout",
     "output_type": "stream",
     "text": [
      "Metrics of a logistic regression model built with undersampled training data:\n",
      "Best training accuracy score:0.6601427186631945\n",
      "Test accuracy:0.6023809523809524\n",
      "Precision:0.16668444065266078\n",
      "Recall:0.7446403049070986\n",
      "F1 score:0.2723945625653538\n",
      "Confusion matrix:\n"
     ]
    },
    {
     "data": {
      "image/png": "[encoded data removed]",
      "text/plain": [
       "<Figure size 432x288 with 2 Axes>"
      ]
     },
     "metadata": {
      "needs_background": "light"
     },
     "output_type": "display_data"
    }
   ],
   "source": [
    "print(\"Metrics of a logistic regression model built with undersampled training data:\")\n",
    "print(f\"Best training accuracy score:{log_cv_undersample.best_score_}\")\n",
    "print(f\"Test accuracy:{metrics.accuracy_score(y_test,y_log_undersample_pred)}\")\n",
    "print(f\"Precision:{metrics.precision_score(y_test,y_log_undersample_pred)}\")\n",
    "print(f\"Recall:{metrics.recall_score(y_test,y_log_undersample_pred)}\")\n",
    "print(f\"F1 score:{metrics.f1_score(y_test,y_log_undersample_pred)}\")\n",
    "print(f\"Confusion matrix:\")\n",
    "metrics.ConfusionMatrixDisplay(metrics.confusion_matrix(y_test,y_log_undersample_pred)).plot()\n",
    "plt.show()"
   ]
  },
  {
   "cell_type": "code",
   "execution_count": 108,
   "metadata": {},
   "outputs": [
    {
     "data": {
      "image/png": "[encoded data removed]",
      "text/plain": [
       "<Figure size 432x288 with 1 Axes>"
      ]
     },
     "metadata": {
      "needs_background": "light"
     },
     "output_type": "display_data"
    }
   ],
   "source": [
    "plot_roc_curve(log_cv_undersample_best,x_train2,y_train2)\n",
    "plt.show()"
   ]
  },
  {
   "cell_type": "markdown",
   "metadata": {},
   "source": [
    "#### <b><u>Observations and interpretation:</u></b>\n",
    "##### <li>The models developed using logistic regression have a healthy recall value i.e. approximately 75% of all customers predicted as 'Churn' actually churned, although this could be a lot better.</li>\n",
    "##### <li>The models have a test accuracy of approximately 60.3%, but there is room for improvement.</li>\n",
    "##### <li>The model has a precision value of 16.6% indicating that only 16.6% of all cases predicted as 'Churn' will actually churn. As a business strategy, if it does not matter to roll out special offers to customers who will not actually churn, then this low precision value is acceptable.</li>\n",
    "##### <li>The model has a healthy recall value of 74.8%, thus indicating that it predicts fewer number of customers (approximately 25%) who actually churn as 'Not Churn', and thereby minimizing the loss of customers due to incorrect prediction.\n",
    "##### <li> The ROC curves above indicate a certain degreee of randomness (close to the y-axis but could be better).</li>"
   ]
  },
  {
   "cell_type": "markdown",
   "metadata": {},
   "source": [
    "## Step 6: Model building using with random forest(without PCA).\n"
   ]
  },
  {
   "cell_type": "markdown",
   "metadata": {},
   "source": [
    "##### <li>Creating a random forest based model with hyperparameter tuning, with the oversampled training data:</li>"
   ]
  },
  {
   "cell_type": "code",
   "execution_count": 109,
   "metadata": {},
   "outputs": [
    {
     "name": "stdout",
     "output_type": "stream",
     "text": [
      "Fitting 4 folds for each of 18 candidates, totalling 72 fits\n"
     ]
    },
    {
     "data": {
      "text/plain": [
       "GridSearchCV(cv=4, estimator=RandomForestClassifier(n_jobs=-1, random_state=42),\n",
       "             n_jobs=-1,\n",
       "             param_grid={'max_depth': [2, 3], 'min_samples_leaf': [5, 10, 20],\n",
       "                         'n_estimators': [10, 25, 50]},\n",
       "             scoring='accuracy', verbose=1)"
      ]
     },
     "execution_count": 109,
     "metadata": {},
     "output_type": "execute_result"
    }
   ],
   "source": [
    "\n",
    "rf = RandomForestClassifier(random_state=42, n_jobs=-1)\n",
    "grid_params= {\n",
    "    'max_depth': [2,3],\n",
    "    'min_samples_leaf': [5,10,20],\n",
    "    'n_estimators': [10, 25, 50]\n",
    "}\n",
    "rf_grid_oversampling = GridSearchCV(estimator=rf,\n",
    "                           param_grid=grid_params,\n",
    "                           cv = 4,\n",
    "                           n_jobs=-1, verbose=1, scoring=\"accuracy\")\n",
    "rf_grid_oversampling.fit(x_train1,y_train1)\n",
    "                           "
   ]
  },
  {
   "cell_type": "code",
   "execution_count": 110,
   "metadata": {},
   "outputs": [],
   "source": [
    "rf_cv_oversample_best = rf_grid_oversampling.best_estimator_\n",
    "y_rf_oversample_pred = rf_cv_oversample_best.predict(x_test)\n"
   ]
  },
  {
   "cell_type": "code",
   "execution_count": 111,
   "metadata": {},
   "outputs": [
    {
     "name": "stdout",
     "output_type": "stream",
     "text": [
      "Metrics of a random forest classification model built with oversampled training data:\n",
      "Best training accuracy score:0.6920916162489197\n",
      "Test accuracy:0.7282380952380952\n",
      "Precision:0.21080474511061237\n",
      "Recall:0.6264888041924727\n",
      "F1 score:0.31546119707328774\n",
      "Confusion matrix:\n"
     ]
    },
    {
     "data": {
      "image/png": "[encoded data removed]",
      "text/plain": [
       "<Figure size 432x288 with 2 Axes>"
      ]
     },
     "metadata": {
      "needs_background": "light"
     },
     "output_type": "display_data"
    }
   ],
   "source": [
    "\n",
    "print(\"Metrics of a random forest classification model built with oversampled training data:\")\n",
    "print(f\"Best training accuracy score:{rf_grid_oversampling.best_score_}\")\n",
    "print(f\"Test accuracy:{metrics.accuracy_score(y_test,y_rf_oversample_pred)}\")\n",
    "print(f\"Precision:{metrics.precision_score(y_test,y_rf_oversample_pred)}\")\n",
    "print(f\"Recall:{metrics.recall_score(y_test,y_rf_oversample_pred)}\")\n",
    "print(f\"F1 score:{metrics.f1_score(y_test,y_rf_oversample_pred)}\")\n",
    "print(f\"Confusion matrix:\")\n",
    "metrics.ConfusionMatrixDisplay(metrics.confusion_matrix(y_test,y_rf_oversample_pred)).plot()\n",
    "plt.show()"
   ]
  },
  {
   "cell_type": "code",
   "execution_count": 112,
   "metadata": {},
   "outputs": [
    {
     "data": {
      "image/png": "[encoded data removed]",
      "text/plain": [
       "<Figure size 432x288 with 1 Axes>"
      ]
     },
     "metadata": {
      "needs_background": "light"
     },
     "output_type": "display_data"
    }
   ],
   "source": [
    "plot_roc_curve(rf_cv_oversample_best,x_train1,y_train1)\n",
    "plt.show()"
   ]
  },
  {
   "cell_type": "code",
   "execution_count": 113,
   "metadata": {},
   "outputs": [
    {
     "name": "stdout",
     "output_type": "stream",
     "text": [
      "Fitting 4 folds for each of 18 candidates, totalling 72 fits\n"
     ]
    },
    {
     "data": {
      "text/plain": [
       "GridSearchCV(cv=4, estimator=RandomForestClassifier(n_jobs=-1, random_state=42),\n",
       "             n_jobs=-1,\n",
       "             param_grid={'max_depth': [2, 3], 'min_samples_leaf': [5, 10, 20],\n",
       "                         'n_estimators': [10, 25, 50]},\n",
       "             scoring='accuracy', verbose=1)"
      ]
     },
     "execution_count": 113,
     "metadata": {},
     "output_type": "execute_result"
    }
   ],
   "source": [
    "rf2 = RandomForestClassifier(random_state=42, n_jobs=-1)\n",
    "grid_params= {\n",
    "    'max_depth': [2,3],\n",
    "    'min_samples_leaf': [5,10,20],\n",
    "    'n_estimators': [10, 25, 50]\n",
    "}\n",
    "rf_grid_undersampling = GridSearchCV(estimator=rf2,\n",
    "                           param_grid=grid_params,\n",
    "                           cv = 4,\n",
    "                           n_jobs=-1, verbose=1, scoring=\"accuracy\")\n",
    "rf_grid_undersampling.fit(x_train2,y_train2)\n",
    "                           "
   ]
  },
  {
   "cell_type": "code",
   "execution_count": 114,
   "metadata": {},
   "outputs": [
    {
     "name": "stdout",
     "output_type": "stream",
     "text": [
      "Metrics of a random forest classification model built with oversampled training data:\n",
      "Best training accuracy score:0.6812036261529706\n",
      "Test accuracy:0.7102857142857143\n",
      "Precision:0.2015875393140632\n",
      "Recall:0.6412577417818008\n",
      "F1 score:0.3067456700091158\n",
      "Confusion matrix:\n"
     ]
    },
    {
     "data": {
      "image/png": "[encoded data removed]",
      "text/plain": [
       "<Figure size 432x288 with 2 Axes>"
      ]
     },
     "metadata": {
      "needs_background": "light"
     },
     "output_type": "display_data"
    }
   ],
   "source": [
    "rf_cv_undersample_best = rf_grid_undersampling.best_estimator_\n",
    "y_rf_undersample_pred = rf_cv_undersample_best.predict(x_test)\n",
    "print(\"Metrics of a random forest classification model built with oversampled training data:\")\n",
    "print(f\"Best training accuracy score:{rf_grid_undersampling.best_score_}\")\n",
    "print(f\"Test accuracy:{metrics.accuracy_score(y_test,y_rf_undersample_pred)}\")\n",
    "print(f\"Precision:{metrics.precision_score(y_test,y_rf_undersample_pred)}\")\n",
    "print(f\"Recall:{metrics.recall_score(y_test,y_rf_undersample_pred)}\")\n",
    "print(f\"F1 score:{metrics.f1_score(y_test,y_rf_undersample_pred)}\")\n",
    "print(f\"Confusion matrix:\")\n",
    "metrics.ConfusionMatrixDisplay(metrics.confusion_matrix(y_test,y_rf_undersample_pred)).plot()\n",
    "plt.show()"
   ]
  },
  {
   "cell_type": "code",
   "execution_count": 115,
   "metadata": {},
   "outputs": [
    {
     "data": {
      "image/png": "[encoded data removed]",
      "text/plain": [
       "<Figure size 432x288 with 1 Axes>"
      ]
     },
     "metadata": {
      "needs_background": "light"
     },
     "output_type": "display_data"
    }
   ],
   "source": [
    "plot_roc_curve(rf_cv_undersample_best,x_train2,y_train2)\n",
    "plt.show()"
   ]
  },
  {
   "cell_type": "markdown",
   "metadata": {},
   "source": [
    "#### <b><u>Observations and interpretation:</u></b>\n",
    "##### <li>The models developed using random forest classification have a recall value of ranging from approximately 62 to 64% i.e. 62 to 64% of all customers who were predicted as 'Churn' actually churned.</li>\n",
    "##### <li>The models have a test accuracies ranging from approximately 71 to 73%, but more number of 'Not Churn' cases are predicted correctly in comparison to 'Churn' cases.</li>\n",
    "##### <li>The model has precision values ranging from 20 to 21%, but it does not matter if the business strategy is okay with false positives.</li>\n",
    "##### <li>The model has recall values ranging from  62 to 64%, thus indicating that it predicts approximately 25% who actually churn as 'Not Churn'</li>\n",
    "##### <li> The ROC curves above indicate a certain degreee of randomness (close to the y-axis but could be better).</li>"
   ]
  },
  {
   "cell_type": "markdown",
   "metadata": {},
   "source": [
    "## Step 7: Important variable identification.</ol>"
   ]
  },
  {
   "cell_type": "markdown",
   "metadata": {},
   "source": [
    "#### <b><u>Model selection strategy:</u></b>\n",
    "##### The classification model built using <b><u>logistic regression (without PCA) using oversampling</b></u> has been chosen as the best model from the above created models (without PCA) for the following reasons:\n",
    "##### <li>Assuming that the telecom company does not face any significant financial loss by rolling out special offers to customers who have been wrongly identified as 'Churn' but are more likely to or acutally 'Not Churn' (false positives), then the focus of the company must be on reducing the number of customers who are wrongly identified as 'Not Churn' but actually 'Churn' (false negatives).</li>\n",
    "##### <li> Thus the model must have an acceptable accuracy value and a good recall value(lower number of false negatives) , since the priority is to minimize the loss of customers i.e. 'Churn'</li>\n",
    "##### <li> Hence the above classification model has been chosen, which has a test accuracy of <b><u>0.6037</b></u>(60.37%) and a precision of <b><u>0.7480</b></u>(74.8%)."
   ]
  },
  {
   "cell_type": "markdown",
   "metadata": {},
   "source": [
    "##### <li> Finding the list of most important features that are strong predictors of customer churn, using this model:</li>"
   ]
  },
  {
   "cell_type": "code",
   "execution_count": 116,
   "metadata": {},
   "outputs": [],
   "source": [
    "df_imp = pd.DataFrame({\n",
    "    \"Feature\": x_train1.columns,\n",
    "    \"Importance\": log_cv_oversample_best.coef_[0]\n",
    "})\n",
    "df_imp.sort_values(by=\"Importance\", ascending=False, inplace=True)"
   ]
  },
  {
   "cell_type": "code",
   "execution_count": 117,
   "metadata": {},
   "outputs": [
    {
     "data": {
      "image/png": "[encoded data removed]",
      "text/plain": [
       "<Figure size 1440x720 with 1 Axes>"
      ]
     },
     "metadata": {
      "needs_background": "light"
     },
     "output_type": "display_data"
    }
   ],
   "source": [
    "plt.figure(figsize=(20, 10))\n",
    "plt.bar(x=df_imp['Feature'], height=df_imp['Importance'])\n",
    "plt.title('Feature importances for customer churn prediction', size=20)\n",
    "plt.xticks(rotation='vertical')\n",
    "plt.show()"
   ]
  },
  {
   "cell_type": "code",
   "execution_count": 118,
   "metadata": {},
   "outputs": [
    {
     "name": "stdout",
     "output_type": "stream",
     "text": [
      "          Feature  Importance\n",
      "8   fb_user_8_1.0    0.407236\n",
      "1       onnet_mou    0.141772\n",
      "2      offnet_mou    0.126815\n",
      "7   fb_user_7_1.0    0.064724\n",
      "5  total_rech_amt   -0.210177\n",
      "6   fb_user_6_1.0   -0.269490\n",
      "4  total_rech_num   -0.297042\n",
      "0             aon   -0.479482\n",
      "3    total_ic_mou   -0.847918\n"
     ]
    }
   ],
   "source": [
    "print(df_imp)"
   ]
  },
  {
   "cell_type": "markdown",
   "metadata": {},
   "source": [
    "##### <li>Creating the output 'Submission.csv' file, to predict the outcome for the observations in the 'test.csv' file, using the above selected model:</li>"
   ]
  },
  {
   "cell_type": "code",
   "execution_count": 119,
   "metadata": {},
   "outputs": [
    {
     "data": {
      "text/html": [
       "<div>\n",
       "<style scoped>\n",
       "    .dataframe tbody tr th:only-of-type {\n",
       "        vertical-align: middle;\n",
       "    }\n",
       "\n",
       "    .dataframe tbody tr th {\n",
       "        vertical-align: top;\n",
       "    }\n",
       "\n",
       "    .dataframe thead th {\n",
       "        text-align: right;\n",
       "    }\n",
       "</style>\n",
       "<table border=\"1\" class=\"dataframe\">\n",
       "  <thead>\n",
       "    <tr style=\"text-align: right;\">\n",
       "      <th></th>\n",
       "      <th>id</th>\n",
       "      <th>churn_probability</th>\n",
       "    </tr>\n",
       "  </thead>\n",
       "  <tbody>\n",
       "    <tr>\n",
       "      <th>0</th>\n",
       "      <td>69999</td>\n",
       "      <td>0</td>\n",
       "    </tr>\n",
       "    <tr>\n",
       "      <th>1</th>\n",
       "      <td>70000</td>\n",
       "      <td>0</td>\n",
       "    </tr>\n",
       "    <tr>\n",
       "      <th>2</th>\n",
       "      <td>70001</td>\n",
       "      <td>0</td>\n",
       "    </tr>\n",
       "    <tr>\n",
       "      <th>3</th>\n",
       "      <td>70002</td>\n",
       "      <td>0</td>\n",
       "    </tr>\n",
       "    <tr>\n",
       "      <th>4</th>\n",
       "      <td>70003</td>\n",
       "      <td>0</td>\n",
       "    </tr>\n",
       "  </tbody>\n",
       "</table>\n",
       "</div>"
      ],
      "text/plain": [
       "      id  churn_probability\n",
       "0  69999                  0\n",
       "1  70000                  0\n",
       "2  70001                  0\n",
       "3  70002                  0\n",
       "4  70003                  0"
      ]
     },
     "execution_count": 119,
     "metadata": {},
     "output_type": "execute_result"
    }
   ],
   "source": [
    "submission=df_telecom_unseen.loc[ : , df_telecom_unseen.columns != 'churn_probability']\n",
    "df_telecom_unseen['churn_probability']=log_cv_oversample_best.predict(submission)\n",
    "output_log=pd.concat([output_log,df_telecom_unseen['churn_probability']],axis=1)\n",
    "output_log.head()\n"
   ]
  },
  {
   "cell_type": "code",
   "execution_count": 120,
   "metadata": {},
   "outputs": [],
   "source": [
    "\n",
    "output_log.to_csv('Submission.csv',index=False)\n"
   ]
  },
  {
   "cell_type": "markdown",
   "metadata": {},
   "source": [
    "### <b><u>Final observations and business inferences:</u></b>\n",
    "#### 1. The customers who use social media and thus the mobile internet in the month of August, are more likely to churn. Thus, the telecom company should look into why such users are likely to churn. Some factors to consider could be the network quality, mobile internet speed, holiday season, better offers from competitors during that particular time period etc. The company can then work on effective strategies based on the same, to retain existing customers.\n",
    "#### 2. The customers are also more likely to churn:\n",
    "#####   <li>when the minutes of usage of incoming calls is very less.</li>\n",
    "#####   <li>when they have been in the network for fewer days. Older customers are less likely to churn</li>\n",
    "#####   <li>when the total number of recharges are fewer.</li>\n",
    "#####   <li>when the total recharge amount is lesser.</li>\n",
    "\n",
    "#### The telecom network operator must target such customers with special offers, marketing campaigns and also capture the feedback from the past customers who churned, and use this feedback to improve the quality of the services provided and thereby minimize customer churn."
   ]
  }
 ],
 "metadata": {
  "interpreter": {
   "hash": "378578d9f7814040ffa7b4b49191f1ba73f8b925ec7f2ae062101dc878eed5fb"
  },
  "kernelspec": {
   "display_name": "Python 3.8.10 64-bit (windows store)",
   "language": "python",
   "name": "python3"
  },
  "language_info": {
   "codemirror_mode": {
    "name": "ipython",
    "version": 3
   },
   "file_extension": ".py",
   "mimetype": "text/x-python",
   "name": "python",
   "nbconvert_exporter": "python",
   "pygments_lexer": "ipython3",
   "version": "3.8.8"
  },
  "orig_nbformat": 4
 },
 "nbformat": 4,
 "nbformat_minor": 2
}
