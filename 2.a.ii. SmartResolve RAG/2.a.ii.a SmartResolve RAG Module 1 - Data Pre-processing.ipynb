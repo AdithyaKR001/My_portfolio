{
 "cells": [
  {
   "cell_type": "code",
   "execution_count": null,
   "metadata": {},
   "outputs": [],
   "source": [
    "import pandas as pd\n"
   ]
  },
  {
   "cell_type": "code",
   "execution_count": null,
   "metadata": {},
   "outputs": [],
   "source": [
    "\n",
    "def process_excel(file_path):\n",
    "    # Read the Excel file\n",
    "    df = pd.read_excel(file_path)\n",
    "    \n",
    "    # Create the 'Metadata' column with prefixed concatenation\n",
    "    \n",
    "    df['Metadata'] = (\n",
    "        \"Incident number-\" + df['Number'].astype(str) + \", \" +\n",
    "        \"Incident subject-\" + df['Subject'].astype(str) + \", \" +\n",
    "        \"Incident priority-\" + df['Priority'].astype(str) + \", \" +\n",
    "        \"Incident state-\" + df['State'].astype(str) + \", \" +\n",
    "        \"Incident action status-\" + df['Action status'].astype(str) + \", \" +\n",
    "        \"Incident component-\" + df['Component'].astype(str) + \", \" +\n",
    "        \"Business impact-\" + df['Business impact'].astype(str) + \", \" +\n",
    "        \"Incident Created at date and time-\" + df['Opened'].astype(str) + \", \" +\n",
    "        \"Incident Closed at date and time-\" + df['Closed'].astype(str) + \", \" +\n",
    "        \"Escalation status-\" + df['Escalation'].astype(str)\n",
    "    )\n",
    "    \n",
    "    # Create the 'Information' column with prefixed concatenation\n",
    "    df['Details'] = (\n",
    "        \"Incident description-\" + df['Subject'].astype(str) + \", \" +\n",
    "        \"Incident observations-\" + df['Comments and Work notes'].astype(str) + \", \" +\n",
    "        \"Incident resolution-\" + df['Resolution notes'].astype(str)\n",
    "    )\n",
    "    df = df[['Metadata', 'Details']]\n",
    "    \n",
    "    return df\n"
   ]
  },
  {
   "cell_type": "code",
   "execution_count": null,
   "metadata": {},
   "outputs": [],
   "source": [
    "\n",
    "# Example usage\n",
    "file_path = \"file_path.xlsx\"  # Replace with the actual file path\n",
    "df_processed = process_excel(file_path)\n",
    "df_processed.head(5)\n"
   ]
  },
  {
   "cell_type": "code",
   "execution_count": null,
   "metadata": {},
   "outputs": [],
   "source": [
    "df_processed"
   ]
  },
  {
   "cell_type": "code",
   "execution_count": null,
   "metadata": {},
   "outputs": [],
   "source": [
    "df_processed.to_excel('pre_processed_file.xlsx',index=False)"
   ]
  }
 ],
 "metadata": {
  "kernelspec": {
   "display_name": "testEnv",
   "language": "python",
   "name": "python3"
  },
  "language_info": {
   "codemirror_mode": {
    "name": "ipython",
    "version": 3
   },
   "file_extension": ".py",
   "mimetype": "text/x-python",
   "name": "python",
   "nbconvert_exporter": "python",
   "pygments_lexer": "ipython3",
   "version": "3.13.1"
  }
 },
 "nbformat": 4,
 "nbformat_minor": 2
}
