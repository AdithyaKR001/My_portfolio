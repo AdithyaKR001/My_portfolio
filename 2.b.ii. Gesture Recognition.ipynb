{
 "cells": [
  {
   "cell_type": "markdown",
   "metadata": {},
   "source": [
    "# Gesture Recognition\n",
    "## Libraries required for building and training the models:"
   ]
  },
  {
   "cell_type": "code",
   "execution_count": 2,
   "metadata": {},
   "outputs": [],
   "source": [
    "import numpy as np\n",
    "import os\n",
    "import scipy.misc\n",
    "import imageio\n",
    "import skimage\n",
    "import datetime\n",
    "import os\n",
    "import cv2\n",
    "import random as rn\n",
    "from keras import backend as K\n",
    "import tensorflow as tf\n",
    "from keras.models import Sequential, Model\n",
    "from keras.layers import Dense, GRU, Flatten, TimeDistributed, Flatten, BatchNormalization, Activation,Dropout,LSTM\n",
    "from keras.layers.convolutional import Conv2D,Conv3D, MaxPooling2D, MaxPooling3D\n",
    "from keras.callbacks import ModelCheckpoint, ReduceLROnPlateau,EarlyStopping\n",
    "from keras import optimizers\n",
    "from keras.applications import mobilenet\n",
    "from keras.applications.resnet import ResNet50\n",
    "import matplotlib.pyplot as plt\n",
    "%matplotlib inline\n"
   ]
  },
  {
   "cell_type": "markdown",
   "metadata": {},
   "source": [
    "## We set the random seed so that the results don't vary drastically."
   ]
  },
  {
   "cell_type": "code",
   "execution_count": 3,
   "metadata": {},
   "outputs": [],
   "source": [
    "np.random.seed(30)\n",
    "rn.seed(30)\n",
    "tf.random.set_seed(30)"
   ]
  },
  {
   "cell_type": "markdown",
   "metadata": {},
   "source": [
    "## We use the below function, so that we use the system GPU (if available), for faster model training time:"
   ]
  },
  {
   "cell_type": "code",
   "execution_count": 4,
   "metadata": {},
   "outputs": [],
   "source": [
    "tf.config.run_functions_eagerly(False)"
   ]
  },
  {
   "cell_type": "markdown",
   "metadata": {},
   "source": [
    "## Generator\n",
    "### The generator function below is used for processing, resizing and augmenting the image, before feeding the same to the model for training."
   ]
  },
  {
   "cell_type": "code",
   "execution_count": 5,
   "metadata": {},
   "outputs": [],
   "source": [
    "def generator_new(source_path, folder_list, batch_size=32,sample_size=30,image_height=100,image_width=100,augment=False):\n",
    "    img_idx = np.round(np.linspace(0,29,sample_size)).astype(int)\n",
    "    batch_size=batch_size\n",
    "    while True:\n",
    "        random_folder_list = np.random.permutation(folder_list)\n",
    "        num_batches = len(random_folder_list)//batch_size\n",
    "\n",
    "        for batch in range(num_batches): \n",
    "            batch_data, batch_labels= generate_batch_data(source_path,random_folder_list,batch,batch_size,img_idx,augment,0,image_height,image_width)\n",
    "            yield batch_data, batch_labels \n",
    "\n",
    "        remaining_seq=len(random_folder_list)%batch_size\n",
    "\n",
    "        if (remaining_seq != 0):\n",
    "            batch_data, batch_labels= generate_batch_data(source_path,random_folder_list,num_batches,batch_size,img_idx,augment,remaining_seq,image_height,image_width)\n",
    "            yield batch_data, batch_labels \n",
    "\n",
    "\n",
    "def generate_batch_data(source_path,random_folder_list,batch,batch_size,img_idx,augment,remaining_seq=0, image_height=100 , image_width=100):\n",
    "\n",
    "    seq_len = remaining_seq if remaining_seq else batch_size\n",
    "\n",
    "    batch_data = np.zeros((seq_len,len(img_idx),image_height,image_width,3)) \n",
    "    batch_labels = np.zeros((seq_len,5)) \n",
    "\n",
    "\n",
    "\n",
    "\n",
    "    for folder in range(seq_len): \n",
    "        imgs = os.listdir(source_path+'/'+ random_folder_list[folder + (batch*batch_size)].split(';')[0]) \n",
    "        for idx,item in enumerate(img_idx):\n",
    "            #performing image reading and resizing\n",
    "            image = imageio.imread(source_path+'/'+ random_folder_list[folder + (batch*batch_size)].strip().split(';')[0]+'/'+imgs[item]).astype(np.float32)\n",
    "            image_resized=skimage.transform.resize(image,(image_height,image_width,3))\n",
    "        \n",
    "       \n",
    "            if augment:\n",
    "\n",
    "                #Converting the colour images to grayscale(black and white) for faster processing.\n",
    "                gray = cv2.cvtColor(image_resized,cv2.COLOR_BGR2GRAY) #shifted,cv2.COLOR_BGR2GRAY)\n",
    "\n",
    "\n",
    "        \n",
    "                batch_data[folder,idx,:,:,0] = (gray[:,:])/255\n",
    "                batch_data[folder,idx,:,:,1] = (gray[:,:])/255\n",
    "                batch_data[folder,idx,:,:,2] = (gray[:,:])/255\n",
    "            \n",
    "            else:\n",
    "                #normalizing the images\n",
    "                batch_data[folder,idx,:,:,0] = (image_resized[:,:,0])/255\n",
    "                batch_data[folder,idx,:,:,1] = (image_resized[:,:,1])/255\n",
    "                batch_data[folder,idx,:,:,2] = (image_resized[:,:,2])/255\n",
    "        \n",
    "        batch_labels[folder, int(random_folder_list[folder + (batch*batch_size)].strip().split(';')[2])] = 1\n",
    "        \n",
    "\n",
    "\n",
    "\n",
    "    return(batch_data,batch_labels)"
   ]
  },
  {
   "cell_type": "markdown",
   "metadata": {},
   "source": [
    "## Model\n",
    "\n",
    "### Function for plotting the accuracy and loss values, after training the model:"
   ]
  },
  {
   "cell_type": "code",
   "execution_count": 6,
   "metadata": {},
   "outputs": [],
   "source": [
    "def plot(history):\n",
    "    fig, axes = plt.subplots(nrows=1, ncols=2, figsize=(15,4))\n",
    "    axes[0].plot(history.history['loss'])   \n",
    "    axes[0].plot(history.history['val_loss'])\n",
    "    axes[0].legend(['loss','val_loss'])\n",
    "\n",
    "    axes[1].plot(history.history['categorical_accuracy'])   \n",
    "    axes[1].plot(history.history['val_categorical_accuracy'])\n",
    "    axes[1].legend(['categorical_accuracy','val_categorical_accuracy'])"
   ]
  },
  {
   "cell_type": "markdown",
   "metadata": {},
   "source": [
    "### Function to train the model:\n",
    "#### The function peforms the following:\n",
    "#### <li>Training and validation generator creation, by calling the above generator function.</li>\n",
    "#### <li>Model checkpoint creation.</li>\n",
    "#### <li>Validation steps and steps per epoch calculation.</li>\n",
    "#### <li>Model training.</li>\n",
    "#### NOTE: The method fit() used below achieves the same functionality as fit_generator()."
   ]
  },
  {
   "cell_type": "code",
   "execution_count": 7,
   "metadata": {},
   "outputs": [],
   "source": [
    "def train_model(model,batch_size,sample_size,num_epochs,image_height,image_width):\n",
    "    train_doc = np.random.permutation(open('notebooks/storage/Final_data/Collated_training/train.csv').readlines())\n",
    "    val_doc = np.random.permutation(open('notebooks/storage/Final_data/Collated_training/val.csv').readlines())\n",
    "    \n",
    "    curr_dt_time = datetime.datetime.now()\n",
    "    train_path = 'notebooks/storage/Final_data/Collated_training/train'\n",
    "    val_path = 'notebooks/storage/Final_data/Collated_training/val'\n",
    "    num_train_sequences = len(train_doc)\n",
    "    print('# training sequences =', num_train_sequences)\n",
    "    num_val_sequences = len(val_doc)\n",
    "    print('# validation sequences =', num_val_sequences)\n",
    "    \n",
    "    print ('# epochs =', num_epochs)\n",
    "    \n",
    "    \n",
    "    \n",
    "    train_generator = generator_new(source_path=train_path, folder_list=train_doc, batch_size=batch_size, sample_size=sample_size, image_height=image_height, image_width=image_width,augment=True)\n",
    "\n",
    "    val_generator = generator_new(source_path=val_path, folder_list=val_doc, batch_size=batch_size, sample_size=sample_size, image_height=image_height, image_width=image_width,augment=True)\n",
    "    model_name = 'model_init' + '_' + str(curr_dt_time).replace(' ','').replace(':','_') + '/'\n",
    "    \n",
    "    if not os.path.exists(model_name):\n",
    "        os.mkdir(model_name)\n",
    "            \n",
    "    filepath = model_name + 'model-{epoch:05d}-{loss:.5f}-{categorical_accuracy:.5f}-{val_loss:.5f}-{val_categorical_accuracy:.5f}.h5'\n",
    "\n",
    "    checkpoint = ModelCheckpoint(filepath, monitor='val_loss', verbose=1, save_best_only=True, save_weights_only=False, mode='auto', period=1)\n",
    "\n",
    "    LR = ReduceLROnPlateau(monitor='val_loss', factor=0.2, verbose=1, patience=4)\n",
    "    \n",
    "\n",
    "    callbacks_list = [checkpoint, LR]\n",
    "\n",
    "    if (num_train_sequences%batch_size) == 0:\n",
    "        steps_per_epoch = int(num_train_sequences/batch_size)\n",
    "    else:\n",
    "        steps_per_epoch = (num_train_sequences//batch_size) + 1\n",
    "\n",
    "    if (num_val_sequences%batch_size) == 0:\n",
    "        validation_steps = int(num_val_sequences/batch_size)\n",
    "    else:\n",
    "        validation_steps = (num_val_sequences//batch_size) + 1\n",
    "    \n",
    "    \n",
    "    history = model.fit(train_generator, steps_per_epoch=steps_per_epoch, epochs=num_epochs, verbose=1, \n",
    "                    callbacks=callbacks_list, validation_data=val_generator, \n",
    "                    validation_steps=validation_steps, class_weight=None, workers=1, initial_epoch=0)\n",
    "    return history\n",
    "    "
   ]
  },
  {
   "cell_type": "markdown",
   "metadata": {},
   "source": [
    "## Best performing model:\n",
    "### <b>Model 2:</b> \n",
    "### (please refer to the write-up document)\n",
    "#### Transfer learning (mobilenet) with training of all weights, augmentation(gray scaling),bigger GRU cells, dropouts and MaxPooling2D.\n"
   ]
  },
  {
   "cell_type": "code",
   "execution_count": 7,
   "metadata": {},
   "outputs": [
    {
     "name": "stdout",
     "output_type": "stream",
     "text": [
      "WARNING:tensorflow:`input_shape` is undefined or non-square, or `rows` is not in [128, 160, 192, 224]. Weights for input shape (224, 224) will be loaded as the default.\n",
      "Model: \"sequential\"\n",
      "_________________________________________________________________\n",
      " Layer (type)                Output Shape              Param #   \n",
      "=================================================================\n",
      " time_distributed (TimeDistr  (None, 16, 3, 3, 1024)   3228864   \n",
      " ibuted)                                                         \n",
      "                                                                 \n",
      " time_distributed_1 (TimeDis  (None, 16, 3, 3, 1024)   4096      \n",
      " tributed)                                                       \n",
      "                                                                 \n",
      " time_distributed_2 (TimeDis  (None, 16, 1, 1, 1024)   0         \n",
      " tributed)                                                       \n",
      "                                                                 \n",
      " time_distributed_3 (TimeDis  (None, 16, 1024)         0         \n",
      " tributed)                                                       \n",
      "                                                                 \n",
      " gru (GRU)                   (None, 128)               443136    \n",
      "                                                                 \n",
      " dropout (Dropout)           (None, 128)               0         \n",
      "                                                                 \n",
      " dense (Dense)               (None, 128)               16512     \n",
      "                                                                 \n",
      " dropout_1 (Dropout)         (None, 128)               0         \n",
      "                                                                 \n",
      " dense_1 (Dense)             (None, 5)                 645       \n",
      "                                                                 \n",
      "=================================================================\n",
      "Total params: 3,693,253\n",
      "Trainable params: 3,669,317\n",
      "Non-trainable params: 23,936\n",
      "_________________________________________________________________\n",
      "None\n"
     ]
    }
   ],
   "source": [
    "baseModel = mobilenet.MobileNet(weights='imagenet', include_top=False)\n",
    "model2=Sequential()\n",
    "model2.add(TimeDistributed(baseModel,input_shape=(16,120,120,3)))\n",
    "model2.add(TimeDistributed(BatchNormalization()))\n",
    "model2.add(TimeDistributed(MaxPooling2D((2,2))))\n",
    "model2.add(TimeDistributed(Flatten()))\n",
    "model2.add(GRU(128))\n",
    "model2.add(Dropout(0.25))\n",
    "model2.add(Dense(128,activation='relu'))\n",
    "model2.add(Dropout(0.25))\n",
    "model2.add(Dense(5,activation='softmax'))\n",
    "optimiser=tf.keras.optimizers.Adam()\n",
    "model2.compile(optimizer=optimiser, loss='categorical_crossentropy', metrics=['categorical_accuracy'])\n",
    "print (model2.summary())\n"
   ]
  },
  {
   "cell_type": "markdown",
   "metadata": {},
   "source": [
    "## Model training and plotting of the training and validation loss and accuracy values:\n",
    "#### <b>Training accuracy (categorical):</b> 0.9849\n",
    "#### <b>Validation accuracy (categorical):</b> 0.95"
   ]
  },
  {
   "cell_type": "code",
   "execution_count": 8,
   "metadata": {},
   "outputs": [
    {
     "name": "stdout",
     "output_type": "stream",
     "text": [
      "# training sequences = 663\n",
      "# validation sequences = 100\n",
      "# epochs = 30\n",
      "WARNING:tensorflow:`period` argument is deprecated. Please use `save_freq` to specify the frequency in number of batches seen.\n",
      "Epoch 1/30\n"
     ]
    },
    {
     "name": "stderr",
     "output_type": "stream",
     "text": [
      "2022-03-24 22:08:03.785681: W tensorflow/core/platform/profile_utils/cpu_utils.cc:128] Failed to get CPU frequency: 0 Hz\n"
     ]
    },
    {
     "name": "stdout",
     "output_type": "stream",
     "text": [
      "133/133 [==============================] - ETA: 0s - loss: 1.3813 - categorical_accuracy: 0.3982\n",
      "Epoch 1: val_loss improved from inf to 1.14192, saving model to model_init_2022-03-2422_08_02.163567/model-00001-1.38134-0.39819-1.14192-0.55000.h5\n",
      "133/133 [==============================] - 169s 1s/step - loss: 1.3813 - categorical_accuracy: 0.3982 - val_loss: 1.1419 - val_categorical_accuracy: 0.5500 - lr: 0.0010\n",
      "Epoch 2/30\n",
      "133/133 [==============================] - ETA: 0s - loss: 0.9428 - categorical_accuracy: 0.6425\n",
      "Epoch 2: val_loss improved from 1.14192 to 0.78568, saving model to model_init_2022-03-2422_08_02.163567/model-00002-0.94276-0.64253-0.78568-0.76000.h5\n",
      "133/133 [==============================] - 779s 6s/step - loss: 0.9428 - categorical_accuracy: 0.6425 - val_loss: 0.7857 - val_categorical_accuracy: 0.7600 - lr: 0.0010\n",
      "Epoch 3/30\n",
      "133/133 [==============================] - ETA: 0s - loss: 0.7617 - categorical_accuracy: 0.7285\n",
      "Epoch 3: val_loss improved from 0.78568 to 0.60718, saving model to model_init_2022-03-2422_08_02.163567/model-00003-0.76169-0.72851-0.60718-0.72000.h5\n",
      "133/133 [==============================] - 168s 1s/step - loss: 0.7617 - categorical_accuracy: 0.7285 - val_loss: 0.6072 - val_categorical_accuracy: 0.7200 - lr: 0.0010\n",
      "Epoch 4/30\n",
      "133/133 [==============================] - ETA: 0s - loss: 0.6532 - categorical_accuracy: 0.7602\n",
      "Epoch 4: val_loss did not improve from 0.60718\n",
      "133/133 [==============================] - 164s 1s/step - loss: 0.6532 - categorical_accuracy: 0.7602 - val_loss: 0.6093 - val_categorical_accuracy: 0.8000 - lr: 0.0010\n",
      "Epoch 5/30\n",
      "133/133 [==============================] - ETA: 0s - loss: 0.6429 - categorical_accuracy: 0.7722\n",
      "Epoch 5: val_loss improved from 0.60718 to 0.49823, saving model to model_init_2022-03-2422_08_02.163567/model-00005-0.64294-0.77225-0.49823-0.83000.h5\n",
      "133/133 [==============================] - 165s 1s/step - loss: 0.6429 - categorical_accuracy: 0.7722 - val_loss: 0.4982 - val_categorical_accuracy: 0.8300 - lr: 0.0010\n",
      "Epoch 6/30\n",
      "133/133 [==============================] - ETA: 0s - loss: 0.4733 - categorical_accuracy: 0.8296\n",
      "Epoch 6: val_loss improved from 0.49823 to 0.42480, saving model to model_init_2022-03-2422_08_02.163567/model-00006-0.47327-0.82956-0.42480-0.84000.h5\n",
      "133/133 [==============================] - 169s 1s/step - loss: 0.4733 - categorical_accuracy: 0.8296 - val_loss: 0.4248 - val_categorical_accuracy: 0.8400 - lr: 0.0010\n",
      "Epoch 7/30\n",
      "133/133 [==============================] - ETA: 0s - loss: 0.4707 - categorical_accuracy: 0.8235\n",
      "Epoch 7: val_loss did not improve from 0.42480\n",
      "133/133 [==============================] - 165s 1s/step - loss: 0.4707 - categorical_accuracy: 0.8235 - val_loss: 0.9487 - val_categorical_accuracy: 0.6600 - lr: 0.0010\n",
      "Epoch 8/30\n",
      "133/133 [==============================] - ETA: 0s - loss: 0.3748 - categorical_accuracy: 0.8824\n",
      "Epoch 8: val_loss did not improve from 0.42480\n",
      "133/133 [==============================] - 171s 1s/step - loss: 0.3748 - categorical_accuracy: 0.8824 - val_loss: 0.7523 - val_categorical_accuracy: 0.7300 - lr: 0.0010\n",
      "Epoch 9/30\n",
      "133/133 [==============================] - ETA: 0s - loss: 0.5114 - categorical_accuracy: 0.8537\n",
      "Epoch 9: val_loss improved from 0.42480 to 0.39911, saving model to model_init_2022-03-2422_08_02.163567/model-00009-0.51138-0.85370-0.39911-0.84000.h5\n",
      "133/133 [==============================] - 168s 1s/step - loss: 0.5114 - categorical_accuracy: 0.8537 - val_loss: 0.3991 - val_categorical_accuracy: 0.8400 - lr: 0.0010\n",
      "Epoch 10/30\n",
      "133/133 [==============================] - ETA: 0s - loss: 0.3573 - categorical_accuracy: 0.8763\n",
      "Epoch 10: val_loss did not improve from 0.39911\n",
      "133/133 [==============================] - 172s 1s/step - loss: 0.3573 - categorical_accuracy: 0.8763 - val_loss: 0.6572 - val_categorical_accuracy: 0.7300 - lr: 0.0010\n",
      "Epoch 11/30\n",
      "133/133 [==============================] - ETA: 0s - loss: 0.4204 - categorical_accuracy: 0.8567\n",
      "Epoch 11: val_loss did not improve from 0.39911\n",
      "133/133 [==============================] - 167s 1s/step - loss: 0.4204 - categorical_accuracy: 0.8567 - val_loss: 0.9213 - val_categorical_accuracy: 0.7100 - lr: 0.0010\n",
      "Epoch 12/30\n",
      "133/133 [==============================] - ETA: 0s - loss: 0.3320 - categorical_accuracy: 0.8959\n",
      "Epoch 12: val_loss improved from 0.39911 to 0.36245, saving model to model_init_2022-03-2422_08_02.163567/model-00012-0.33197-0.89593-0.36245-0.86000.h5\n",
      "133/133 [==============================] - 166s 1s/step - loss: 0.3320 - categorical_accuracy: 0.8959 - val_loss: 0.3625 - val_categorical_accuracy: 0.8600 - lr: 0.0010\n",
      "Epoch 13/30\n",
      "133/133 [==============================] - ETA: 0s - loss: 0.2883 - categorical_accuracy: 0.9110\n",
      "Epoch 13: val_loss improved from 0.36245 to 0.33737, saving model to model_init_2022-03-2422_08_02.163567/model-00013-0.28825-0.91101-0.33737-0.86000.h5\n",
      "133/133 [==============================] - 168s 1s/step - loss: 0.2883 - categorical_accuracy: 0.9110 - val_loss: 0.3374 - val_categorical_accuracy: 0.8600 - lr: 0.0010\n",
      "Epoch 14/30\n",
      "133/133 [==============================] - ETA: 0s - loss: 0.4333 - categorical_accuracy: 0.8703\n",
      "Epoch 14: val_loss did not improve from 0.33737\n",
      "133/133 [==============================] - 168s 1s/step - loss: 0.4333 - categorical_accuracy: 0.8703 - val_loss: 0.5199 - val_categorical_accuracy: 0.8100 - lr: 0.0010\n",
      "Epoch 15/30\n",
      "133/133 [==============================] - ETA: 0s - loss: 0.2521 - categorical_accuracy: 0.9291\n",
      "Epoch 15: val_loss did not improve from 0.33737\n",
      "133/133 [==============================] - 170s 1s/step - loss: 0.2521 - categorical_accuracy: 0.9291 - val_loss: 0.5160 - val_categorical_accuracy: 0.8100 - lr: 0.0010\n",
      "Epoch 16/30\n",
      "133/133 [==============================] - ETA: 0s - loss: 0.2812 - categorical_accuracy: 0.9065\n",
      "Epoch 16: val_loss improved from 0.33737 to 0.24419, saving model to model_init_2022-03-2422_08_02.163567/model-00016-0.28117-0.90649-0.24419-0.90000.h5\n",
      "133/133 [==============================] - 165s 1s/step - loss: 0.2812 - categorical_accuracy: 0.9065 - val_loss: 0.2442 - val_categorical_accuracy: 0.9000 - lr: 0.0010\n",
      "Epoch 17/30\n",
      "133/133 [==============================] - ETA: 0s - loss: 0.2442 - categorical_accuracy: 0.9291\n",
      "Epoch 17: val_loss did not improve from 0.24419\n",
      "133/133 [==============================] - 168s 1s/step - loss: 0.2442 - categorical_accuracy: 0.9291 - val_loss: 0.2502 - val_categorical_accuracy: 0.9100 - lr: 0.0010\n",
      "Epoch 18/30\n",
      "133/133 [==============================] - ETA: 0s - loss: 0.1737 - categorical_accuracy: 0.9442\n",
      "Epoch 18: val_loss did not improve from 0.24419\n",
      "133/133 [==============================] - 175s 1s/step - loss: 0.1737 - categorical_accuracy: 0.9442 - val_loss: 0.6324 - val_categorical_accuracy: 0.8000 - lr: 0.0010\n",
      "Epoch 19/30\n",
      "133/133 [==============================] - ETA: 0s - loss: 0.3851 - categorical_accuracy: 0.8854\n",
      "Epoch 19: val_loss did not improve from 0.24419\n",
      "133/133 [==============================] - 165s 1s/step - loss: 0.3851 - categorical_accuracy: 0.8854 - val_loss: 0.7087 - val_categorical_accuracy: 0.7600 - lr: 0.0010\n",
      "Epoch 20/30\n",
      "133/133 [==============================] - ETA: 0s - loss: 0.2289 - categorical_accuracy: 0.9261\n",
      "Epoch 20: val_loss did not improve from 0.24419\n",
      "\n",
      "Epoch 20: ReduceLROnPlateau reducing learning rate to 0.00020000000949949026.\n",
      "133/133 [==============================] - 170s 1s/step - loss: 0.2289 - categorical_accuracy: 0.9261 - val_loss: 0.3292 - val_categorical_accuracy: 0.9200 - lr: 0.0010\n",
      "Epoch 21/30\n",
      "133/133 [==============================] - ETA: 0s - loss: 0.1263 - categorical_accuracy: 0.9638\n",
      "Epoch 21: val_loss improved from 0.24419 to 0.23652, saving model to model_init_2022-03-2422_08_02.163567/model-00021-0.12628-0.96380-0.23652-0.95000.h5\n",
      "133/133 [==============================] - 134s 1s/step - loss: 0.1263 - categorical_accuracy: 0.9638 - val_loss: 0.2365 - val_categorical_accuracy: 0.9500 - lr: 2.0000e-04\n",
      "Epoch 22/30\n",
      "133/133 [==============================] - ETA: 0s - loss: 0.1310 - categorical_accuracy: 0.9638\n",
      "Epoch 22: val_loss did not improve from 0.23652\n",
      "133/133 [==============================] - 114s 856ms/step - loss: 0.1310 - categorical_accuracy: 0.9638 - val_loss: 0.2608 - val_categorical_accuracy: 0.9400 - lr: 2.0000e-04\n",
      "Epoch 23/30\n",
      "133/133 [==============================] - ETA: 0s - loss: 0.0858 - categorical_accuracy: 0.9759\n",
      "Epoch 23: val_loss did not improve from 0.23652\n",
      "133/133 [==============================] - 112s 844ms/step - loss: 0.0858 - categorical_accuracy: 0.9759 - val_loss: 0.2368 - val_categorical_accuracy: 0.9300 - lr: 2.0000e-04\n",
      "Epoch 24/30\n",
      "133/133 [==============================] - ETA: 0s - loss: 0.0825 - categorical_accuracy: 0.9729\n",
      "Epoch 24: val_loss improved from 0.23652 to 0.23640, saving model to model_init_2022-03-2422_08_02.163567/model-00024-0.08246-0.97285-0.23640-0.93000.h5\n",
      "133/133 [==============================] - 113s 851ms/step - loss: 0.0825 - categorical_accuracy: 0.9729 - val_loss: 0.2364 - val_categorical_accuracy: 0.9300 - lr: 2.0000e-04\n",
      "Epoch 25/30\n",
      "133/133 [==============================] - ETA: 0s - loss: 0.0485 - categorical_accuracy: 0.9879\n",
      "Epoch 25: val_loss did not improve from 0.23640\n",
      "133/133 [==============================] - 113s 854ms/step - loss: 0.0485 - categorical_accuracy: 0.9879 - val_loss: 0.4612 - val_categorical_accuracy: 0.9100 - lr: 2.0000e-04\n",
      "Epoch 26/30\n",
      "133/133 [==============================] - ETA: 0s - loss: 0.0609 - categorical_accuracy: 0.9849\n",
      "Epoch 26: val_loss improved from 0.23640 to 0.12423, saving model to model_init_2022-03-2422_08_02.163567/model-00026-0.06088-0.98492-0.12423-0.95000.h5\n",
      "133/133 [==============================] - 114s 859ms/step - loss: 0.0609 - categorical_accuracy: 0.9849 - val_loss: 0.1242 - val_categorical_accuracy: 0.9500 - lr: 2.0000e-04\n",
      "Epoch 27/30\n",
      "133/133 [==============================] - ETA: 0s - loss: 0.0449 - categorical_accuracy: 0.9864\n",
      "Epoch 27: val_loss did not improve from 0.12423\n",
      "133/133 [==============================] - 112s 847ms/step - loss: 0.0449 - categorical_accuracy: 0.9864 - val_loss: 0.3718 - val_categorical_accuracy: 0.9200 - lr: 2.0000e-04\n",
      "Epoch 28/30\n",
      "133/133 [==============================] - ETA: 0s - loss: 0.0336 - categorical_accuracy: 0.9925\n",
      "Epoch 28: val_loss did not improve from 0.12423\n",
      "133/133 [==============================] - 113s 848ms/step - loss: 0.0336 - categorical_accuracy: 0.9925 - val_loss: 0.2523 - val_categorical_accuracy: 0.9300 - lr: 2.0000e-04\n",
      "Epoch 29/30\n",
      "133/133 [==============================] - ETA: 0s - loss: 0.0226 - categorical_accuracy: 0.9970\n",
      "Epoch 29: val_loss did not improve from 0.12423\n",
      "133/133 [==============================] - 113s 853ms/step - loss: 0.0226 - categorical_accuracy: 0.9970 - val_loss: 0.2751 - val_categorical_accuracy: 0.9400 - lr: 2.0000e-04\n",
      "Epoch 30/30\n",
      "133/133 [==============================] - ETA: 0s - loss: 0.0254 - categorical_accuracy: 0.9940\n",
      "Epoch 30: val_loss did not improve from 0.12423\n",
      "\n",
      "Epoch 30: ReduceLROnPlateau reducing learning rate to 4.0000001899898055e-05.\n",
      "133/133 [==============================] - 113s 851ms/step - loss: 0.0254 - categorical_accuracy: 0.9940 - val_loss: 0.2061 - val_categorical_accuracy: 0.9400 - lr: 2.0000e-04\n"
     ]
    },
    {
     "data": {
      "image/png": "[encoded data removed]",
      "text/plain": [
       "<Figure size 1080x288 with 2 Axes>"
      ]
     },
     "metadata": {
      "needs_background": "light"
     },
     "output_type": "display_data"
    }
   ],
   "source": [
    "history2 = train_model(model2,batch_size=5,sample_size=16,num_epochs=30,image_height=120,image_width=120)\n",
    "plot(history2)"
   ]
  }
 ],
 "metadata": {
  "interpreter": {
   "hash": "b0fa6594d8f4cbf19f97940f81e996739fb7646882a419484c72d19e05852a7e"
  },
  "kernelspec": {
   "display_name": "Python 3.9.10 64-bit",
   "language": "python",
   "name": "python3"
  },
  "language_info": {
   "codemirror_mode": {
    "name": "ipython",
    "version": 3
   },
   "file_extension": ".py",
   "mimetype": "text/x-python",
   "name": "python",
   "nbconvert_exporter": "python",
   "pygments_lexer": "ipython3",
   "version": "3.9.10"
  }
 },
 "nbformat": 4,
 "nbformat_minor": 2
}
