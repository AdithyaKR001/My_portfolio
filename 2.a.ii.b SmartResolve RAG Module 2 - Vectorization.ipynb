{
 "cells": [
  {
   "cell_type": "code",
   "execution_count": null,
   "metadata": {},
   "outputs": [],
   "source": [
    "from langchain_core.documents import Document\n",
    "import os\n",
    "from dotenv import load_dotenv\n",
    "from gen_ai_hub.proxy.langchain.openai import ChatOpenAI\n",
    "from gen_ai_hub.proxy.langchain.openai import OpenAIEmbeddings\n",
    "from langchain.chains import RetrievalQA\n",
    "from langchain.text_splitter import CharacterTextSplitter\n",
    "from langchain_community.document_loaders import TextLoader\n",
    "from langchain_community.vectorstores.hanavector import HanaDB\n",
    "from hdbcli import dbapi\n",
    "# import os\n",
    "import configparser\n",
    "import pandas as pd\n"
   ]
  },
  {
   "cell_type": "code",
   "execution_count": null,
   "metadata": {},
   "outputs": [],
   "source": [
    "\n",
    "# For connecting to SAP AI Core:\n",
    "os.environ[\"AICORE_CLIENT_ID\"] = \"client_id\"\n",
    "os.environ[\"AICORE_CLIENT_SECRET\"] = \"client_secret\"\n",
    "os.environ[\"AICORE_AUTH_URL\"] = \"auth_url\"\n",
    "os.environ[\"AICORE_BASE_URL\"] = \"auth_base_url\"\n",
    "os.environ[\"AICORE_RESOURCE_GROUP\"]  = \"dev\"\n",
    "\n",
    "\n",
    "\n",
    "print(os.getenv(\"AICORE_BASE_URL\"))\n",
    "config = configparser.ConfigParser()\n",
    "connection = dbapi.connect(\n",
    "    address= 'hand_db_url'\n",
    "    port= '443',\n",
    "    user='hand_db_user', #config.get('hana', 'user'),\n",
    "    password='hand_db_password'\n",
    "    autocommit=True,\n",
    "    sslValidateCertificate=False\n",
    ")\n",
    "\n",
    "EMBEDDING_DEPLOYMENT_ID = 'embedding_model_instance_in_sap_ai_core_id'\n",
    "LLM_DEPLOYMENT_ID = 'llm_model_instance_in_sap_ai_core_id'\n",
    "\n",
    "# Define which model to use\n",
    "chat_llm = ChatOpenAI(deployment_id=LLM_DEPLOYMENT_ID)\n",
    "\n",
    "embeddings = OpenAIEmbeddings(deployment_id=EMBEDDING_DEPLOYMENT_ID)\n",
    "db = HanaDB(\n",
    "    embedding=embeddings, connection=connection, table_name=\"VECTOR_TABLE_NAME_IN_HANA_DB\"\n",
    ")"
   ]
  },
  {
   "cell_type": "code",
   "execution_count": null,
   "metadata": {},
   "outputs": [],
   "source": [
    "df_pd = pd.read_excel(\"PRE_PROCESSED_DATA.xlsx\")\n",
    "df_pd.head(5)"
   ]
  },
  {
   "cell_type": "code",
   "execution_count": 21,
   "metadata": {},
   "outputs": [],
   "source": [
    "def convert_to_textloader(df, text_column, metadata_column, chunk_size=500, chunk_overlap=100):\n",
    "    text_splitter = CharacterTextSplitter(chunk_size=chunk_size, chunk_overlap=chunk_overlap)\n",
    "    documents = []\n",
    "\n",
    "    for idx, row in df.iterrows():\n",
    "        text = row[text_column]\n",
    "        metadata = row[metadata_column]\n",
    "        \n",
    "        # Split the text into chunks\n",
    "        chunks = text_splitter.split_text(text)\n",
    "        \n",
    "        # Create Document objects with metadata and chunks\n",
    "        for chunk in chunks:\n",
    "            document = Document(page_content=chunk, metadata={\"metadata\":metadata})\n",
    "            documents.append(document)\n",
    "    \n",
    "    return documents"
   ]
  },
  {
   "cell_type": "code",
   "execution_count": null,
   "metadata": {},
   "outputs": [],
   "source": [
    "documents = convert_to_textloader(df_pd, text_column='Details', metadata_column='Metadata')"
   ]
  },
  {
   "cell_type": "code",
   "execution_count": null,
   "metadata": {},
   "outputs": [
    {
     "data": {
      "text/plain": [
       "[]"
      ]
     },
     "execution_count": 23,
     "metadata": {},
     "output_type": "execute_result"
    }
   ],
   "source": [
    "# Delete already existing documents from the table\n",
    "db.delete(filter={})\n"
   ]
  },
  {
   "cell_type": "code",
   "execution_count": null,
   "metadata": {},
   "outputs": [],
   "source": [
    "# Save the embeddings to the vector DB table\n",
    "db.add_documents(documents)"
   ]
  }
 ],
 "metadata": {
  "kernelspec": {
   "display_name": "testEnv",
   "language": "python",
   "name": "python3"
  },
  "language_info": {
   "codemirror_mode": {
    "name": "ipython",
    "version": 3
   },
   "file_extension": ".py",
   "mimetype": "text/x-python",
   "name": "python",
   "nbconvert_exporter": "python",
   "pygments_lexer": "ipython3",
   "version": "3.13.1"
  }
 },
 "nbformat": 4,
 "nbformat_minor": 2
}
